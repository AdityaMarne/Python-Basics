{
 "cells": [
  {
   "cell_type": "markdown",
   "id": "7fe89071",
   "metadata": {},
   "source": [
    "# 1.\tWrite a Python program to print \"Hello Python\"?"
   ]
  },
  {
   "cell_type": "code",
   "execution_count": 1,
   "id": "a2475d4d",
   "metadata": {},
   "outputs": [
    {
     "name": "stdout",
     "output_type": "stream",
     "text": [
      "Hello Python\n"
     ]
    }
   ],
   "source": [
    "print(\"Hello Python\")"
   ]
  },
  {
   "cell_type": "markdown",
   "id": "24c60072",
   "metadata": {},
   "source": [
    "# 2.\tWrite a Python program to do arithmetical operations addition and division.?"
   ]
  },
  {
   "cell_type": "code",
   "execution_count": 4,
   "id": "2b775f87",
   "metadata": {},
   "outputs": [],
   "source": [
    "a = 10+10\n",
    "b = 10/10"
   ]
  },
  {
   "cell_type": "code",
   "execution_count": 5,
   "id": "7312b36a",
   "metadata": {},
   "outputs": [
    {
     "data": {
      "text/plain": [
       "20"
      ]
     },
     "execution_count": 5,
     "metadata": {},
     "output_type": "execute_result"
    }
   ],
   "source": [
    "a"
   ]
  },
  {
   "cell_type": "code",
   "execution_count": 6,
   "id": "4348e4b2",
   "metadata": {},
   "outputs": [
    {
     "data": {
      "text/plain": [
       "1.0"
      ]
     },
     "execution_count": 6,
     "metadata": {},
     "output_type": "execute_result"
    }
   ],
   "source": [
    "b"
   ]
  },
  {
   "cell_type": "code",
   "execution_count": 17,
   "id": "525a6d9b",
   "metadata": {},
   "outputs": [
    {
     "name": "stdout",
     "output_type": "stream",
     "text": [
      "Enter a numbner :10\n"
     ]
    }
   ],
   "source": [
    "a = int(input(\"Enter a numbner :\"))"
   ]
  },
  {
   "cell_type": "code",
   "execution_count": 18,
   "id": "dfe317a8",
   "metadata": {},
   "outputs": [
    {
     "name": "stdout",
     "output_type": "stream",
     "text": [
      "Enter a number :10\n"
     ]
    }
   ],
   "source": [
    "b = int(input(\"Enter a number :\"))"
   ]
  },
  {
   "cell_type": "code",
   "execution_count": 19,
   "id": "b27bff1e",
   "metadata": {},
   "outputs": [],
   "source": [
    "class operation:\n",
    "    def __init__(self,a,b):\n",
    "        self.a = a\n",
    "        self.b = b\n",
    "    \n",
    "    def addition(self):\n",
    "        add = self.a + self.b\n",
    "        return add\n",
    "    \n",
    "    def division(self):\n",
    "        div = self.a / self.b\n",
    "        return div"
   ]
  },
  {
   "cell_type": "code",
   "execution_count": 20,
   "id": "f24ea7a8",
   "metadata": {},
   "outputs": [],
   "source": [
    "o = operation(a,b)"
   ]
  },
  {
   "cell_type": "code",
   "execution_count": 21,
   "id": "954375f8",
   "metadata": {},
   "outputs": [
    {
     "data": {
      "text/plain": [
       "20"
      ]
     },
     "execution_count": 21,
     "metadata": {},
     "output_type": "execute_result"
    }
   ],
   "source": [
    "o.addition()"
   ]
  },
  {
   "cell_type": "code",
   "execution_count": 23,
   "id": "98b0abca",
   "metadata": {},
   "outputs": [
    {
     "data": {
      "text/plain": [
       "1.0"
      ]
     },
     "execution_count": 23,
     "metadata": {},
     "output_type": "execute_result"
    }
   ],
   "source": [
    "o.division()"
   ]
  },
  {
   "cell_type": "markdown",
   "id": "a4ba0d21",
   "metadata": {},
   "source": [
    "# 3.\tWrite a Python program to find the area of a triangle?"
   ]
  },
  {
   "cell_type": "code",
   "execution_count": 24,
   "id": "82e3ba95",
   "metadata": {},
   "outputs": [],
   "source": [
    "class Area:\n",
    "    def __init__(self,b,h):\n",
    "        self.b = b\n",
    "        self.h = h\n",
    "        \n",
    "    def triangle(self):\n",
    "        return self.b*self.h/2"
   ]
  },
  {
   "cell_type": "code",
   "execution_count": 25,
   "id": "84987d06",
   "metadata": {},
   "outputs": [
    {
     "name": "stdout",
     "output_type": "stream",
     "text": [
      "Enter a number :10\n"
     ]
    }
   ],
   "source": [
    "a = int(input(\"Enter a number :\"))"
   ]
  },
  {
   "cell_type": "code",
   "execution_count": 26,
   "id": "c0e17c59",
   "metadata": {},
   "outputs": [
    {
     "name": "stdout",
     "output_type": "stream",
     "text": [
      "Enter a number :10\n"
     ]
    }
   ],
   "source": [
    "b = int(input(\"Enter a number :\"))"
   ]
  },
  {
   "cell_type": "code",
   "execution_count": 28,
   "id": "f5b0815a",
   "metadata": {},
   "outputs": [],
   "source": [
    "a = Area(a,b)"
   ]
  },
  {
   "cell_type": "code",
   "execution_count": 29,
   "id": "ba6b2d14",
   "metadata": {},
   "outputs": [
    {
     "data": {
      "text/plain": [
       "50.0"
      ]
     },
     "execution_count": 29,
     "metadata": {},
     "output_type": "execute_result"
    }
   ],
   "source": [
    "a.triangle()"
   ]
  },
  {
   "cell_type": "code",
   "execution_count": 30,
   "id": "589a216d",
   "metadata": {},
   "outputs": [
    {
     "data": {
      "text/plain": [
       "50.0"
      ]
     },
     "execution_count": 30,
     "metadata": {},
     "output_type": "execute_result"
    }
   ],
   "source": [
    "10*10/2"
   ]
  },
  {
   "cell_type": "markdown",
   "id": "aef54915",
   "metadata": {},
   "source": [
    "# 4.\tWrite a Python program to swap two variables?"
   ]
  },
  {
   "cell_type": "code",
   "execution_count": 32,
   "id": "1aeab493",
   "metadata": {},
   "outputs": [],
   "source": [
    "def swap(a,b):\n",
    "    swp = a\n",
    "    a = b\n",
    "    b = swp\n",
    "    print(\"a\",a)\n",
    "    print(\"b\",b)"
   ]
  },
  {
   "cell_type": "code",
   "execution_count": 33,
   "id": "3093abe6",
   "metadata": {},
   "outputs": [
    {
     "name": "stdout",
     "output_type": "stream",
     "text": [
      "a 11\n",
      "b 10\n"
     ]
    }
   ],
   "source": [
    "swap(10,11)"
   ]
  },
  {
   "cell_type": "markdown",
   "id": "d73859fd",
   "metadata": {},
   "source": [
    "# 5.\tWrite a Python program to generate a random number?"
   ]
  },
  {
   "cell_type": "code",
   "execution_count": 34,
   "id": "690f13a6",
   "metadata": {},
   "outputs": [
    {
     "name": "stdout",
     "output_type": "stream",
     "text": [
      "Random number : 59\n"
     ]
    }
   ],
   "source": [
    "import random\n",
    "\n",
    "random_number = random.randint(0,100)\n",
    "\n",
    "print(\"Random number :\",random_number)"
   ]
  },
  {
   "cell_type": "code",
   "execution_count": 36,
   "id": "179c7f21",
   "metadata": {},
   "outputs": [
    {
     "name": "stdout",
     "output_type": "stream",
     "text": [
      "0\n",
      "1\n",
      "2\n",
      "3\n",
      "4\n",
      "5\n",
      "6\n"
     ]
    }
   ],
   "source": [
    "for i in range(random.randint(0,10)):\n",
    "    print(i)"
   ]
  },
  {
   "cell_type": "code",
   "execution_count": null,
   "id": "1a9f7af4",
   "metadata": {},
   "outputs": [],
   "source": []
  }
 ],
 "metadata": {
  "kernelspec": {
   "display_name": "Python 3 (ipykernel)",
   "language": "python",
   "name": "python3"
  },
  "language_info": {
   "codemirror_mode": {
    "name": "ipython",
    "version": 3
   },
   "file_extension": ".py",
   "mimetype": "text/x-python",
   "name": "python",
   "nbconvert_exporter": "python",
   "pygments_lexer": "ipython3",
   "version": "3.9.13"
  }
 },
 "nbformat": 4,
 "nbformat_minor": 5
}
