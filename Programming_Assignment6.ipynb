{
 "cells": [
  {
   "cell_type": "markdown",
   "id": "2b54cf4d",
   "metadata": {},
   "source": [
    "# 1.\tWrite a Python Program to Display Fibonacci Sequence Using Recursion? "
   ]
  },
  {
   "cell_type": "code",
   "execution_count": 8,
   "id": "6410ff35",
   "metadata": {},
   "outputs": [
    {
     "name": "stdout",
     "output_type": "stream",
     "text": [
      "Enter a number :5\n"
     ]
    }
   ],
   "source": [
    "num = int(input(\"Enter a number :\"))"
   ]
  },
  {
   "cell_type": "code",
   "execution_count": 9,
   "id": "2ad0841b",
   "metadata": {},
   "outputs": [],
   "source": [
    "def fibonacci(num):\n",
    "    if num <= 1 :\n",
    "        return 1\n",
    "    return fibonacci(num-2) + fibonacci(num-1)"
   ]
  },
  {
   "cell_type": "code",
   "execution_count": 10,
   "id": "93473e15",
   "metadata": {},
   "outputs": [
    {
     "data": {
      "text/plain": [
       "8"
      ]
     },
     "execution_count": 10,
     "metadata": {},
     "output_type": "execute_result"
    }
   ],
   "source": [
    "fibonacci(num)"
   ]
  },
  {
   "cell_type": "markdown",
   "id": "d60aef8a",
   "metadata": {},
   "source": [
    "# 2.\tWrite a Python Program to Find Factorial of Number Using Recursion?"
   ]
  },
  {
   "cell_type": "code",
   "execution_count": 26,
   "id": "8ac39a2d",
   "metadata": {},
   "outputs": [
    {
     "name": "stdout",
     "output_type": "stream",
     "text": [
      "Enter a number :5\n"
     ]
    }
   ],
   "source": [
    "num = int(input(\"Enter a number :\"))"
   ]
  },
  {
   "cell_type": "code",
   "execution_count": 29,
   "id": "6de1fc44",
   "metadata": {},
   "outputs": [],
   "source": [
    "def fact(num):\n",
    "    if num == 0:\n",
    "        return 1\n",
    "    return fact(num-1)*num"
   ]
  },
  {
   "cell_type": "code",
   "execution_count": 30,
   "id": "a18cd6bd",
   "metadata": {},
   "outputs": [
    {
     "data": {
      "text/plain": [
       "120"
      ]
     },
     "execution_count": 30,
     "metadata": {},
     "output_type": "execute_result"
    }
   ],
   "source": [
    "fact(num)"
   ]
  },
  {
   "cell_type": "markdown",
   "id": "e07b87c5",
   "metadata": {},
   "source": [
    "# 3.\tWrite a Python Program to calculate your Body Mass Index?"
   ]
  },
  {
   "cell_type": "code",
   "execution_count": 31,
   "id": "cf07fd95",
   "metadata": {},
   "outputs": [
    {
     "name": "stdout",
     "output_type": "stream",
     "text": [
      "Enter your weight :75\n"
     ]
    }
   ],
   "source": [
    "weight = float(input(\"Enter your weight :\"))"
   ]
  },
  {
   "cell_type": "code",
   "execution_count": 32,
   "id": "b8993de0",
   "metadata": {},
   "outputs": [
    {
     "name": "stdout",
     "output_type": "stream",
     "text": [
      "Enter your height :1.75\n"
     ]
    }
   ],
   "source": [
    "height = float(input(\"Enter your height :\"))"
   ]
  },
  {
   "cell_type": "code",
   "execution_count": 36,
   "id": "ae529e84",
   "metadata": {},
   "outputs": [],
   "source": [
    "def BMI(weight,height):\n",
    "    heh = height * height\n",
    "    bmi = 75 / heh\n",
    "    return bmi"
   ]
  },
  {
   "cell_type": "code",
   "execution_count": 37,
   "id": "585e26e9",
   "metadata": {},
   "outputs": [
    {
     "data": {
      "text/plain": [
       "24.489795918367346"
      ]
     },
     "execution_count": 37,
     "metadata": {},
     "output_type": "execute_result"
    }
   ],
   "source": [
    "BMI(weight,height)"
   ]
  },
  {
   "cell_type": "markdown",
   "id": "1181d853",
   "metadata": {},
   "source": [
    "# 4.\tWrite a Python Program to calculate the natural logarithm of any number?"
   ]
  },
  {
   "cell_type": "code",
   "execution_count": 38,
   "id": "21ae89e2",
   "metadata": {},
   "outputs": [
    {
     "name": "stdout",
     "output_type": "stream",
     "text": [
      "The natural logarithm of 10 is 2.302585092994046\n"
     ]
    }
   ],
   "source": [
    "import math\n",
    "\n",
    "def calculate_log(n):\n",
    "    # Check if the number is positive\n",
    "    if n > 0:\n",
    "        return math.log(n)\n",
    "    else:\n",
    "        return \"Error: Can't calculate the natural logarithm of a non-positive number.\"\n",
    "\n",
    "# Test the function\n",
    "num = 10\n",
    "print(f\"The natural logarithm of {num} is {calculate_log(num)}\")\n"
   ]
  },
  {
   "cell_type": "code",
   "execution_count": null,
   "id": "2271fb43",
   "metadata": {},
   "outputs": [],
   "source": []
  },
  {
   "cell_type": "markdown",
   "id": "1dcc7f0e",
   "metadata": {},
   "source": [
    "# 5.\tWrite a Python Program for cube sum of first n natural numbers?"
   ]
  },
  {
   "cell_type": "code",
   "execution_count": 42,
   "id": "42a75a20",
   "metadata": {},
   "outputs": [],
   "source": [
    "def cub_sum(num):\n",
    "    sum = 0\n",
    "    for i in range(1,num+1):\n",
    "        cub = i*i*i\n",
    "        sum += cub\n",
    "    return sum"
   ]
  },
  {
   "cell_type": "code",
   "execution_count": 43,
   "id": "1af60a7c",
   "metadata": {},
   "outputs": [
    {
     "name": "stdout",
     "output_type": "stream",
     "text": [
      "1\n",
      "8\n",
      "27\n",
      "64\n",
      "125\n",
      "216\n",
      "343\n",
      "512\n",
      "729\n"
     ]
    }
   ],
   "source": [
    "for i in range(1,10):\n",
    "    print(i*i*i)"
   ]
  },
  {
   "cell_type": "code",
   "execution_count": null,
   "id": "9e2de39d",
   "metadata": {},
   "outputs": [],
   "source": []
  }
 ],
 "metadata": {
  "kernelspec": {
   "display_name": "Python 3 (ipykernel)",
   "language": "python",
   "name": "python3"
  },
  "language_info": {
   "codemirror_mode": {
    "name": "ipython",
    "version": 3
   },
   "file_extension": ".py",
   "mimetype": "text/x-python",
   "name": "python",
   "nbconvert_exporter": "python",
   "pygments_lexer": "ipython3",
   "version": "3.9.13"
  }
 },
 "nbformat": 4,
 "nbformat_minor": 5
}
