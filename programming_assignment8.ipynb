{
 "cells": [
  {
   "cell_type": "markdown",
   "id": "5d53bd6c",
   "metadata": {},
   "source": [
    "1.\tWrite a Python Program to Add Two Matrices?\n",
    "2.\tWrite a Python Program to Multiply Two Matrices?\n",
    "3.\tWrite a Python Program to Transpose a Matrix?\n",
    "4.\tWrite a Python Program to Sort Words in Alphabetic Order?\n",
    "5.\tWrite a Python Program to Remove Punctuation From a String?"
   ]
  },
  {
   "cell_type": "markdown",
   "id": "712bd87c",
   "metadata": {},
   "source": [
    "# 1.Write a Python Program to Add Two Matrices?"
   ]
  },
  {
   "cell_type": "code",
   "execution_count": 1,
   "id": "248f3af0",
   "metadata": {},
   "outputs": [],
   "source": [
    "mat1 = [[2,4,3],[5,7,8],[9,6,7]]\n",
    "mat2 = [[3,5,7],[8,3,4],[5,7,8]]"
   ]
  },
  {
   "cell_type": "code",
   "execution_count": 2,
   "id": "05ef91e5",
   "metadata": {},
   "outputs": [],
   "source": [
    "def mat_add(mat1,mat2):\n",
    "    mat_ad = []\n",
    "    lst = []\n",
    "    j = 0\n",
    "    for i in range(len(mat1)):\n",
    "        for j in range(len(mat1[i])):\n",
    "            lst.append(mat1[i][j] + mat2[i][j])\n",
    "        j = j+1\n",
    "        mat_ad.insert(j,lst)\n",
    "        lst = []\n",
    "    return mat_ad"
   ]
  },
  {
   "cell_type": "code",
   "execution_count": 3,
   "id": "3f8740c5",
   "metadata": {},
   "outputs": [
    {
     "data": {
      "text/plain": [
       "[[5, 9, 10], [13, 10, 12], [14, 13, 15]]"
      ]
     },
     "execution_count": 3,
     "metadata": {},
     "output_type": "execute_result"
    }
   ],
   "source": [
    "mat_add(mat1,mat2)"
   ]
  },
  {
   "cell_type": "markdown",
   "id": "fc3f6ec9",
   "metadata": {},
   "source": [
    "# 2.\tWrite a Python Program to Multiply Two Matrices?"
   ]
  },
  {
   "cell_type": "code",
   "execution_count": 4,
   "id": "c9c5516b",
   "metadata": {},
   "outputs": [],
   "source": [
    "mat1 = [[1, 2], [2, 3]] \n",
    "mat2 = [[4, 5], [6, 7]] "
   ]
  },
  {
   "cell_type": "code",
   "execution_count": 5,
   "id": "8b91f687",
   "metadata": {},
   "outputs": [],
   "source": [
    "import numpy as np\n",
    "def mat_mul(mat1,mat2):\n",
    "    mat_mul = np.dot(mat1,mat2)\n",
    "    return mat_mul"
   ]
  },
  {
   "cell_type": "code",
   "execution_count": 6,
   "id": "5d20b743",
   "metadata": {},
   "outputs": [
    {
     "data": {
      "text/plain": [
       "array([[16, 19],\n",
       "       [26, 31]])"
      ]
     },
     "execution_count": 6,
     "metadata": {},
     "output_type": "execute_result"
    }
   ],
   "source": [
    "mat_mul(mat1,mat2)"
   ]
  },
  {
   "cell_type": "markdown",
   "id": "fc82b9af",
   "metadata": {},
   "source": [
    "# 3.\tWrite a Python Program to Transpose a Matrix?"
   ]
  },
  {
   "cell_type": "code",
   "execution_count": 7,
   "id": "6a9fd706",
   "metadata": {},
   "outputs": [],
   "source": [
    "mat1 = [ [1, 1, 1, 1], \n",
    " [2, 2, 2, 2], \n",
    " [3, 3, 3, 3], \n",
    " [4, 4, 4, 4]] "
   ]
  },
  {
   "cell_type": "code",
   "execution_count": 8,
   "id": "d2a923ab",
   "metadata": {},
   "outputs": [],
   "source": [
    "def transpose_mat(mat1):\n",
    "    for i in range(len(mat1)):\n",
    "        for j in range(len(mat1)):\n",
    "            mat1[i][j] = mat1[j][i]\n",
    "    return mat1"
   ]
  },
  {
   "cell_type": "code",
   "execution_count": 9,
   "id": "acac2c50",
   "metadata": {},
   "outputs": [
    {
     "data": {
      "text/plain": [
       "[[1, 2, 3, 4], [2, 2, 3, 4], [3, 3, 3, 4], [4, 4, 4, 4]]"
      ]
     },
     "execution_count": 9,
     "metadata": {},
     "output_type": "execute_result"
    }
   ],
   "source": [
    "transpose_mat(mat1)"
   ]
  },
  {
   "cell_type": "markdown",
   "id": "7f4a52d6",
   "metadata": {},
   "source": [
    "# 4.\tWrite a Python Program to Sort Words in Alphabetic Order?"
   ]
  },
  {
   "cell_type": "code",
   "execution_count": 10,
   "id": "cf2da483",
   "metadata": {},
   "outputs": [
    {
     "name": "stdout",
     "output_type": "stream",
     "text": [
      "brown dog fox jumps lazy over quick the the\n"
     ]
    }
   ],
   "source": [
    "def Func(S):\n",
    "    W = S.split(\" \")\n",
    "    for i in range(len(W)):\n",
    "        # convert all the words into lowercase\n",
    "        W[i]=W[i].lower()  \n",
    "    S = sorted(W)\n",
    "    print(' '.join(S))\n",
    " \n",
    "# Driver code\n",
    "S = \"the Quick brown fox jumPs over the lazY Dog\"\n",
    " \n",
    "# function call\n",
    "Func(S)"
   ]
  },
  {
   "cell_type": "markdown",
   "id": "38afe2d0",
   "metadata": {},
   "source": [
    "# 5.\tWrite a Python Program to Remove Punctuation From a String?"
   ]
  },
  {
   "cell_type": "code",
   "execution_count": 11,
   "id": "12df2412",
   "metadata": {},
   "outputs": [
    {
     "name": "stdout",
     "output_type": "stream",
     "text": [
      "Hello he said and went\n"
     ]
    }
   ],
   "source": [
    "# define punctuation\n",
    "punctuations = '''!()-[]{};:'\"\\,<>./?@#$%^&*_~'''\n",
    "\n",
    "my_str = \"Hello!!!, he said ---and went.\"\n",
    "\n",
    "# To take input from the user\n",
    "# my_str = input(\"Enter a string: \")\n",
    "\n",
    "# remove punctuation from the string\n",
    "no_punct = \"\"\n",
    "for char in my_str:\n",
    "    if char not in punctuations:\n",
    "        no_punct = no_punct + char\n",
    "\n",
    "# display the unpunctuated string\n",
    "print(no_punct)"
   ]
  },
  {
   "cell_type": "code",
   "execution_count": 12,
   "id": "d5ea1c48",
   "metadata": {},
   "outputs": [
    {
     "name": "stdout",
     "output_type": "stream",
     "text": [
      "Gfg is best for  Geeks \n"
     ]
    }
   ],
   "source": [
    "import string\n",
    "\n",
    "test_str = 'Gfg, is best: for ! Geeks ;'\n",
    "test_str = test_str.translate(str.maketrans('', '', string.punctuation))\n",
    "print(test_str)\n"
   ]
  },
  {
   "cell_type": "code",
   "execution_count": 13,
   "id": "a74808cf",
   "metadata": {},
   "outputs": [
    {
     "name": "stdout",
     "output_type": "stream",
     "text": [
      "Gfg is best  for  Geeks \n"
     ]
    }
   ],
   "source": [
    "def remove_punctuation(input_string):\n",
    "    result = \"\"\n",
    "    for char in input_string:\n",
    "        if char not in string.punctuation:\n",
    "            result += char\n",
    "    return result\n",
    "\n",
    "input_string = \"Gfg, is best : for ! Geeks ;\"\n",
    "output_string = remove_punctuation(input_string)\n",
    "print(output_string)\n"
   ]
  },
  {
   "cell_type": "code",
   "execution_count": null,
   "id": "fc326948",
   "metadata": {},
   "outputs": [],
   "source": []
  }
 ],
 "metadata": {
  "kernelspec": {
   "display_name": "Python 3 (ipykernel)",
   "language": "python",
   "name": "python3"
  },
  "language_info": {
   "codemirror_mode": {
    "name": "ipython",
    "version": 3
   },
   "file_extension": ".py",
   "mimetype": "text/x-python",
   "name": "python",
   "nbconvert_exporter": "python",
   "pygments_lexer": "ipython3",
   "version": "3.9.13"
  }
 },
 "nbformat": 4,
 "nbformat_minor": 5
}
