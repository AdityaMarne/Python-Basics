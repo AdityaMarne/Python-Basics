{
 "cells": [
  {
   "cell_type": "code",
   "execution_count": null,
   "id": "6cffd082",
   "metadata": {},
   "outputs": [],
   "source": [
    "1. To what does a relative path refer?\n",
    "\n",
    "Ans :-\n",
    "A relative path, also known as a non-absolute or partial path, is a \n",
    "URL that comprises only a section of the entire path.\n",
    "\n",
    "The relative path is different from the absolute path, which discovers the\n",
    "file or folder starting from the file system’s root. "
   ]
  },
  {
   "cell_type": "code",
   "execution_count": null,
   "id": "e36e3a03",
   "metadata": {},
   "outputs": [],
   "source": []
  },
  {
   "cell_type": "code",
   "execution_count": null,
   "id": "5a3b5125",
   "metadata": {},
   "outputs": [],
   "source": [
    "2. What does an absolute path start with your operating system?\n",
    "\n",
    "Ans :-\n",
    "Absolute Path is the hierarchical path that locates a file or folder in a file \n",
    "system starting from the root. The absolute path of a file enables the location \n",
    "of the file to be precisely specified, independent of where the user’s current directory is located.\n",
    "\n",
    "In MS-DOS and Microsoft Windows platforms, the absolute path of a file is specified \n",
    "starting with a drive letter, followed by the hierarchy of directories in which the\n",
    "file is contained (with each directory separated by a backslash), and concluding with the exact filename."
   ]
  },
  {
   "cell_type": "code",
   "execution_count": null,
   "id": "2637a046",
   "metadata": {},
   "outputs": [],
   "source": []
  },
  {
   "cell_type": "code",
   "execution_count": null,
   "id": "48862024",
   "metadata": {},
   "outputs": [],
   "source": [
    "3. What do the functions os.getcwd() and os.chdir() do?\n",
    "\n",
    "Ans :-\n",
    "os.getcwd() method tells us the location of current working directory (CWD).\n",
    "os.chdir() method in Python used to change the current working directory to specified path. \n",
    "           It takes only a single argument as new directory path."
   ]
  },
  {
   "cell_type": "code",
   "execution_count": 1,
   "id": "c68c5549",
   "metadata": {},
   "outputs": [
    {
     "name": "stdout",
     "output_type": "stream",
     "text": [
      "Current working directory: C:\\Users\\adity\n"
     ]
    }
   ],
   "source": [
    "# importing os module \n",
    "import os \n",
    "    \n",
    "# Get the current working \n",
    "# directory (CWD) \n",
    "cwd = os.getcwd() \n",
    "    \n",
    "# Print the current working  \n",
    "# directory (CWD) \n",
    "print(\"Current working directory:\", cwd)"
   ]
  },
  {
   "cell_type": "code",
   "execution_count": null,
   "id": "6776c69e",
   "metadata": {},
   "outputs": [],
   "source": [
    "import os\n",
    " \n",
    "# change the current directory\n",
    "# to specified directory\n",
    "os.chdir(r\"C:\\Users\\Gfg\\Desktop\\geeks\")\n",
    " \n",
    "print(\"Directory changed\")"
   ]
  },
  {
   "cell_type": "code",
   "execution_count": null,
   "id": "125c23ed",
   "metadata": {},
   "outputs": [],
   "source": []
  },
  {
   "cell_type": "code",
   "execution_count": null,
   "id": "20e66974",
   "metadata": {},
   "outputs": [],
   "source": [
    "4. What are the . and .. folders?\n",
    "\n",
    "Ans :-\n",
    ". folder is the current folder, and .. is the parent folder."
   ]
  },
  {
   "cell_type": "code",
   "execution_count": null,
   "id": "4c6f14a9",
   "metadata": {},
   "outputs": [],
   "source": []
  },
  {
   "cell_type": "code",
   "execution_count": null,
   "id": "c90f62aa",
   "metadata": {},
   "outputs": [],
   "source": [
    "5. In C:\\bacon\\eggs\\spam.txt, which part is the dir name, and which part is the base name?\n",
    "    \n",
    "Ans :-\n",
    " C:\\bacon\\eggs is the dir name,\n",
    "spam.txt is the base name  "
   ]
  },
  {
   "cell_type": "code",
   "execution_count": null,
   "id": "902b5d8d",
   "metadata": {},
   "outputs": [],
   "source": []
  },
  {
   "cell_type": "code",
   "execution_count": null,
   "id": "dfc78591",
   "metadata": {},
   "outputs": [],
   "source": [
    "6. What are the three “mode” arguments that can be passed to the open() function?\n",
    "\n",
    "Ans :-\n",
    "'r' for read mode, \n",
    "'w' for write mode, \n",
    "'a' for append mode"
   ]
  },
  {
   "cell_type": "code",
   "execution_count": null,
   "id": "d1bd48d8",
   "metadata": {},
   "outputs": [],
   "source": []
  },
  {
   "cell_type": "code",
   "execution_count": null,
   "id": "e7178c1c",
   "metadata": {},
   "outputs": [],
   "source": [
    "7. What happens if an existing file is opened in write mode?\n",
    "\n",
    "Ans :-\n",
    "is erased and completely overwritten    "
   ]
  },
  {
   "cell_type": "code",
   "execution_count": null,
   "id": "59b497ac",
   "metadata": {},
   "outputs": [],
   "source": []
  },
  {
   "cell_type": "code",
   "execution_count": null,
   "id": "a345522f",
   "metadata": {},
   "outputs": [],
   "source": [
    "8. How do you tell the difference between read() and readlines()?\n",
    "\n",
    "Ans :-\n",
    "read() reads the entire file and returns a string\n",
    "readlines() returns a list of strings representing the lines of the file."
   ]
  },
  {
   "cell_type": "code",
   "execution_count": null,
   "id": "934c5373",
   "metadata": {},
   "outputs": [],
   "source": []
  },
  {
   "cell_type": "code",
   "execution_count": null,
   "id": "9c39664e",
   "metadata": {},
   "outputs": [],
   "source": [
    "9. What data structure does a shelf value resemble?\n",
    "\n",
    "Ans :-\n",
    "a dictionary value; it has keys and values, along with keys() and values()\n",
    "methods that work similarly to the dictionary methods of the same names."
   ]
  }
 ],
 "metadata": {
  "kernelspec": {
   "display_name": "Python 3 (ipykernel)",
   "language": "python",
   "name": "python3"
  },
  "language_info": {
   "codemirror_mode": {
    "name": "ipython",
    "version": 3
   },
   "file_extension": ".py",
   "mimetype": "text/x-python",
   "name": "python",
   "nbconvert_exporter": "python",
   "pygments_lexer": "ipython3",
   "version": "3.9.13"
  }
 },
 "nbformat": 4,
 "nbformat_minor": 5
}
