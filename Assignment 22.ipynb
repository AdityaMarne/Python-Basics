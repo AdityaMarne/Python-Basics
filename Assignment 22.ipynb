{
 "cells": [
  {
   "cell_type": "markdown",
   "id": "099c8762",
   "metadata": {},
   "source": [
    "1. What is the result of the code, and explain?\n",
    "\n",
    "\n",
    ">>> X = 'iNeuron'\n",
    ">>> def func():\n",
    "        print(X)\n",
    "\n",
    "\n",
    ">>> func()\n",
    "\n",
    "Explanation:\n",
    "Here we have assign string iNeuron to global variable X.\n",
    "Created a function fun which is used to print the value stored in variable X.\n",
    "At last line we call the function func()."
   ]
  },
  {
   "cell_type": "markdown",
   "id": "8c04146e",
   "metadata": {},
   "source": [
    "2. What is the result of the code, and explain?\n",
    "\n",
    "\n",
    ">>> X = 'iNeuron'\n",
    ">>> def func():\n",
    "        X = 'NI!'\n",
    "\n",
    "\n",
    ">>> func()\n",
    ">>> print(X)\n",
    "\n",
    "Explain:\n",
    "Here we have assign string iNeuron to global variable X.\n",
    "Created a function in this function we create a local variable X which is not accesiable outside the function.\n",
    "When we call this finction it does nothing.\n",
    "print(X) always print the global value of X "
   ]
  },
  {
   "cell_type": "markdown",
   "id": "28e256a4",
   "metadata": {},
   "source": [
    "3. What does this code print, and why?\n",
    "\n",
    "\n",
    ">>> X = 'iNeuron'\n",
    ">>> def func():\n",
    "        X = 'NI'\n",
    "        print(X)\n",
    "\n",
    "\n",
    ">>> func()\n",
    ">>> print(X)\n",
    "\n",
    "Explain:\n",
    "Here we have assign string iNeuron to global variable X.\n",
    "Created a function in this function we create a local variable X which is not accesiable outside the function.\n",
    "Inside the function we are printing the local Variable value X.\n",
    "after calling function func() the value of X='NI' will be printed.\n",
    "print(X) always print the global value of X i.e. iNeuron"
   ]
  },
  {
   "cell_type": "markdown",
   "id": "2f83fe7a",
   "metadata": {},
   "source": [
    "4. What output does this code produce? Why?\n",
    "\n",
    "\n",
    ">>> X = 'iNeuron'\n",
    ">>> def func():\n",
    "        global X\n",
    "        X = 'NI'\n",
    "\n",
    "\n",
    "func()\n",
    "print(X)\n",
    "\n",
    "Explain :\n",
    "Here we have assign string iNeuron to global variable X.\n",
    "Created a function in this function we create a local variable X which is not accesiable outside the function.\n",
    "Inside the function we are accessing the global variable X by using global keyword.\n",
    "after calling function func() the value of global variable X='NI'.\n",
    "print(X) always print the global value of X i.e. NI"
   ]
  },
  {
   "cell_type": "markdown",
   "id": "7912113d",
   "metadata": {},
   "source": [
    "5. What about this code—what’s the output, and why?\n",
    "\n",
    "\n",
    "X = 'iNeuron'\n",
    "def func():\n",
    "    X = 'NI'\n",
    "def nested():\n",
    "    print(X)\n",
    "    \n",
    "nested()\n",
    "func()\n",
    "X\n",
    "\n",
    "Explain :\n",
    "Here we assign the string 'iNeuron' to global variable X.\n",
    "created a function func() which assign the string 'NI' to local variable X.\n",
    "created a function nested() which prints the global variable value.\n",
    "After calling neste() the value of global variable X is printed i.e. iNeuron.\n",
    "func() create a local variable X and assign string 'NI' and does nothing.\n",
    "X will print the value of global variable X value."
   ]
  },
  {
   "cell_type": "markdown",
   "id": "acf27a93",
   "metadata": {},
   "source": [
    "6. How about this code: what is its output in Python 3, and explain?\n",
    "\n",
    "\n",
    "def func():\n",
    "     X = 'NI'\n",
    "def nested():\n",
    "    nonlocal X\n",
    "    X = 'Spam'\n",
    "    \n",
    "nested()\n",
    "print(X)\n",
    "func()\n",
    "\n",
    "Explain :\n",
    "Nonlocal variables are used in nested functions whose local scope is not defined. \n",
    "This means that the variable can be neither in the local nor the global scope. it print the updated value from nested \n",
    "function\n",
    "\n",
    "Sol : 'spam'"
   ]
  },
  {
   "cell_type": "code",
   "execution_count": null,
   "id": "042de713",
   "metadata": {},
   "outputs": [],
   "source": []
  },
  {
   "cell_type": "code",
   "execution_count": null,
   "id": "1f79df43",
   "metadata": {},
   "outputs": [],
   "source": []
  }
 ],
 "metadata": {
  "kernelspec": {
   "display_name": "Python 3 (ipykernel)",
   "language": "python",
   "name": "python3"
  },
  "language_info": {
   "codemirror_mode": {
    "name": "ipython",
    "version": 3
   },
   "file_extension": ".py",
   "mimetype": "text/x-python",
   "name": "python",
   "nbconvert_exporter": "python",
   "pygments_lexer": "ipython3",
   "version": "3.9.13"
  }
 },
 "nbformat": 4,
 "nbformat_minor": 5
}
