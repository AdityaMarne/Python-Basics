{
 "cells": [
  {
   "cell_type": "markdown",
   "id": "34f3a628",
   "metadata": {},
   "source": [
    "# Question 1:\n",
    "\n",
    "Define a class with a generator which can iterate the numbers, which are divisible by 7, between a given range 0 and n.\n",
    "\n",
    "# Question 2:\n",
    "Write a program to compute the frequency of the words from the input. The output should output after sorting the key alphanumerically. \n",
    "\n",
    "Suppose the following input is supplied to the program:\n",
    "\n",
    "New to Python or choosing between Python 2 and Python 3? Read Python 2 or Python 3.\n",
    "\n",
    "Then, the output should be:\n",
    "\n",
    "2:2\n",
    "\n",
    "3.:1\n",
    "\n",
    "3?:1\n",
    "\n",
    "New:1\n",
    "\n",
    "Python:5\n",
    "\n",
    "Read:1\n",
    "\n",
    "and:1\n",
    "\n",
    "between:1\n",
    "\n",
    "choosing:1\n",
    "\n",
    "or:2\n",
    "\n",
    "to:1\n",
    "\n",
    "# Question 3:\n",
    "\n",
    "\n",
    "\n",
    "Define a class Person and its two child classes: Male and Female. All classes have a method \"getGender\" which can print \"Male\" for Male class and \"Female\" for Female class.\n",
    "\n",
    "# Question 4:\n",
    "Please write a program to generate all sentences where subject is in [\"I\", \"You\"] and verb is in [\"Play\", \"Love\"] and the object is in [\"Hockey\",\"Football\"].\n",
    "\n",
    "\n",
    "# Question 5:\n",
    "Please write a program to compress and decompress the string \"hello world!hello world!hello world!hello world!\".\n",
    "\n",
    "# Question 6:\n",
    "Please write a binary search function which searches an item in a sorted list. The function should return the index of element to be searched in the list.\n"
   ]
  },
  {
   "cell_type": "markdown",
   "id": "9ee46c78",
   "metadata": {},
   "source": [
    "# Q1. Define a class with a generator which can iterate the numbers, which are divisible by 7, between a given range 0 and n."
   ]
  },
  {
   "cell_type": "code",
   "execution_count": 13,
   "id": "1bc7e527",
   "metadata": {},
   "outputs": [],
   "source": [
    "class Pro1:\n",
    "    def gen7DivNum(self,n):\n",
    "        for i in range(n):\n",
    "            if i % 7 == 0:\n",
    "                yield i"
   ]
  },
  {
   "cell_type": "code",
   "execution_count": 14,
   "id": "243189bd",
   "metadata": {},
   "outputs": [],
   "source": [
    "p1 = Pro1()"
   ]
  },
  {
   "cell_type": "code",
   "execution_count": 15,
   "id": "4cfa7f66",
   "metadata": {},
   "outputs": [
    {
     "data": {
      "text/plain": [
       "<generator object Pro1.gen7DivNum at 0x00000167B7CB93C0>"
      ]
     },
     "execution_count": 15,
     "metadata": {},
     "output_type": "execute_result"
    }
   ],
   "source": [
    "p1.gen7DivNum(15)"
   ]
  },
  {
   "cell_type": "code",
   "execution_count": 16,
   "id": "bcb782c1",
   "metadata": {},
   "outputs": [
    {
     "name": "stdout",
     "output_type": "stream",
     "text": [
      "0\n",
      "7\n",
      "14\n"
     ]
    }
   ],
   "source": [
    "for i in p1.gen7DivNum(15):\n",
    "    print(i)"
   ]
  },
  {
   "cell_type": "markdown",
   "id": "d54c6063",
   "metadata": {},
   "source": [
    "# Q2.Write a program to compute the frequency of the words from the input. The output should output after sorting the key alphanumerically.\n",
    "\n",
    "Suppose the following input is supplied to the program:\n",
    "\n",
    "New to Python or choosing between Python 2 and Python 3? Read Python 2 or Python 3.\n",
    "\n",
    "Then, the output should be:\n",
    "\n",
    "2:2\n",
    "\n",
    "3.:1\n",
    "\n",
    "3?:1\n",
    "\n",
    "New:1\n",
    "\n",
    "Python:5\n",
    "\n",
    "Read:1\n",
    "\n",
    "and:1\n",
    "\n",
    "between:1\n",
    "\n",
    "choosing:1\n",
    "\n",
    "or:2\n",
    "\n",
    "to:1"
   ]
  },
  {
   "cell_type": "code",
   "execution_count": 104,
   "id": "a50198bc",
   "metadata": {},
   "outputs": [],
   "source": [
    "class Pro2:\n",
    "    def compute_fre_word(self,string):\n",
    "        list = string.split()\n",
    "        choosen_word = []\n",
    "        count = 0\n",
    "        for i in range(len(list)):\n",
    "            for j in range(i,len(list)):\n",
    "                if list[i] == list[j] and list[i] not in choosen_word:\n",
    "                        count += 1\n",
    "            if list[i] not in choosen_word:\n",
    "                print(list[i],count)\n",
    "            count = 0\n",
    "            choosen_word.append(list[i])\n",
    "        #print(choosen_word)"
   ]
  },
  {
   "cell_type": "code",
   "execution_count": 105,
   "id": "4bcdb520",
   "metadata": {},
   "outputs": [],
   "source": [
    "string = \"New to Python or choosing between Python 2 and Python 3? Read Python 2 or Python 3.\""
   ]
  },
  {
   "cell_type": "code",
   "execution_count": 106,
   "id": "d890bc5e",
   "metadata": {},
   "outputs": [],
   "source": [
    "p2 = Pro2()"
   ]
  },
  {
   "cell_type": "code",
   "execution_count": 107,
   "id": "53d4c2c2",
   "metadata": {},
   "outputs": [
    {
     "name": "stdout",
     "output_type": "stream",
     "text": [
      "New 1\n",
      "to 1\n",
      "Python 5\n",
      "or 2\n",
      "choosing 1\n",
      "between 1\n",
      "2 2\n",
      "and 1\n",
      "3? 1\n",
      "Read 1\n",
      "3. 1\n",
      "['New', 'to', 'Python', 'or', 'choosing', 'between', 'Python', '2', 'and', 'Python', '3?', 'Read', 'Python', '2', 'or', 'Python', '3.']\n"
     ]
    }
   ],
   "source": [
    "p2.compute_fre_word(string)"
   ]
  },
  {
   "cell_type": "code",
   "execution_count": 108,
   "id": "e95a526f",
   "metadata": {},
   "outputs": [],
   "source": [
    "class Pro2:\n",
    "    def compute_fre_word(self,string):\n",
    "        dictionary = {}\n",
    "        list = string.split()\n",
    "        choosen_word = []\n",
    "        count = 0\n",
    "        for i in range(len(list)):\n",
    "            for j in range(i,len(list)):\n",
    "                if list[i] == list[j] and list[i] not in choosen_word:\n",
    "                        count += 1\n",
    "            if list[i] not in choosen_word:\n",
    "                dictionary[list[i]] = count\n",
    "            count = 0\n",
    "            choosen_word.append(list[i])\n",
    "        print(dictionary)"
   ]
  },
  {
   "cell_type": "code",
   "execution_count": 109,
   "id": "cedc8273",
   "metadata": {},
   "outputs": [],
   "source": [
    "string = \"New to Python or choosing between Python 2 and Python 3? Read Python 2 or Python 3.\""
   ]
  },
  {
   "cell_type": "code",
   "execution_count": 110,
   "id": "40f60f4b",
   "metadata": {},
   "outputs": [],
   "source": [
    "p2 = Pro2()"
   ]
  },
  {
   "cell_type": "code",
   "execution_count": 111,
   "id": "3ea1768a",
   "metadata": {},
   "outputs": [
    {
     "name": "stdout",
     "output_type": "stream",
     "text": [
      "{'New': 1, 'to': 1, 'Python': 5, 'or': 2, 'choosing': 1, 'between': 1, '2': 2, 'and': 1, '3?': 1, 'Read': 1, '3.': 1}\n"
     ]
    }
   ],
   "source": [
    "p2.compute_fre_word(string)"
   ]
  },
  {
   "cell_type": "markdown",
   "id": "cdbabd33",
   "metadata": {},
   "source": [
    "# Q3. Define a class Person and its two child classes: Male and Female. All classes have a method \"getGender\" which can print \"Male\" for Male class and \"Female\" for Female class."
   ]
  },
  {
   "cell_type": "code",
   "execution_count": 118,
   "id": "39cb8141",
   "metadata": {},
   "outputs": [],
   "source": [
    "class Person:\n",
    "    def getGender(self):\n",
    "        return \"Unknown\"\n",
    "\n",
    "class Male(Person):\n",
    "    def getGender(self):\n",
    "        return \"Male\"\n",
    "\n",
    "class Female(Person):\n",
    "    def getGender(self):\n",
    "        return \"Female\""
   ]
  },
  {
   "cell_type": "code",
   "execution_count": 119,
   "id": "d9ee558b",
   "metadata": {},
   "outputs": [],
   "source": [
    "# Example usage:\n",
    "male_person = Male()\n",
    "female_person = Female()"
   ]
  },
  {
   "cell_type": "code",
   "execution_count": 120,
   "id": "5d1afc81",
   "metadata": {},
   "outputs": [
    {
     "name": "stdout",
     "output_type": "stream",
     "text": [
      "Male\n",
      "Female\n"
     ]
    }
   ],
   "source": [
    "print(male_person.getGender())  \n",
    "print(female_person.getGender())  "
   ]
  },
  {
   "cell_type": "markdown",
   "id": "90a07bb0",
   "metadata": {},
   "source": [
    "# Q4.Please write a program to generate all sentences where subject is in [\"I\", \"You\"] and verb is in [\"Play\", \"Love\"] and the object is in [\"Hockey\",\"Football\"]."
   ]
  },
  {
   "cell_type": "code",
   "execution_count": 12,
   "id": "9b07a630",
   "metadata": {},
   "outputs": [],
   "source": [
    "class Pro4:\n",
    "    def generate_all_sentences(self):\n",
    "        subject = [\"I\",\"You\"]\n",
    "        verb = [\"Play\",\"Love\"]\n",
    "        objects = [\"Hockey\",\"Football\"]\n",
    "        for i in subject:\n",
    "            for j in verb:\n",
    "                for k in objects:\n",
    "                    print(i,j,k)"
   ]
  },
  {
   "cell_type": "code",
   "execution_count": 13,
   "id": "324c5d6a",
   "metadata": {},
   "outputs": [],
   "source": [
    "p4 = Pro4()"
   ]
  },
  {
   "cell_type": "code",
   "execution_count": 14,
   "id": "306f39f8",
   "metadata": {},
   "outputs": [
    {
     "name": "stdout",
     "output_type": "stream",
     "text": [
      "I Play Hockey\n",
      "I Play Football\n",
      "I Love Hockey\n",
      "I Love Football\n",
      "You Play Hockey\n",
      "You Play Football\n",
      "You Love Hockey\n",
      "You Love Football\n"
     ]
    }
   ],
   "source": [
    "p4.generate_all_sentences()"
   ]
  },
  {
   "cell_type": "code",
   "execution_count": null,
   "id": "a3e9ca57",
   "metadata": {},
   "outputs": [],
   "source": []
  },
  {
   "cell_type": "markdown",
   "id": "b4bc3ac1",
   "metadata": {},
   "source": [
    "# Q5. Please write a program to compress and decompress the string \"hello world!hello world!hello world!hello world!\"."
   ]
  },
  {
   "cell_type": "code",
   "execution_count": 4,
   "id": "d24775bd",
   "metadata": {},
   "outputs": [],
   "source": [
    "class Pro5:\n",
    "    import zlib\n",
    "    def compress_string(self,s):\n",
    "        compressed_data = zlib.compress(s.encode())\n",
    "        return compressed_data\n",
    "\n",
    "    def decompress_string(self,compressed_data):\n",
    "        decompressed_data = zlib.decompress(compressed_data).decode()\n",
    "        return decompressed_data"
   ]
  },
  {
   "cell_type": "code",
   "execution_count": 5,
   "id": "2bef6b81",
   "metadata": {},
   "outputs": [],
   "source": [
    "p5 = Pro5()"
   ]
  },
  {
   "cell_type": "code",
   "execution_count": null,
   "id": "eead984f",
   "metadata": {},
   "outputs": [],
   "source": [
    "p5.compress_string(\"hello world!hello world!hello world!hello world!\")"
   ]
  },
  {
   "cell_type": "code",
   "execution_count": null,
   "id": "db0f0ae3",
   "metadata": {},
   "outputs": [],
   "source": [
    "p5.decompress_string(\"hello world!hello world!hello world!hello world!\")"
   ]
  },
  {
   "cell_type": "markdown",
   "id": "ad7354d6",
   "metadata": {},
   "source": [
    "# Q6. Please write a binary search function which searches an item in a sorted list. The function should return the index of element to be searched in the list."
   ]
  },
  {
   "cell_type": "code",
   "execution_count": 82,
   "id": "8cbba84f",
   "metadata": {},
   "outputs": [],
   "source": [
    "class Pro6:\n",
    "    def bsf(self,lst,num):\n",
    "        lst.sort()\n",
    "        low = 0\n",
    "        high = len(lst)-1\n",
    "        #print(high)\n",
    "        mid = int((low+high) / 2)\n",
    "        #print(mid)\n",
    "        while low < high:\n",
    "            if num == lst[mid]:\n",
    "                return lst[mid]\n",
    "            if num == lst[low]:\n",
    "                return lst[low]\n",
    "            if num == lst[high]:\n",
    "                return lst[high]\n",
    "            if num < lst[mid]:\n",
    "                high = mid\n",
    "                mid = int((low+high) / 2)\n",
    "            if num > lst[mid]:\n",
    "                low = mid\n",
    "                mid = int((low+high) / 2)\n",
    "            if num > lst[high] or num < lst[low]:\n",
    "                print(\"Num not found\")\n",
    "                break"
   ]
  },
  {
   "cell_type": "code",
   "execution_count": 83,
   "id": "93f8620b",
   "metadata": {},
   "outputs": [],
   "source": [
    "p6 = Pro6()"
   ]
  },
  {
   "cell_type": "code",
   "execution_count": 85,
   "id": "4b9c2054",
   "metadata": {},
   "outputs": [
    {
     "name": "stdout",
     "output_type": "stream",
     "text": [
      "Num not found\n"
     ]
    }
   ],
   "source": [
    "p6.bsf([1,2,3,4,5,6],-1)"
   ]
  },
  {
   "cell_type": "code",
   "execution_count": null,
   "id": "2ebbed6b",
   "metadata": {},
   "outputs": [],
   "source": []
  },
  {
   "cell_type": "code",
   "execution_count": null,
   "id": "1f8d7f4a",
   "metadata": {},
   "outputs": [],
   "source": []
  },
  {
   "cell_type": "code",
   "execution_count": null,
   "id": "f0473bc3",
   "metadata": {},
   "outputs": [],
   "source": []
  }
 ],
 "metadata": {
  "kernelspec": {
   "display_name": "Python 3 (ipykernel)",
   "language": "python",
   "name": "python3"
  },
  "language_info": {
   "codemirror_mode": {
    "name": "ipython",
    "version": 3
   },
   "file_extension": ".py",
   "mimetype": "text/x-python",
   "name": "python",
   "nbconvert_exporter": "python",
   "pygments_lexer": "ipython3",
   "version": "3.9.13"
  }
 },
 "nbformat": 4,
 "nbformat_minor": 5
}
