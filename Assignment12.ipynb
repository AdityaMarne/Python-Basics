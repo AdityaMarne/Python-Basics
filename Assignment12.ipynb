{
 "cells": [
  {
   "cell_type": "markdown",
   "id": "301e077e",
   "metadata": {},
   "source": [
    "# 1. In what modes should the PdfFileReader() and PdfFileWriter() File objects will be opened?"
   ]
  },
  {
   "cell_type": "code",
   "execution_count": null,
   "id": "b8754434",
   "metadata": {},
   "outputs": [],
   "source": [
    "PdfFileReader():\n",
    "It is used for reading PDF files.\n",
    "Open it in binary mode with the rb flag after the open() function.\n",
    "Example: open(\"readthefile.pdf\", \"rb\")\n",
    "    \n",
    "PdfFileWriter():\n",
    "It is used for writing operations on PDF files.\n",
    "Open it in write-binary mode with the wb flag after the open() function.\n",
    "Example: open(\"outputfile.pdf\", \"wb\")"
   ]
  },
  {
   "cell_type": "markdown",
   "id": "84640a5e",
   "metadata": {},
   "source": [
    "# 2. From a PdfFileReader object, how do you get a Page object for page 5?"
   ]
  },
  {
   "cell_type": "code",
   "execution_count": null,
   "id": "69d798b6",
   "metadata": {},
   "outputs": [],
   "source": [
    "To get a Page object for page 5 from a PdfFileReader object, you can call the getPage() method on \n",
    "the PdfFileReader object and pass it the page number of the page you’re interested in"
   ]
  },
  {
   "cell_type": "code",
   "execution_count": null,
   "id": "c896850a",
   "metadata": {},
   "outputs": [],
   "source": [
    "import PyPDF2 as pdf\n",
    "pdfFileObj = open(\".pdf\",'rb')\n",
    "pdfReader = pdf.PdfFileReader(pdfFileObj)\n",
    "pageObj = pdfReader.getPage(4)\n",
    "pageObj.extractText()"
   ]
  },
  {
   "cell_type": "markdown",
   "id": "2928f7f4",
   "metadata": {},
   "source": [
    "# 3. What PdfFileReader variable stores the number of pages in the PDF document?"
   ]
  },
  {
   "cell_type": "code",
   "execution_count": null,
   "id": "9fbbe2d5",
   "metadata": {},
   "outputs": [],
   "source": [
    "numPages is a property of PdfReader Class that returns the total number of pages in the PDF file."
   ]
  },
  {
   "cell_type": "code",
   "execution_count": null,
   "id": "25604d9e",
   "metadata": {},
   "outputs": [],
   "source": [
    "import PyPDF2 as pdf\n",
    "pdfFileObj = open(\"cardealer.pdf\",'rb')\n",
    "pdfReader = pdf.PdfFileReader(pdfFileObj)\n",
    "pdfReader.numPages"
   ]
  },
  {
   "cell_type": "markdown",
   "id": "521ebd4a",
   "metadata": {},
   "source": [
    "# 4. If a PdfFileReader object’s PDF is encrypted with the password swordfish, what must you do before you can obtain Page objects from it?"
   ]
  },
  {
   "cell_type": "code",
   "execution_count": null,
   "id": "009fbcb8",
   "metadata": {},
   "outputs": [],
   "source": [
    "Before we obtain the page object, the pdf has to be decrypted by calling .decrypt('swordfish')\n",
    "\n",
    "pdfreader.decrypt(\"swordfish\") \n",
    "getpage(5)"
   ]
  },
  {
   "cell_type": "markdown",
   "id": "d5ef068d",
   "metadata": {},
   "source": [
    "# 5. What methods do you use to rotate a page?"
   ]
  },
  {
   "cell_type": "code",
   "execution_count": null,
   "id": "2042566c",
   "metadata": {},
   "outputs": [],
   "source": [
    "pageObj.rotateClockwise(180)\n",
    "\n",
    "The rotateClockwise() and rotateCounterClockwise() methods.\n",
    "The degrees to rotate is passed as an integer argument"
   ]
  },
  {
   "cell_type": "markdown",
   "id": "e2ba3cd8",
   "metadata": {},
   "source": [
    "# 6. What is the difference between a Run object and a Paragraph object? "
   ]
  },
  {
   "cell_type": "code",
   "execution_count": 5,
   "id": "98abd9e3",
   "metadata": {},
   "outputs": [],
   "source": [
    "Paragraph Object :  \n",
    "A paragraph is a block of text within a document. It encompasses specific formatting and attributes,\n",
    "such as alignment, indentation, and style.\n",
    "Paragraphs can contain one or more runs (text segments) with varying styles.\n",
    "Each paragraph has its own set of properties, including font size, color, and alignment.\n",
    "\n",
    "\n",
    "Run Objects :\n",
    "A run represents a contiguous sequence of text within a paragraph.\n",
    "Runs share the same style properties, such as font style, size, color, boldness, and italics.\n",
    "For instance, if you have a paragraph with different words in bold and regular text, each of \n",
    "these segments would be a separate run"
   ]
  },
  {
   "cell_type": "markdown",
   "id": "608200a1",
   "metadata": {},
   "source": [
    "# 7. How do you obtain a list of Paragraph objects for a Document object that’s stored in a variable named doc?"
   ]
  },
  {
   "cell_type": "code",
   "execution_count": null,
   "id": "77174ff5",
   "metadata": {},
   "outputs": [],
   "source": [
    "import docx\n",
    "doc = docx.Document('abc.docx')\n",
    "doc.paragraphs"
   ]
  },
  {
   "cell_type": "markdown",
   "id": "a4ace836",
   "metadata": {},
   "source": [
    "# 8. What type of object has bold, underline, italic, strike, and outline variables?"
   ]
  },
  {
   "cell_type": "code",
   "execution_count": null,
   "id": "152cd867",
   "metadata": {},
   "outputs": [],
   "source": [
    "A Run object has bold, underline,italic,strike and outline variables"
   ]
  },
  {
   "cell_type": "markdown",
   "id": "5afb7664",
   "metadata": {},
   "source": [
    "# 9. What is the difference between False, True, and None for the bold variable? "
   ]
  },
  {
   "cell_type": "code",
   "execution_count": null,
   "id": "173f3e40",
   "metadata": {},
   "outputs": [],
   "source": [
    "Runs can be further styled using text attributes. Each attribute can be set to one of three values:  \n",
    "True (the attribute is always enabled, no matter what other styles are applied to the run), \n",
    "False (the attribute is always disabled),\n",
    "None (defaults to whatever the run’s style is set to)\n",
    "\n",
    "True always makes the Run object bolded \n",
    "False makes it always not bolded, no matter what the style’s bold setting is. \n",
    "None will make the Run object just use the style’s bold setting"
   ]
  },
  {
   "cell_type": "markdown",
   "id": "cb1682ac",
   "metadata": {},
   "source": [
    "# 10. How do you create a Document object for a new Word document?"
   ]
  },
  {
   "cell_type": "code",
   "execution_count": null,
   "id": "2a751544",
   "metadata": {},
   "outputs": [],
   "source": [
    "By Calling the docx.Document() function."
   ]
  },
  {
   "cell_type": "markdown",
   "id": "db9050b3",
   "metadata": {},
   "source": [
    "# 11. How do you add a paragraph with the text 'Hello, there!' to a Document object stored in a variable named doc?"
   ]
  },
  {
   "cell_type": "code",
   "execution_count": null,
   "id": "7722ae4e",
   "metadata": {},
   "outputs": [],
   "source": [
    "import docx\n",
    "doc = docx.Document()\n",
    "\n",
    "doc.add_paragraph('Hello there!')\n",
    "doc.save('hellothere.docx')"
   ]
  },
  {
   "cell_type": "markdown",
   "id": "eb6566a2",
   "metadata": {},
   "source": [
    "# 12. What integers represent the levels of headings available in Word documents?"
   ]
  },
  {
   "cell_type": "code",
   "execution_count": null,
   "id": "04ce6643",
   "metadata": {},
   "outputs": [],
   "source": [
    "integer from 0 to 4\n",
    "The arguments to add_heading() are a string of the heading text and an integer from 0 to 4. \n",
    "The integer 0 makes the heading the Title style, which is used for the top of the document.\n",
    "Integers 1 to 4 are for various heading levels,with 1 being the main heading and 4 the lowest subheading"
   ]
  }
 ],
 "metadata": {
  "kernelspec": {
   "display_name": "Python 3 (ipykernel)",
   "language": "python",
   "name": "python3"
  },
  "language_info": {
   "codemirror_mode": {
    "name": "ipython",
    "version": 3
   },
   "file_extension": ".py",
   "mimetype": "text/x-python",
   "name": "python",
   "nbconvert_exporter": "python",
   "pygments_lexer": "ipython3",
   "version": "3.9.13"
  }
 },
 "nbformat": 4,
 "nbformat_minor": 5
}
