{
 "cells": [
  {
   "cell_type": "code",
   "execution_count": 2,
   "id": "229a1a02",
   "metadata": {},
   "outputs": [],
   "source": [
    "Question 1:\n",
    "Please write a program using generator to print the numbers which can be divisible by 5 and 7 between 0 and n in comma separated form while n is input by console.\n",
    "Example:\n",
    "If the following n is given as input to the program:\n",
    "100\n",
    "Then, the output of the program should be:\n",
    "0,35,70\n",
    "\n",
    "Question 2:\n",
    "Please write a program using generator to print the even numbers between 0 and n in comma separated form while n is input by console.\n",
    "Example:\n",
    "If the following n is given as input to the program:\n",
    "10\n",
    "Then, the output of the program should be:\n",
    "0,2,4,6,8,10\n",
    "\n",
    "Question 3:\n",
    "The Fibonacci Sequence is computed based on the following formula:\n",
    "f(n)=0 if n=0\n",
    "f(n)=1 if n=1\n",
    "f(n)=f(n-1)+f(n-2) if n>1\n",
    "Please write a program using list comprehension to print the Fibonacci Sequence in comma separated form with a given n input by console.\n",
    "Example:\n",
    "If the following n is given as input to the program:\n",
    "7\n",
    "\n",
    "Then, the output of the program should be:\n",
    "0,1,1,2,3,5,8,13\n",
    "\n",
    "Question 4:\n",
    "Assuming that we have some email addresses in the \"username@companyname.com\" format, please write program to print the user name of a given email address. Both user names and company names are composed of letters only.\n",
    "Example:\n",
    "If the following email address is given as input to the program:\n",
    "john@google.com\n",
    "Then, the output of the program should be:\n",
    "john\n",
    "\n",
    "Question 5:\n",
    "Define a class named Shape and its subclass Square. The Square class has an init function which takes a length as argument. Both classes have a area function which can print the area of the shape where Shape's area is 0 by default.\n",
    "\n"
   ]
  },
  {
   "cell_type": "markdown",
   "id": "f725b4ce",
   "metadata": {},
   "source": [
    "# Question 1:\n",
    "Please write a program using generator to print the numbers which can be divisible by 5 and 7 between 0 and n in comma separated form while n is input by console.\n",
    "Example:\n",
    "If the following n is given as input to the program:\n",
    "100\n",
    "Then, the output of the program should be:\n",
    "0,35,70"
   ]
  },
  {
   "cell_type": "code",
   "execution_count": 17,
   "id": "03a6bdd5",
   "metadata": {},
   "outputs": [],
   "source": [
    "class Pro1:\n",
    "    \n",
    "    def gen_number(self):\n",
    "        n = int(input(\"Enter a number :\"))\n",
    "        for i in range(n+1):\n",
    "            if i % 5 == 0 or i % 7 == 0:\n",
    "                yield i"
   ]
  },
  {
   "cell_type": "code",
   "execution_count": 18,
   "id": "a0dd6acf",
   "metadata": {},
   "outputs": [],
   "source": [
    "p1 = Pro1()"
   ]
  },
  {
   "cell_type": "code",
   "execution_count": 19,
   "id": "733f49f3",
   "metadata": {},
   "outputs": [
    {
     "name": "stdout",
     "output_type": "stream",
     "text": [
      "Enter a number :100\n",
      "0\n",
      "5\n",
      "7\n",
      "10\n",
      "14\n",
      "15\n",
      "20\n",
      "21\n",
      "25\n",
      "28\n",
      "30\n",
      "35\n",
      "40\n",
      "42\n",
      "45\n",
      "49\n",
      "50\n",
      "55\n",
      "56\n",
      "60\n",
      "63\n",
      "65\n",
      "70\n",
      "75\n",
      "77\n",
      "80\n",
      "84\n",
      "85\n",
      "90\n",
      "91\n",
      "95\n",
      "98\n",
      "100\n"
     ]
    }
   ],
   "source": [
    "for i in p1.gen_number():\n",
    "    print(i)"
   ]
  },
  {
   "cell_type": "markdown",
   "id": "0f6c3079",
   "metadata": {},
   "source": [
    "# Question 2:\n",
    "Please write a program using generator to print the even numbers between 0 and n in comma separated form while n is input by console.\n",
    "Example:\n",
    "If the following n is given as input to the program:\n",
    "10\n",
    "Then, the output of the program should be:\n",
    "0,2,4,6,8,10"
   ]
  },
  {
   "cell_type": "code",
   "execution_count": 20,
   "id": "9040ce91",
   "metadata": {},
   "outputs": [],
   "source": [
    "class Pro2:\n",
    "    def gen_even_num(self):\n",
    "        n = int(input(\"Enter a number :\"))\n",
    "        for i in range(n+1):\n",
    "            if i % 2 == 0:\n",
    "                yield i"
   ]
  },
  {
   "cell_type": "code",
   "execution_count": 21,
   "id": "4453412c",
   "metadata": {},
   "outputs": [],
   "source": [
    "p2 = Pro2()"
   ]
  },
  {
   "cell_type": "code",
   "execution_count": 22,
   "id": "23960dcb",
   "metadata": {},
   "outputs": [
    {
     "name": "stdout",
     "output_type": "stream",
     "text": [
      "Enter a number :10\n",
      "0\n",
      "2\n",
      "4\n",
      "6\n",
      "8\n",
      "10\n"
     ]
    }
   ],
   "source": [
    "for i in  p2.gen_even_num():\n",
    "    print(i)"
   ]
  },
  {
   "cell_type": "markdown",
   "id": "16ac1d57",
   "metadata": {},
   "source": [
    "# Question 3:\n",
    "The Fibonacci Sequence is computed based on the following formula:\n",
    "f(n)=0 if n=0\n",
    "f(n)=1 if n=1\n",
    "f(n)=f(n-1)+f(n-2) if n>1\n",
    "Please write a program using list comprehension to print the Fibonacci Sequence in comma separated form with a given n input by console.\n",
    "Example:\n",
    "If the following n is given as input to the program:\n",
    "7\n",
    "\n",
    "Then, the output of the program should be:\n",
    "0,1,1,2,3,5,8,13"
   ]
  },
  {
   "cell_type": "code",
   "execution_count": 26,
   "id": "62e77baf",
   "metadata": {},
   "outputs": [],
   "source": [
    "class Pro3:\n",
    "    def gen_fibonacci(self):\n",
    "        n = int(input(\"Enter a number :\"))\n",
    "        n1 = 1\n",
    "        n2 = 1\n",
    "        for i in range(n):\n",
    "            yield n1\n",
    "            n1,n2 = n2,n1+n2"
   ]
  },
  {
   "cell_type": "code",
   "execution_count": 27,
   "id": "e6c0feb3",
   "metadata": {},
   "outputs": [],
   "source": [
    "p3 = Pro3()"
   ]
  },
  {
   "cell_type": "code",
   "execution_count": 28,
   "id": "50dab639",
   "metadata": {},
   "outputs": [
    {
     "name": "stdout",
     "output_type": "stream",
     "text": [
      "Enter a number :10\n",
      "1\n",
      "1\n",
      "2\n",
      "3\n",
      "5\n",
      "8\n",
      "13\n",
      "21\n",
      "34\n",
      "55\n"
     ]
    }
   ],
   "source": [
    "for i in p3.gen_fibonacci():\n",
    "    print(i)"
   ]
  },
  {
   "cell_type": "markdown",
   "id": "197f17b2",
   "metadata": {},
   "source": [
    "# Question 4:\n",
    "Assuming that we have some email addresses in the \"username@companyname.com\" format, please write program to print the user name of a given email address. Both user names and company names are composed of letters only.\n",
    "Example:\n",
    "If the following email address is given as input to the program:\n",
    "john@google.com\n",
    "Then, the output of the program should be:\n",
    "john"
   ]
  },
  {
   "cell_type": "code",
   "execution_count": 37,
   "id": "dd206acd",
   "metadata": {},
   "outputs": [],
   "source": [
    "class Pro4:\n",
    "    \n",
    "    def get_name(self):\n",
    "        s = input(\"Enter email address :\")\n",
    "        index = s.index('@')\n",
    "        username = s[:index]\n",
    "        return username"
   ]
  },
  {
   "cell_type": "code",
   "execution_count": 38,
   "id": "7efd9273",
   "metadata": {},
   "outputs": [],
   "source": [
    "p4=Pro4()"
   ]
  },
  {
   "cell_type": "code",
   "execution_count": 39,
   "id": "6785e2c8",
   "metadata": {},
   "outputs": [
    {
     "name": "stdout",
     "output_type": "stream",
     "text": [
      "Enter email address :john@google.com\n"
     ]
    },
    {
     "data": {
      "text/plain": [
       "'john'"
      ]
     },
     "execution_count": 39,
     "metadata": {},
     "output_type": "execute_result"
    }
   ],
   "source": [
    "p4.get_name()"
   ]
  },
  {
   "cell_type": "markdown",
   "id": "ec982b57",
   "metadata": {},
   "source": [
    "### Question 5:\n",
    "Define a class named Shape and its subclass Square. The Square class has an init function which takes a length as argument. Both classes have a area function which can print the area of the shape where Shape's area is 0 by default."
   ]
  },
  {
   "cell_type": "code",
   "execution_count": 1,
   "id": "753ce1c2",
   "metadata": {},
   "outputs": [
    {
     "name": "stdout",
     "output_type": "stream",
     "text": [
      "Area of shape: 0\n",
      "Area of square: 16\n"
     ]
    }
   ],
   "source": [
    "class Shape:\n",
    "    def area(self):\n",
    "        return 0\n",
    "\n",
    "class Square(Shape):\n",
    "    def __init__(self, length):\n",
    "        self.length = length\n",
    "\n",
    "    def area(self):\n",
    "        return self.length * self.length\n",
    "\n",
    "# Example usage:\n",
    "shape = Shape()\n",
    "square = Square(4)\n",
    "\n",
    "print(\"Area of shape:\", shape.area())  # Output: 0\n",
    "print(\"Area of square:\", square.area())  # Output: 16\n"
   ]
  },
  {
   "cell_type": "code",
   "execution_count": null,
   "id": "9300bf13",
   "metadata": {},
   "outputs": [],
   "source": []
  }
 ],
 "metadata": {
  "kernelspec": {
   "display_name": "Python 3 (ipykernel)",
   "language": "python",
   "name": "python3"
  },
  "language_info": {
   "codemirror_mode": {
    "name": "ipython",
    "version": 3
   },
   "file_extension": ".py",
   "mimetype": "text/x-python",
   "name": "python",
   "nbconvert_exporter": "python",
   "pygments_lexer": "ipython3",
   "version": "3.10.10"
  }
 },
 "nbformat": 4,
 "nbformat_minor": 5
}
