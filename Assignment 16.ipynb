{
 "cells": [
  {
   "cell_type": "markdown",
   "id": "9474ec2a",
   "metadata": {},
   "source": [
    "# 1. Create a list called years_list, starting with the year of your birth, and each year thereafter until the year of your fifth birthday. For example, if you were born in 1980. the list would be years_list = [1980, 1981, 1982, 1983, 1984, 1985]."
   ]
  },
  {
   "cell_type": "code",
   "execution_count": 1,
   "id": "b971d925",
   "metadata": {},
   "outputs": [
    {
     "name": "stdout",
     "output_type": "stream",
     "text": [
      "[2001, 2002, 2003, 2004, 2005, 2006, 2007, 2008, 2009, 2010, 2011, 2012, 2013, 2014, 2015, 2016, 2017, 2018, 2019, 2020, 2021, 2022, 2023, 2024]\n"
     ]
    }
   ],
   "source": [
    "years_list = []\n",
    "for i in range(2001,2025):\n",
    "    years_list.append(i)\n",
    "    \n",
    "print(years_list)"
   ]
  },
  {
   "cell_type": "code",
   "execution_count": 2,
   "id": "5532d9cc",
   "metadata": {},
   "outputs": [],
   "source": [
    "years_list = [i for i in range(2001,2025)]"
   ]
  },
  {
   "cell_type": "code",
   "execution_count": 3,
   "id": "9ffcd332",
   "metadata": {},
   "outputs": [
    {
     "data": {
      "text/plain": [
       "[2001,\n",
       " 2002,\n",
       " 2003,\n",
       " 2004,\n",
       " 2005,\n",
       " 2006,\n",
       " 2007,\n",
       " 2008,\n",
       " 2009,\n",
       " 2010,\n",
       " 2011,\n",
       " 2012,\n",
       " 2013,\n",
       " 2014,\n",
       " 2015,\n",
       " 2016,\n",
       " 2017,\n",
       " 2018,\n",
       " 2019,\n",
       " 2020,\n",
       " 2021,\n",
       " 2022,\n",
       " 2023,\n",
       " 2024]"
      ]
     },
     "execution_count": 3,
     "metadata": {},
     "output_type": "execute_result"
    }
   ],
   "source": [
    "years_list"
   ]
  },
  {
   "cell_type": "markdown",
   "id": "a4e93cc4",
   "metadata": {},
   "source": [
    "# 2. In which year in years_list was your third birthday? Remember, you were 0 years of age for your first year."
   ]
  },
  {
   "cell_type": "code",
   "execution_count": 4,
   "id": "cd1e5291",
   "metadata": {},
   "outputs": [
    {
     "data": {
      "text/plain": [
       "2003"
      ]
     },
     "execution_count": 4,
     "metadata": {},
     "output_type": "execute_result"
    }
   ],
   "source": [
    "years_list[2]"
   ]
  },
  {
   "cell_type": "markdown",
   "id": "2f376596",
   "metadata": {},
   "source": [
    "# 3.In the years list, which year were you the oldest?"
   ]
  },
  {
   "cell_type": "code",
   "execution_count": 7,
   "id": "56421b45",
   "metadata": {},
   "outputs": [
    {
     "data": {
      "text/plain": [
       "2024"
      ]
     },
     "execution_count": 7,
     "metadata": {},
     "output_type": "execute_result"
    }
   ],
   "source": [
    "max(years_list)"
   ]
  },
  {
   "cell_type": "code",
   "execution_count": 8,
   "id": "5ae4eddb",
   "metadata": {},
   "outputs": [
    {
     "data": {
      "text/plain": [
       "2024"
      ]
     },
     "execution_count": 8,
     "metadata": {},
     "output_type": "execute_result"
    }
   ],
   "source": [
    "years_list[-1]"
   ]
  },
  {
   "cell_type": "markdown",
   "id": "fe48b20d",
   "metadata": {},
   "source": [
    "# 4. Make a list called things with these three strings as elements: \"mozzarella\", \"cinderella\", \"salmonella\"."
   ]
  },
  {
   "cell_type": "code",
   "execution_count": 9,
   "id": "f2d8d51e",
   "metadata": {},
   "outputs": [],
   "source": [
    "things = [\"mozzarella\",\"cinderella\",\"salmonella\"]"
   ]
  },
  {
   "cell_type": "markdown",
   "id": "6ed171fc",
   "metadata": {},
   "source": [
    "# 5. Capitalize the element in things that refers to a person and then print the list. Did it change the element in the list?"
   ]
  },
  {
   "cell_type": "code",
   "execution_count": 10,
   "id": "524bc2ff",
   "metadata": {},
   "outputs": [
    {
     "name": "stdout",
     "output_type": "stream",
     "text": [
      "Mozzarella\n",
      "Cinderella\n",
      "Salmonella\n"
     ]
    },
    {
     "data": {
      "text/plain": [
       "['mozzarella', 'cinderella', 'salmonella']"
      ]
     },
     "execution_count": 10,
     "metadata": {},
     "output_type": "execute_result"
    }
   ],
   "source": [
    "for i in things:\n",
    "    print(i.capitalize())\n",
    "things\n",
    "#Capitalize() will not update the list original values."
   ]
  },
  {
   "cell_type": "markdown",
   "id": "bd9ad1f7",
   "metadata": {},
   "source": [
    "# 6. Make a surprise list with the elements \"Groucho,\" \"Chico,\" and \"Harpo.\""
   ]
  },
  {
   "cell_type": "code",
   "execution_count": 11,
   "id": "5a78f5d0",
   "metadata": {},
   "outputs": [],
   "source": [
    "surprise = [\"Groucho\",\"Chico\",\"Harpo\"]"
   ]
  },
  {
   "cell_type": "markdown",
   "id": "9c8f3241",
   "metadata": {},
   "source": [
    "# 7. Lowercase the last element of the surprise list, reverse it, and then capitalize it."
   ]
  },
  {
   "cell_type": "code",
   "execution_count": 12,
   "id": "74302a4e",
   "metadata": {},
   "outputs": [
    {
     "data": {
      "text/plain": [
       "'harpo'"
      ]
     },
     "execution_count": 12,
     "metadata": {},
     "output_type": "execute_result"
    }
   ],
   "source": [
    "surprise[-1].lower()"
   ]
  },
  {
   "cell_type": "code",
   "execution_count": 14,
   "id": "74c7ab47",
   "metadata": {},
   "outputs": [
    {
     "data": {
      "text/plain": [
       "'opraH'"
      ]
     },
     "execution_count": 14,
     "metadata": {},
     "output_type": "execute_result"
    }
   ],
   "source": [
    "surprise[-1][::-1]"
   ]
  },
  {
   "cell_type": "code",
   "execution_count": 17,
   "id": "4f2b142e",
   "metadata": {},
   "outputs": [
    {
     "data": {
      "text/plain": [
       "'OPRAH'"
      ]
     },
     "execution_count": 17,
     "metadata": {},
     "output_type": "execute_result"
    }
   ],
   "source": [
    "surprise[-1][::-1].upper()"
   ]
  },
  {
   "cell_type": "markdown",
   "id": "1b5bcdc9",
   "metadata": {},
   "source": [
    "# 8. Make an English-to-French dictionary called e2f and print it. Here are your starter words: dog is chien, cat is chat, and walrus is morse."
   ]
  },
  {
   "cell_type": "code",
   "execution_count": 18,
   "id": "544e3c83",
   "metadata": {},
   "outputs": [],
   "source": [
    "e2f = {\"dog\":\"chien\",\"cat\":\"chat\",\"walrus\":\"morse\"}"
   ]
  },
  {
   "cell_type": "markdown",
   "id": "a2586693",
   "metadata": {},
   "source": [
    "# 9. Write the French word for walrus in your three-word dictionary e2f."
   ]
  },
  {
   "cell_type": "code",
   "execution_count": 19,
   "id": "9b3dbaec",
   "metadata": {},
   "outputs": [
    {
     "data": {
      "text/plain": [
       "'morse'"
      ]
     },
     "execution_count": 19,
     "metadata": {},
     "output_type": "execute_result"
    }
   ],
   "source": [
    "e2f[\"walrus\"]"
   ]
  },
  {
   "cell_type": "markdown",
   "id": "e8c2b69d",
   "metadata": {},
   "source": [
    "# 10. Make a French-to-English dictionary called f2e from e2f. Use the items method"
   ]
  },
  {
   "cell_type": "code",
   "execution_count": 27,
   "id": "ffbdf9f1",
   "metadata": {},
   "outputs": [],
   "source": [
    "f2e = dict((key,value) for value,key in e2f.items())"
   ]
  },
  {
   "cell_type": "code",
   "execution_count": 28,
   "id": "b01ed905",
   "metadata": {},
   "outputs": [
    {
     "data": {
      "text/plain": [
       "{'chien': 'dog', 'chat': 'cat', 'morse': 'walrus'}"
      ]
     },
     "execution_count": 28,
     "metadata": {},
     "output_type": "execute_result"
    }
   ],
   "source": [
    "f2e"
   ]
  },
  {
   "cell_type": "markdown",
   "id": "7ac7c299",
   "metadata": {},
   "source": [
    "# 11. Print the English version of the French word chien using f2e."
   ]
  },
  {
   "cell_type": "code",
   "execution_count": 30,
   "id": "dcb21dfc",
   "metadata": {},
   "outputs": [
    {
     "data": {
      "text/plain": [
       "'dog'"
      ]
     },
     "execution_count": 30,
     "metadata": {},
     "output_type": "execute_result"
    }
   ],
   "source": [
    "f2e['chien']"
   ]
  },
  {
   "cell_type": "markdown",
   "id": "0f8412c5",
   "metadata": {},
   "source": [
    "# 12. Make and print a set of English words from the keys in e2f."
   ]
  },
  {
   "cell_type": "code",
   "execution_count": 31,
   "id": "4613e77a",
   "metadata": {},
   "outputs": [
    {
     "data": {
      "text/plain": [
       "{'dog': 'chien', 'cat': 'chat', 'walrus': 'morse'}"
      ]
     },
     "execution_count": 31,
     "metadata": {},
     "output_type": "execute_result"
    }
   ],
   "source": [
    "e2f"
   ]
  },
  {
   "cell_type": "code",
   "execution_count": 32,
   "id": "b4c1d4b6",
   "metadata": {},
   "outputs": [
    {
     "data": {
      "text/plain": [
       "dict_keys(['dog', 'cat', 'walrus'])"
      ]
     },
     "execution_count": 32,
     "metadata": {},
     "output_type": "execute_result"
    }
   ],
   "source": [
    "e2f.keys()"
   ]
  },
  {
   "cell_type": "markdown",
   "id": "e428d971",
   "metadata": {},
   "source": [
    "# 13. Make a multilevel dictionary called life. Use these strings for the topmost keys: 'animals', 'plants', and 'other'. Make the 'animals' key refer to another dictionary with the keys 'cats', 'octopi', and 'emus'. Make the 'cats' key refer to a list of strings with the values 'Henri', 'Grumpy', and 'Lucy'. Make all the other keys refer to empty dictionaries."
   ]
  },
  {
   "cell_type": "code",
   "execution_count": 34,
   "id": "6763105b",
   "metadata": {},
   "outputs": [],
   "source": [
    "life ={'animals':{'cat':['Henri', 'Grumpy', 'Lucy'], 'octopi':'', 'emus':''},\n",
    "       'plants' :'',\n",
    "       'other' :'' }"
   ]
  },
  {
   "cell_type": "code",
   "execution_count": 35,
   "id": "29e14fd6",
   "metadata": {},
   "outputs": [
    {
     "data": {
      "text/plain": [
       "{'animals': {'cat': ['Henri', 'Grumpy', 'Lucy'], 'octopi': '', 'emus': ''},\n",
       " 'plants': '',\n",
       " 'other': ''}"
      ]
     },
     "execution_count": 35,
     "metadata": {},
     "output_type": "execute_result"
    }
   ],
   "source": [
    "life"
   ]
  },
  {
   "cell_type": "markdown",
   "id": "ba33f1f5",
   "metadata": {},
   "source": [
    "# 14. Print the top-level keys of life."
   ]
  },
  {
   "cell_type": "code",
   "execution_count": 36,
   "id": "1dd846ed",
   "metadata": {},
   "outputs": [
    {
     "data": {
      "text/plain": [
       "dict_keys(['animals', 'plants', 'other'])"
      ]
     },
     "execution_count": 36,
     "metadata": {},
     "output_type": "execute_result"
    }
   ],
   "source": [
    "life.keys()"
   ]
  },
  {
   "cell_type": "markdown",
   "id": "a8a9e987",
   "metadata": {},
   "source": [
    "# 15. Print the keys for life['animals']."
   ]
  },
  {
   "cell_type": "code",
   "execution_count": 37,
   "id": "903764c0",
   "metadata": {},
   "outputs": [
    {
     "data": {
      "text/plain": [
       "{'cat': ['Henri', 'Grumpy', 'Lucy'], 'octopi': '', 'emus': ''}"
      ]
     },
     "execution_count": 37,
     "metadata": {},
     "output_type": "execute_result"
    }
   ],
   "source": [
    "life['animals']"
   ]
  },
  {
   "cell_type": "markdown",
   "id": "563c8aff",
   "metadata": {},
   "source": [
    "#"
   ]
  }
 ],
 "metadata": {
  "kernelspec": {
   "display_name": "Python 3 (ipykernel)",
   "language": "python",
   "name": "python3"
  },
  "language_info": {
   "codemirror_mode": {
    "name": "ipython",
    "version": 3
   },
   "file_extension": ".py",
   "mimetype": "text/x-python",
   "name": "python",
   "nbconvert_exporter": "python",
   "pygments_lexer": "ipython3",
   "version": "3.9.13"
  }
 },
 "nbformat": 4,
 "nbformat_minor": 5
}
