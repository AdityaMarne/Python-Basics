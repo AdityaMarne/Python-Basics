{
 "cells": [
  {
   "cell_type": "code",
   "execution_count": null,
   "id": "12cb03e3",
   "metadata": {},
   "outputs": [],
   "source": []
  },
  {
   "cell_type": "markdown",
   "id": "aa506960",
   "metadata": {},
   "source": [
    "# Question 1:\n",
    "\n",
    "Write a program that calculates and prints the value according to the given formula:\n",
    "\n",
    "Q = Square root of [(2 * C * D)/H]\n",
    "\n",
    "Following are the fixed values of C and H:\n",
    "\n",
    "C is 50. H is 30.\n",
    "\n",
    "D is the variable whose values should be input to your program in a comma-separated sequence.\n",
    "\n",
    "Example\n",
    "\n",
    "Let us assume the following comma separated input sequence is given to the program:\n",
    "\n",
    "100,150,180\n",
    "\n",
    "The output of the program should be:\n",
    "\n",
    "18,22,24"
   ]
  },
  {
   "cell_type": "code",
   "execution_count": 46,
   "id": "8d44e347",
   "metadata": {},
   "outputs": [],
   "source": [
    "class Pro1:\n",
    "    \n",
    "    def __init__(self,D):\n",
    "        self.C = 50\n",
    "        self.H = 30\n",
    "        self.D = D\n",
    "        \n",
    "    def cal_val(self):\n",
    "        import math\n",
    "        for i in range(len(self.D)):\n",
    "            Q = int(math.sqrt((2*self.C*self.D[i])/self.H))\n",
    "            print(Q)"
   ]
  },
  {
   "cell_type": "code",
   "execution_count": 47,
   "id": "f38139f6",
   "metadata": {},
   "outputs": [],
   "source": [
    "p1 = Pro1([100,150,180])"
   ]
  },
  {
   "cell_type": "code",
   "execution_count": 48,
   "id": "0123b634",
   "metadata": {},
   "outputs": [
    {
     "name": "stdout",
     "output_type": "stream",
     "text": [
      "18\n",
      "22\n",
      "24\n"
     ]
    }
   ],
   "source": [
    "p1.cal_val()"
   ]
  },
  {
   "cell_type": "markdown",
   "id": "4139aec1",
   "metadata": {},
   "source": [
    "# Question 2:\n",
    "Write a program which takes 2 digits, X,Y as input and generates a 2-dimensional array. The element value in the i-th row and j-th column of the array should be i*j.\n",
    "\n",
    "Note: i=0,1.., X-1; j=0,1,¡¬Y-1.\n",
    "\n",
    "Example\n",
    "\n",
    "Suppose the following inputs are given to the program:\n",
    "\n",
    "3,5\n",
    "\n",
    "Then, the output of the program should be:\n",
    "\n",
    "[[0, 0, 0, 0, 0], [0, 1, 2, 3, 4], [0, 2, 4, 6, 8]] "
   ]
  },
  {
   "cell_type": "code",
   "execution_count": 63,
   "id": "450f5a72",
   "metadata": {},
   "outputs": [],
   "source": [
    "class pro2:\n",
    "    \n",
    "    def __init__(self,x,y):\n",
    "        self.lst = []\n",
    "        self.mul = []\n",
    "        self.x = x\n",
    "        self.y = y\n",
    "    \n",
    "    def TwoDArr(self):\n",
    "        for i in range(self.x):\n",
    "            for j in range(self.y):\n",
    "                res = i * j\n",
    "                self.mul.append(res)\n",
    "            self.lst.append(self.mul)\n",
    "            self.mul = []\n",
    "        return self.lst"
   ]
  },
  {
   "cell_type": "code",
   "execution_count": 64,
   "id": "00b5d98c",
   "metadata": {},
   "outputs": [],
   "source": [
    "p2 = pro2(3,5)"
   ]
  },
  {
   "cell_type": "code",
   "execution_count": 65,
   "id": "bf2a6280",
   "metadata": {},
   "outputs": [
    {
     "data": {
      "text/plain": [
       "[[0, 0, 0, 0, 0], [0, 1, 2, 3, 4], [0, 2, 4, 6, 8]]"
      ]
     },
     "execution_count": 65,
     "metadata": {},
     "output_type": "execute_result"
    }
   ],
   "source": [
    "p2.TwoDArr()"
   ]
  },
  {
   "cell_type": "markdown",
   "id": "929538e2",
   "metadata": {},
   "source": [
    "# Question 3:\n",
    "Write a program that accepts a comma separated sequence of words as input and prints the words in a comma-separated sequence after sorting them alphabetically.\n",
    "\n",
    "Suppose the following input is supplied to the program:\n",
    "\n",
    "without,hello,bag,world\n",
    "\n",
    "Then, the output should be:\n",
    "\n",
    "bag,hello,without,world"
   ]
  },
  {
   "cell_type": "code",
   "execution_count": 13,
   "id": "a876b025",
   "metadata": {},
   "outputs": [],
   "source": [
    "class pro3:\n",
    "    def __init__(self,bag_of_words):\n",
    "        self.bag_of_words = bag_of_words\n",
    "    \n",
    "    def sort_word(self):\n",
    "        if type(self.bag_of_words) == list:\n",
    "            self.bag_of_words.sort()\n",
    "        return self.bag_of_words"
   ]
  },
  {
   "cell_type": "code",
   "execution_count": 14,
   "id": "a118c2c7",
   "metadata": {},
   "outputs": [],
   "source": [
    "p3 = pro3([\"without\",\"hello\",\"bag\",\"world\"])"
   ]
  },
  {
   "cell_type": "code",
   "execution_count": 15,
   "id": "9f77ac5c",
   "metadata": {},
   "outputs": [
    {
     "data": {
      "text/plain": [
       "['bag', 'hello', 'without', 'world']"
      ]
     },
     "execution_count": 15,
     "metadata": {},
     "output_type": "execute_result"
    }
   ],
   "source": [
    "p3.sort_word()"
   ]
  },
  {
   "cell_type": "code",
   "execution_count": 16,
   "id": "2861a68e",
   "metadata": {},
   "outputs": [],
   "source": [
    "class pro3:\n",
    "    def __init__(self,bag_of_words):\n",
    "        self.bag_of_words = bag_of_words\n",
    "    \n",
    "    def sort_word(self):\n",
    "        if type(self.bag_of_words) == list:\n",
    "            for i in range(1, len(self.bag_of_words)):\n",
    "                key = self.bag_of_words[i]\n",
    "                j = i - 1\n",
    "                while j >= 0 and self.bag_of_words[j] > key:\n",
    "                    self.bag_of_words[j + 1] = self.bag_of_words[j]\n",
    "                    j -= 1\n",
    "                self.bag_of_words[j + 1] = key\n",
    "        return self.bag_of_words"
   ]
  },
  {
   "cell_type": "code",
   "execution_count": 17,
   "id": "360a1730",
   "metadata": {},
   "outputs": [],
   "source": [
    "p3 = pro3([\"without\",\"hello\",\"bag\",\"world\"])"
   ]
  },
  {
   "cell_type": "code",
   "execution_count": 18,
   "id": "56920f4f",
   "metadata": {},
   "outputs": [
    {
     "data": {
      "text/plain": [
       "['bag', 'hello', 'without', 'world']"
      ]
     },
     "execution_count": 18,
     "metadata": {},
     "output_type": "execute_result"
    }
   ],
   "source": [
    "p3.sort_word()"
   ]
  },
  {
   "cell_type": "markdown",
   "id": "fbb2e16d",
   "metadata": {},
   "source": [
    "# Question 4:\n",
    "Write a program that accepts a sequence of whitespace separated words as input and prints the words after removing all duplicate words and sorting them alphanumerically.\n",
    "\n",
    "Suppose the following input is supplied to the program:\n",
    "\n",
    "hello world and practice makes perfect and hello world again\n",
    "\n",
    "Then, the output should be:\n",
    "\n",
    "again and hello makes perfect practice world"
   ]
  },
  {
   "cell_type": "code",
   "execution_count": 32,
   "id": "5acab08a",
   "metadata": {},
   "outputs": [],
   "source": [
    "class pro4:\n",
    "    def __init__(self,sentence):\n",
    "        self.sentence = sentence\n",
    "    def operation(self):\n",
    "        removedup = []\n",
    "        if type(self.sentence) == str:\n",
    "            words = self.sentence.split()\n",
    "            for i in range(len(words)):\n",
    "                if words[i] not in removedup:\n",
    "                    removedup.append(words[i])\n",
    "            removedup.sort()\n",
    "        return removedup"
   ]
  },
  {
   "cell_type": "code",
   "execution_count": 33,
   "id": "110e676a",
   "metadata": {},
   "outputs": [],
   "source": [
    "p4 = pro4(\"hello world and practice makes perfect and hello world again\")"
   ]
  },
  {
   "cell_type": "code",
   "execution_count": 34,
   "id": "c9b079a3",
   "metadata": {},
   "outputs": [
    {
     "data": {
      "text/plain": [
       "['again', 'and', 'hello', 'makes', 'perfect', 'practice', 'world']"
      ]
     },
     "execution_count": 34,
     "metadata": {},
     "output_type": "execute_result"
    }
   ],
   "source": [
    "p4.operation()"
   ]
  },
  {
   "cell_type": "markdown",
   "id": "49cae8e3",
   "metadata": {},
   "source": [
    "# Question 5:\n",
    "Write a program that accepts a sentence and calculate the number of letters and digits.\n",
    "\n",
    "Suppose the following input is supplied to the program:\n",
    "\n",
    "hello world! 123\n",
    "\n",
    "Then, the output should be:\n",
    "\n",
    "LETTERS 10\n",
    "\n",
    "DIGITS 3"
   ]
  },
  {
   "cell_type": "code",
   "execution_count": 9,
   "id": "982cb492",
   "metadata": {},
   "outputs": [],
   "source": [
    "class pro5:\n",
    "    def __init__(self,sentence):\n",
    "        self.sentence = sentence\n",
    "    def count_let_dig(self):\n",
    "        if type(self.sentence) == str:\n",
    "            letter_count = 0\n",
    "            digit_count = 0\n",
    "            for i in range(len(self.sentence)):\n",
    "                if ord(self.sentence[i]) >= 97 and ord(self.sentence[i]) <= 122:\n",
    "                    letter_count += 1\n",
    "                if ord(self.sentence[i]) >= 48 and ord(self.sentence[i]) <= 57:\n",
    "                    digit_count += 1\n",
    "            print(\"Letter count:\", letter_count)\n",
    "            print(\"Digit count:\", digit_count)"
   ]
  },
  {
   "cell_type": "code",
   "execution_count": 10,
   "id": "988d1617",
   "metadata": {},
   "outputs": [],
   "source": [
    "p5 = pro5(\"hello world! 123\")"
   ]
  },
  {
   "cell_type": "code",
   "execution_count": 11,
   "id": "137e0667",
   "metadata": {},
   "outputs": [
    {
     "name": "stdout",
     "output_type": "stream",
     "text": [
      "Letter count: 10\n",
      "Digit count: 3\n"
     ]
    }
   ],
   "source": [
    "p5.count_let_dig()"
   ]
  },
  {
   "cell_type": "markdown",
   "id": "6c4838ba",
   "metadata": {},
   "source": [
    "# Question 6:\n",
    "A website requires the users to input username and password to register. Write a program to check the validity of password input by users.\n",
    "\n",
    "Following are the criteria for checking the password:\n",
    "\n",
    "1. At least 1 letter between [a-z]\n",
    "\n",
    "2. At least 1 number between [0-9]\n",
    "\n",
    "1. At least 1 letter between [A-Z]\n",
    "\n",
    "3. At least 1 character from [$#@]\n",
    "\n",
    "4. Minimum length of transaction password: 6\n",
    "\n",
    "5. Maximum length of transaction password: 12\n",
    "\n",
    "Your program should accept a sequence of comma separated passwords and will check them according to the above criteria. Passwords that match the criteria are to be printed, each separated by a comma.\n",
    "\n",
    "Example\n",
    "\n",
    "If the following passwords are given as input to the program:\n",
    "\n",
    "ABd1234@1,a F1#,2w3E*,2We3345\n",
    "\n",
    "Then, the output of the program should be:\n",
    "\n",
    "ABd1234@1"
   ]
  },
  {
   "cell_type": "code",
   "execution_count": 99,
   "id": "f84ce81f",
   "metadata": {},
   "outputs": [],
   "source": [
    "class pro6:\n",
    "    def __init__(self,username,password):\n",
    "        self.username  = username\n",
    "        self.password = password\n",
    "        self.check_pass()\n",
    "    \n",
    "    def check_pass(self):\n",
    "        if len(self.password) >= 6 and len(self.password) <= 12:\n",
    "            small_char = False\n",
    "            cap_char = 0\n",
    "            digit = 0\n",
    "            spec_char = 0\n",
    "            for i in range(len(self.password)):\n",
    "                if ord(self.password[i]) >= 97 and ord(self.password[i]) <= 122 and small_char == False:\n",
    "                    small_char = True\n",
    "                    pass\n",
    "                elif small_char != True:\n",
    "                    print(\"At least 1 letter between [a-z]\")\n",
    "                if self.password not in range(ord('A'),ord('Z')):\n",
    "                    pass\n",
    "                else:\n",
    "                    print(\"At least 1 letter between [A-Z]\")\n",
    "                if self.password not in range(ord('0'),ord('9')):\n",
    "                    pass\n",
    "                else:\n",
    "                    print(\"At least 1 number between [0-9]\")\n",
    "        else:\n",
    "            print(\"Password length must be greater than 6 charatacters.\")\n",
    "            "
   ]
  },
  {
   "cell_type": "code",
   "execution_count": 100,
   "id": "ff5f040f",
   "metadata": {},
   "outputs": [
    {
     "name": "stdout",
     "output_type": "stream",
     "text": [
      "At least 1 letter between [a-z]\n"
     ]
    }
   ],
   "source": [
    "p6 = pro6('aditya','Aditya')"
   ]
  },
  {
   "cell_type": "code",
   "execution_count": 89,
   "id": "2af59615",
   "metadata": {},
   "outputs": [
    {
     "data": {
      "text/plain": [
       "97"
      ]
     },
     "execution_count": 89,
     "metadata": {},
     "output_type": "execute_result"
    }
   ],
   "source": [
    "ord('a')"
   ]
  },
  {
   "cell_type": "code",
   "execution_count": 90,
   "id": "edf23b7c",
   "metadata": {},
   "outputs": [
    {
     "data": {
      "text/plain": [
       "122"
      ]
     },
     "execution_count": 90,
     "metadata": {},
     "output_type": "execute_result"
    }
   ],
   "source": [
    "ord('z')"
   ]
  },
  {
   "cell_type": "code",
   "execution_count": null,
   "id": "57823d02",
   "metadata": {},
   "outputs": [],
   "source": []
  },
  {
   "cell_type": "code",
   "execution_count": null,
   "id": "8b0bfdfd",
   "metadata": {},
   "outputs": [],
   "source": []
  }
 ],
 "metadata": {
  "kernelspec": {
   "display_name": "Python 3 (ipykernel)",
   "language": "python",
   "name": "python3"
  },
  "language_info": {
   "codemirror_mode": {
    "name": "ipython",
    "version": 3
   },
   "file_extension": ".py",
   "mimetype": "text/x-python",
   "name": "python",
   "nbconvert_exporter": "python",
   "pygments_lexer": "ipython3",
   "version": "3.9.13"
  }
 },
 "nbformat": 4,
 "nbformat_minor": 5
}
