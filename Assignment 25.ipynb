{
 "cells": [
  {
   "cell_type": "markdown",
   "id": "7e508be6",
   "metadata": {},
   "source": [
    "# 1) . What is the difference between enclosing a list comprehension in square brackets and parentheses?"
   ]
  },
  {
   "cell_type": "code",
   "execution_count": 2,
   "id": "5d3d5269",
   "metadata": {},
   "outputs": [
    {
     "data": {
      "text/plain": [
       "[0, 1, 2, 3, 4, 5, 6, 7, 8, 9]"
      ]
     },
     "execution_count": 2,
     "metadata": {},
     "output_type": "execute_result"
    }
   ],
   "source": [
    "#List Comprehension with square brackets produces list.\n",
    "lst = [i for i in range(10)]\n",
    "lst"
   ]
  },
  {
   "cell_type": "code",
   "execution_count": 6,
   "id": "2c6b0a90",
   "metadata": {},
   "outputs": [
    {
     "data": {
      "text/plain": [
       "<generator object <genexpr> at 0x000002BA3B82E820>"
      ]
     },
     "execution_count": 6,
     "metadata": {},
     "output_type": "execute_result"
    }
   ],
   "source": [
    "#List Comprehension with parentheses creates generators\n",
    "lstParanthesis = (i for i in range(10))\n",
    "lstParanthesis"
   ]
  },
  {
   "cell_type": "markdown",
   "id": "bc4840f8",
   "metadata": {},
   "source": [
    "If you are familiar with list comprehensions, then this look likes it might create a tuple which is (1,2,3,4,....), \n",
    "but it is actually a generator expression - this expression is a one time only iterator which will yield the values 1, 2, 3, 4.... in that order\n"
   ]
  },
  {
   "cell_type": "code",
   "execution_count": 4,
   "id": "df1c6836",
   "metadata": {},
   "outputs": [
    {
     "name": "stdout",
     "output_type": "stream",
     "text": [
      "0\n",
      "1\n",
      "2\n",
      "3\n",
      "4\n",
      "5\n",
      "6\n",
      "7\n",
      "8\n",
      "9\n"
     ]
    }
   ],
   "source": [
    "for i in lstParanthesis:\n",
    "    print(i)"
   ]
  },
  {
   "cell_type": "code",
   "execution_count": 7,
   "id": "af054aac",
   "metadata": {},
   "outputs": [
    {
     "data": {
      "text/plain": [
       "[0, 1, 2, 3, 4, 5, 6, 7, 8, 9]"
      ]
     },
     "execution_count": 7,
     "metadata": {},
     "output_type": "execute_result"
    }
   ],
   "source": [
    "list(lstParanthesis)"
   ]
  },
  {
   "cell_type": "markdown",
   "id": "0e3e96fc",
   "metadata": {},
   "source": [
    "# 2) What is the relationship between generators and iterators?"
   ]
  },
  {
   "cell_type": "markdown",
   "id": "0de72db0",
   "metadata": {},
   "source": [
    "Generators and iterators are closely related concepts, but they have some key differences:\n",
    "\n",
    "**Iterators**:\n",
    "- An iterator is an object which contains a countable number of values and it is used to iterate over iterable objects like list, tuples, sets, etc.\n",
    "- Iterators are implemented using a class and a local variable for iterating is not required here.\n",
    "- It follows lazy evaluation where the evaluation of the expression will be on hold and stored in the memory until the item is called specifically which helps us to avoid repeated evaluation.\n",
    "- Iterators are used mostly to iterate or convert other objects to an iterator using `iter()` function.\n",
    "- `iter()` keyword is used to create an iterator containing an iterable object. `next()` keyword is used to call the next element in the iterable object.\n",
    "\n",
    "**Generators**:\n",
    "- A generator is another way of creating iterators in a simple way where it uses the keyword “yield” instead of returning it in a defined function¹.\n",
    "- Generators are implemented using a function¹.\n",
    "- Just as iterators, generators also follow lazy evaluation¹.\n",
    "- Here, the yield function returns the data without affecting or exiting the function¹.\n",
    "- It will return a sequence of data in an iterable format where we need to iterate over the sequence to use the data as they won’t store the entire sequence in the memory¹.\n",
    "- Generators are mostly used in loops to generate an iterator by returning all the values in the loop without affecting the iteration of the loop¹.\n",
    "- Generator uses yield keyword¹.\n",
    "\n",
    "In summary, every generator is an iterator, but not every iterator is a generator³. Generators provide a convenient way to implement the iterator protocol². If you need to implement a custom iteration pattern, generators are often simpler to write than classes that explicitly implement the iterator protocol."
   ]
  },
  {
   "cell_type": "code",
   "execution_count": 8,
   "id": "89418e57",
   "metadata": {},
   "outputs": [
    {
     "name": "stdout",
     "output_type": "stream",
     "text": [
      "Dog\n",
      "CAt\n",
      "Bear\n"
     ]
    }
   ],
   "source": [
    "iter_list = iter(['Dog', 'CAt', 'Bear'])\n",
    "print(next(iter_list))\n",
    "print(next(iter_list))\n",
    "print(next(iter_list))"
   ]
  },
  {
   "cell_type": "code",
   "execution_count": 9,
   "id": "a7a0f3cc",
   "metadata": {},
   "outputs": [
    {
     "data": {
      "text/plain": [
       "<generator object sq at 0x000002BA3B82EF90>"
      ]
     },
     "execution_count": 9,
     "metadata": {},
     "output_type": "execute_result"
    }
   ],
   "source": [
    "# GEnerator \n",
    "\n",
    "def sq(n):\n",
    "    for i in range(1, n+1):\n",
    "        yield i*i\n",
    "\n",
    "sq(6)"
   ]
  },
  {
   "cell_type": "code",
   "execution_count": 12,
   "id": "a1c0badb",
   "metadata": {},
   "outputs": [
    {
     "name": "stdout",
     "output_type": "stream",
     "text": [
      "1\n",
      "4\n",
      "9\n",
      "16\n",
      "25\n",
      "36\n"
     ]
    }
   ],
   "source": [
    "for i in sq(6):\n",
    "    print(i)"
   ]
  },
  {
   "cell_type": "markdown",
   "id": "bde1feb1",
   "metadata": {},
   "source": [
    "# 3) What are the signs that a function is a generator function?"
   ]
  },
  {
   "cell_type": "markdown",
   "id": "60e6689d",
   "metadata": {},
   "source": [
    "A function is a generator function if it meets the following criteria:\n",
    "\n",
    "- It is defined like a normal function, but whenever it needs to generate a value, it does so with the `yield` keyword rather than `return`.\n",
    "- If the body of a `def` contains `yield`, the function automatically becomes a Python generator function.\n",
    "- Generator functions look like regular functions but they have one or more `yield` statements within them.\n",
    "- Unlike regular functions, the code within a generator function isn't run when you call it! Calling a generator function returns a generator object, which is a lazy iterable.\n",
    "\n",
    "You can also check if a function is a generator function using the `inspect` module in Python. Here's an example:\n",
    "\n",
    "```python\n",
    "import inspect\n",
    "\n",
    "def foo():\n",
    "    return 'foo'\n",
    "\n",
    "def bar():\n",
    "    yield 'bar'\n",
    "\n",
    "print(inspect.isgeneratorfunction(foo))  # Outputs: False\n",
    "print(inspect.isgeneratorfunction(bar))  # Outputs: True\n",
    "```\n",
    "\n",
    "In this example, `foo` is a regular function and `bar` is a generator function. The `inspect.isgeneratorfunction()` function returns `True` for `bar` and `False` for `foo`."
   ]
  },
  {
   "cell_type": "markdown",
   "id": "d2726a56",
   "metadata": {},
   "source": [
    "# 4) What is the purpose of a yield statement?"
   ]
  },
  {
   "cell_type": "markdown",
   "id": "f5876c78",
   "metadata": {},
   "source": [
    "The `yield` statement in Python is used to create a generator function. Here's what it does:\n",
    "\n",
    "- A `yield` statement looks like a `return` statement, but instead of terminating the function and returning a value, it produces a value and suspends the function’s execution.\n",
    "- The function can be resumed later on from where it left off, allowing the function to produce a series of values over time, rather than computing them all at once and sending them back in a list for example.\n",
    "- When a function containing a `yield` statement is called, it returns a generator object. This object can be iterated over to retrieve the values that are generated.\n",
    "- The `yield` keyword is used when we want to iterate over a sequence, but don’t want to store the entire sequence in memory.\n",
    "- `yield` is used to create a generator function, a type of function that is memory efficient and can be used like an iterator object.\n",
    "\n",
    "Here's an example of a generator function using `yield`:\n",
    "\n",
    "```python\n",
    "def count_up_to(n):\n",
    "    count = 1\n",
    "    while count <= n:\n",
    "        yield count\n",
    "        count += 1\n",
    "\n",
    "for number in count_up_to(5):\n",
    "    print(number)\n",
    "```\n",
    "\n",
    "In this example, `count_up_to` is a generator function that `yield`s the numbers from 1 up to `n`. When we iterate over the generator with a `for` loop, it prints the numbers 1 through 5, one at a time."
   ]
  },
  {
   "cell_type": "markdown",
   "id": "d23bf181",
   "metadata": {},
   "source": [
    "# 5) What is the relationship between map calls and list comprehensions? Make a comparison and contrast between the two."
   ]
  },
  {
   "cell_type": "markdown",
   "id": "a511831b",
   "metadata": {},
   "source": [
    "Both `map` calls and list comprehensions are used in Python for transforming one list (or other iterable) into a new list. Here's a comparison and contrast between the two:\n",
    "\n",
    "**Map Calls**:\n",
    "- `map()` function returns a map object (which is an iterator) of the results after applying the given function to each item of a given iterable (list, tuple etc.).\n",
    "- `map()` is faster in case of calling an already defined function (as no lambda is required).\n",
    "- `map()` may be microscopically faster in some cases (when you're not making a lambda for the purpose, but using the same function in map and a list comprehension).\n",
    "- `map()` is a more memory-efficient option and can provide a speed improvement compared to list comprehensions.\n",
    "- However, `map()` does not allow filtering.\n",
    "\n",
    "**List Comprehensions**:\n",
    "- List comprehension is a substitute for the lambda function, `map()`, `filter()` and `reduce()`.\n",
    "- It follows the form of the mathematical set-builder notation.\n",
    "- List comprehension is more concise and easier to read as compared to `map()`.\n",
    "- List comprehension allows filtering. For example, to print all even numbers in range of 100, we can write `[n for n in range(100) if n%2 == 0]`.\n",
    "- List comprehension is faster than `map()` when we need to evaluate expressions that are too long or complicated to express.\n",
    "- List comprehension should still be favored in many cases due to their readability and simplicity.\n",
    "\n",
    "In summary, while `map()` can be faster and more memory-efficient in some cases, list comprehensions are often preferred due to their readability, simplicity, and ability to filter results."
   ]
  },
  {
   "cell_type": "code",
   "execution_count": null,
   "id": "e891f2f5",
   "metadata": {},
   "outputs": [],
   "source": []
  }
 ],
 "metadata": {
  "kernelspec": {
   "display_name": "Python 3 (ipykernel)",
   "language": "python",
   "name": "python3"
  },
  "language_info": {
   "codemirror_mode": {
    "name": "ipython",
    "version": 3
   },
   "file_extension": ".py",
   "mimetype": "text/x-python",
   "name": "python",
   "nbconvert_exporter": "python",
   "pygments_lexer": "ipython3",
   "version": "3.9.13"
  }
 },
 "nbformat": 4,
 "nbformat_minor": 5
}
