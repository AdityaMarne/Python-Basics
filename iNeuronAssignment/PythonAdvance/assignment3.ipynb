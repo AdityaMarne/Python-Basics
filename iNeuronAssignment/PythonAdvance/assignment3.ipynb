{
 "cells": [
  {
   "cell_type": "markdown",
   "metadata": {},
   "source": [
    "1. What is the concept of an abstract superclass?\n",
    "\n",
    "An abstract superclass is a class that is designed to be inherited from, but not instantiated directly. It often contains one or more abstract methods (methods without an implementation) that must be implemented by its subclasses. In Python, abstract classes are typically created using the `abc` (Abstract Base Classes) module. Abstract superclasses provide a common interface for their subclasses and enforce a certain structure on the inheriting classes.\n"
   ]
  },
  {
   "cell_type": "markdown",
   "metadata": {},
   "source": [
    "2. What happens when a class statement's top level contains a basic assignment statement?\n",
    "\n",
    "When a class statement's top level contains a basic assignment statement, it creates a class attribute. This attribute is shared by all instances of the class. For example:\n",
    "\n",
    "```python\n",
    "class MyClass:\n",
    "    class_attribute = \"I'm a class attribute\"\n",
    "```\n",
    "\n",
    "Here, `class_attribute` becomes a class-level variable that can be accessed through the class itself or any of its instances.\n"
   ]
  },
  {
   "cell_type": "markdown",
   "metadata": {},
   "source": [
    "3. Why does a class need to manually call a superclass's __init__ method?\n",
    "\n",
    "A class needs to manually call a superclass's `__init__` method to ensure that the initialization code of the superclass is executed. This is important for proper object initialization, especially when the subclass extends or modifies the behavior of the superclass. By calling the superclass's `__init__`, you ensure that any setup required by the parent class is performed. This is typically done using the `super()` function:\n",
    "\n",
    "```python\n",
    "class Child(Parent):\n",
    "    def __init__(self, *args, **kwargs):\n",
    "        super().__init__(*args, **kwargs)\n",
    "        # Additional initialization for Child\n",
    "```\n"
   ]
  },
  {
   "cell_type": "markdown",
   "metadata": {},
   "source": [
    "4. How can you augment, instead of completely replacing, an inherited method?\n",
    "\n",
    "To augment an inherited method instead of completely replacing it, you can call the superclass's method within the subclass's method and then add additional functionality. This is often done using `super()`:\n",
    "\n",
    "```python\n",
    "class Child(Parent):\n",
    "    def some_method(self):\n",
    "        # Call the parent's implementation\n",
    "        super().some_method()\n",
    "        # Add additional functionality\n",
    "        print(\"Child class is adding to the method\")\n",
    "```\n",
    "\n",
    "This approach allows you to extend the behavior of the inherited method while still maintaining the original functionality.\n"
   ]
  },
  {
   "cell_type": "markdown",
   "metadata": {},
   "source": [
    "5. How is the local scope of a class different from that of a function?\n",
    "\n",
    "The local scope of a class differs from that of a function in several ways:\n",
    "\n",
    "1. Class scope is not created anew for each method call, unlike function scope which is created each time the function is called.\n",
    "\n",
    "2. Variables defined in the class body (outside of methods) become class attributes, accessible to all instances, while variables in a function are local to that function call.\n",
    "\n",
    "3. The class scope doesn't automatically include names from the enclosing scope. To access variables from the enclosing scope, you need to use the `global` or `nonlocal` keywords explicitly.\n",
    "\n",
    "4. Methods defined in the class have access to the class namespace through the `self` parameter, which is not the case for regular functions.\n",
    "\n",
    "5. The class scope is used to define class-level attributes and methods, which are shared across all instances of the class, whereas function scope is used for local variables specific to that function execution.\n",
    "\n",
    "These differences reflect the distinct roles that classes and functions play in Python's object-oriented programming model.\n"
   ]
  },
  {
   "cell_type": "code",
   "execution_count": null,
   "metadata": {},
   "outputs": [],
   "source": []
  }
 ],
 "metadata": {
  "language_info": {
   "name": "python"
  }
 },
 "nbformat": 4,
 "nbformat_minor": 2
}
