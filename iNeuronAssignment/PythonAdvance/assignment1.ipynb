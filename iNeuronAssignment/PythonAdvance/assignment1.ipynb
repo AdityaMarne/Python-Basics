{
 "cells": [
  {
   "cell_type": "markdown",
   "metadata": {},
   "source": [
    "Q1. What is the purpose of Python's OOP?"
   ]
  },
  {
   "cell_type": "markdown",
   "metadata": {},
   "source": [
    "Object-Oriented Programming (OOP) in Python provides a way to structure programs by bundling related properties and behaviors into individual objects. Here's why OOP is valuable:\n",
    "\n",
    "1. Modularity and Reusability: OOP promotes code organization into logical classes. Each class encapsulates data (properties) and functions (methods). This modular approach makes it easier to understand, modify, and reuse code. You define a class once and can create multiple instances (objects) from it.\n",
    "\n",
    "2. Abstraction and Encapsulation:\n",
    "   - Abstraction: Hide complex implementation details and expose only essential features. Users interact with high-level methods without needing to know the underlying complexity.\n",
    "   - Encapsulation: Bundle data (attributes) and methods (functions) together within a class. Access to data is controlled through methods, ensuring data integrity and security.\n",
    "\n",
    "3. Inheritance:\n",
    "   - Create a new class (child class) based on an existing class (parent class). The child class inherits properties and behaviors from the parent class.\n",
    "   - Allows code reuse and specialization. You can override or extend methods in the child class.\n",
    "\n",
    "4. Polymorphism:\n",
    "   - Refers to the ability of different classes to be treated uniformly.\n",
    "   - You can use the same method name across different classes, and Python will dynamically choose the appropriate implementation based on the object type."
   ]
  },
  {
   "cell_type": "markdown",
   "metadata": {},
   "source": [
    "Q2. Where does an inheritance search look for an attribute?"
   ]
  },
  {
   "cell_type": "markdown",
   "metadata": {},
   "source": [
    "When Python looks for an attribute (such as a variable or method) in an object, it follows a specific order called the Method Resolution Order (MRO). Here's how it works:\n",
    "\n",
    "1. Instance Attributes:\n",
    "   - First, Python checks if the attribute exists directly in the instance (object) itself.\n",
    "   - If found, it uses that value.\n",
    "\n",
    "2. Class Attributes:\n",
    "   - If the attribute is not found in the instance, Python looks in the class of the instance.\n",
    "   - If the attribute exists in the class, it uses that value.\n",
    "\n",
    "3. Parent Classes (Inheritance):\n",
    "   - If the attribute is still not found, Python looks in the parent classes (superclasses) of the current class.\n",
    "   - It follows the inheritance hierarchy (base classes) to find the attribute.\n",
    "   - The order of searching parent classes is determined by the C3 Linearization algorithm (C3 superclass linearization).\n",
    "   - Python starts with the current class, then its parent classes, and so on until it reaches the top-level base class (usually `object`).\n",
    "\n",
    "4. Built-in Classes:\n",
    "   - If the attribute is not found in any of the parent classes, Python checks the built-in classes (e.g., `object`, `list`, `str`, etc.).\n",
    "\n",
    "5. AttributeError:\n",
    "   - If the attribute is not found anywhere, Python raises an `AttributeError`."
   ]
  },
  {
   "cell_type": "markdown",
   "metadata": {},
   "source": [
    "Q3. How do you distinguish between a class object and an instance object?"
   ]
  },
  {
   "cell_type": "markdown",
   "metadata": {},
   "source": [
    "distinction between a class object and an instance object in Python:\n",
    "\n",
    "1. Class Object:\n",
    "   - A class serves as a blueprint or prototype for creating objects.\n",
    "   - It defines attributes (data) and methods (functions) that objects of that class will have.\n",
    "   - Think of it as the general template.\n",
    "   - Example:\n",
    "     ```python\n",
    "     class Dog:\n",
    "         sound = \"bark\"\n",
    "\n",
    "     # 'Dog' is the class object\n",
    "     ```\n",
    "\n",
    "2. Instance Object:\n",
    "   - An instance is a specific object created from a class.\n",
    "   - It has actual values for the attributes defined in the class.\n",
    "   - Instances are like individual copies of the class, each with its unique data.\n",
    "   - Example:\n",
    "     ```python\n",
    "     # Creating an instance of the 'Dog' class\n",
    "     my_dog = Dog()\n",
    "     print(my_dog.sound)  # Output: \"bark\"\n",
    "     ```\n"
   ]
  },
  {
   "cell_type": "markdown",
   "metadata": {},
   "source": [
    "Q4. What makes the first argument in a class’s method function special?"
   ]
  },
  {
   "cell_type": "markdown",
   "metadata": {},
   "source": [
    "1. Class Methods:\n",
    "   - A class method is defined using the `@classmethod` decorator.\n",
    "   - Unlike instance methods (which take `self` as the first argument), class methods take the class itself (usually named `cls`) as their first parameter.\n",
    "   - The class method is bound to the class, not to an instance of the class.\n",
    "   - Example:\n",
    "     ```python\n",
    "     class MyClass:\n",
    "         class_variable = 42\n",
    "\n",
    "         @classmethod\n",
    "         def print_class_variable(cls):\n",
    "             print(f\"Class variable value: {cls.class_variable}\")\n",
    "\n",
    "     # Creating an instance and calling the class method\n",
    "     obj = MyClass()\n",
    "     obj.print_class_variable()  # Output: \"Class variable value: 42\"\n",
    "     ```"
   ]
  },
  {
   "cell_type": "markdown",
   "metadata": {},
   "source": [
    "Q5. What is the purpose of the __init__ method?"
   ]
  },
  {
   "cell_type": "markdown",
   "metadata": {},
   "source": [
    "The `__init__` method in Python serves as a constructor for initializing objects of a class. When you create an instance (object) of a class, Python automatically invokes this method. Its purpose is to set up the object's initial state by assigning values to its properties (attributes). Let's explore this with examples:\n",
    "\n",
    "1. Basic Example:\n",
    "   ```python\n",
    "   class Person:\n",
    "       def __init__(self, name):\n",
    "           self.name = name\n",
    "\n",
    "       def say_hi(self):\n",
    "           print(f\"Hello, my name is {self.name}\")\n",
    "\n",
    "   # Creating a person named Nikhil\n",
    "   p = Person(\"Nikhil\")\n",
    "   p.say_hi()  # Output: \"Hello, my name is Nikhil\"\n",
    "   ```\n",
    "\n",
    "   In this example, the `__init__` method initializes the `name` attribute when a `Person` object is created. The `self` parameter refers to the instance itself.\n",
    "\n",
    "2. Multiple Objects:\n",
    "   ```python\n",
    "   p1 = Person(\"Nikhil\")\n",
    "   p2 = Person(\"Abhinav\")\n",
    "   p3 = Person(\"Anshul\")\n",
    "   p1.say_hi()  # Output: \"Hello, my name is Nikhil\"\n",
    "   p2.say_hi()  # Output: \"Hello, my name is Abhinav\"\n",
    "   p3.say_hi()  # Output: \"Hello, my name is Anshul\"\n",
    "   ```\n",
    "\n",
    "   You can create multiple `Person` objects with different names.\n",
    "\n",
    "3. Inheritance:\n",
    "   ```python\n",
    "   class A:\n",
    "       def __init__(self, something):\n",
    "           print(\"A init called\")\n",
    "           self.something = something\n",
    "\n",
    "   class B(A):\n",
    "       def __init__(self, something):\n",
    "           # Call parent class constructor\n",
    "           A.__init__(self, something)\n",
    "           print(\"B init called\")\n",
    "           self.something = something\n",
    "\n",
    "   obj = B(\"Something\")\n",
    "   ```"
   ]
  },
  {
   "cell_type": "markdown",
   "metadata": {},
   "source": [
    "Q6. What is the process for creating a class instance?"
   ]
  },
  {
   "cell_type": "markdown",
   "metadata": {},
   "source": [
    "Creating a class instance in Python involves the following steps:\n",
    "\n",
    "1. Define a Class:\n",
    "   - First, define a class with the desired attributes and methods.\n",
    "   - The class serves as a blueprint for creating instances.\n",
    "   - Example:\n",
    "     ```python\n",
    "     class Person:\n",
    "         def __init__(self, name):\n",
    "             self.name = name\n",
    "     ```\n",
    "\n",
    "2. Instantiate the Class:\n",
    "   - To create an instance (object), call the class constructor (usually the `__init__` method) with any required arguments.\n",
    "   - Example:\n",
    "     ```python\n",
    "     # Creating an instance of the 'Person' class\n",
    "     person_instance = Person(\"Alice\")\n",
    "     ```\n",
    "\n",
    "3. Access Attributes and Methods:\n",
    "   - You can access instance attributes using the dot notation (`instance.attribute_name`).\n",
    "   - Invoke methods on the instance as well.\n",
    "   - Example:\n",
    "     ```python\n",
    "     print(person_instance.name)  # Output: \"Alice\"\n",
    "     ```\n",
    "\n",
    "4. Customize the Instance:\n",
    "   - Set additional attributes or modify existing ones.\n",
    "   - Example:\n",
    "     ```python\n",
    "     person_instance.age = 30\n",
    "     ```"
   ]
  },
  {
   "cell_type": "markdown",
   "metadata": {},
   "source": [
    "Q7. What is the process for creating a class?"
   ]
  },
  {
   "cell_type": "markdown",
   "metadata": {},
   "source": [
    "1. Define the Class:\n",
    "   - Use the `class` keyword followed by the class name.\n",
    "   - Add a colon (`:`) after the class name.\n",
    "   - Define attributes (data) and methods (functions) within the class.\n",
    "   - Example:\n",
    "     ```python\n",
    "     class Person:\n",
    "         def __init__(self, name):\n",
    "             self.name = name\n",
    "     ```\n",
    "\n",
    "2. Instantiate the Class:\n",
    "   - To create an instance (object), call the class constructor (usually the `__init__` method) with any required arguments.\n",
    "   - Example:\n",
    "     ```python\n",
    "     person_instance = Person(\"Alice\")\n",
    "     ```\n",
    "\n",
    "3. Access Attributes and Methods:\n",
    "   - Use the dot (`.`) operator to access instance attributes.\n",
    "   - Invoke methods on the instance.\n",
    "   - Example:\n",
    "     ```python\n",
    "     print(person_instance.name)  # Output: \"Alice\"\n",
    "     ```\n",
    "\n",
    "4. Customize the Instance:\n",
    "   - Set additional attributes or modify existing ones.\n",
    "   - Example:\n",
    "     ```python\n",
    "     person_instance.age = 30\n",
    "     ``"
   ]
  },
  {
   "cell_type": "markdown",
   "metadata": {},
   "source": [
    "Q8. How would you define the superclasses of a class?"
   ]
  },
  {
   "cell_type": "markdown",
   "metadata": {},
   "source": [
    "In Python, a superclass (also known as a base class or parent class) contains attributes and methods that are common to a set of related classes. A subclass (or derived class) inherits from the superclass and specializes or extends its capabilities. \n",
    "\n",
    "To define the superclasses of a class, you can use the `super()` function. Here's how it works:\n",
    "\n",
    "1. Accessing Superclasses:\n",
    "   - The `super()` function allows you to refer to the parent class from within a subclass.\n",
    "   - It provides a way to call methods defined in the superclass.\n",
    "   - By using `super()`, you can extend or customize functionality inherited from the parent class.\n",
    "\n",
    "2. Example:\n",
    "   ```python\n",
    "   class Animal:\n",
    "       def speak(self):\n",
    "           print(\"Animal speaks\")\n",
    "\n",
    "   class Dog(Animal):\n",
    "       def speak(self):\n",
    "           super().speak()  # Call the 'speak' method from the parent class\n",
    "           print(\"Dog barks\")\n",
    "\n",
    "   my_dog = Dog()\n",
    "   my_dog.speak()\n",
    "   ```\n",
    "\n",
    "   Output:\n",
    "   ```\n",
    "   Animal speaks\n",
    "   Dog barks\n",
    "   ```\n",
    "\n",
    "In this example, `Dog` is a subclass of `Animal`. The `super().speak()` line invokes the `speak()` method from the `Animal` superclass before adding the specific behavior for dogs. \n"
   ]
  },
  {
   "cell_type": "markdown",
   "metadata": {},
   "source": []
  }
 ],
 "metadata": {
  "language_info": {
   "name": "python"
  }
 },
 "nbformat": 4,
 "nbformat_minor": 2
}
