{
 "cells": [
  {
   "cell_type": "markdown",
   "metadata": {},
   "source": [
    "Q1. Describe three applications for exception processing.\n",
    "\n",
    "1. File handling: Exception processing can be used to handle errors when opening, reading, or writing files, such as FileNotFoundError or PermissionError.\n",
    "\n",
    "2. Network operations: When dealing with network requests, exceptions can handle connection errors, timeouts, or invalid responses.\n",
    "\n",
    "3. User input validation: Exception handling can manage unexpected user inputs, such as TypeError when converting input to the wrong data type.\n"
   ]
  },
  {
   "cell_type": "markdown",
   "metadata": {},
   "source": [
    "Q2. What happens if you don't do something extra to treat an exception?\n",
    "\n",
    "If an exception is not handled, it will propagate up the call stack until it reaches the top level of the program. If still unhandled, the program will terminate abruptly, displaying an error message and traceback. This can lead to a poor user experience and potentially leave resources in an inconsistent state."
   ]
  },
  {
   "cell_type": "markdown",
   "metadata": {},
   "source": [
    "Q3. What are your options for recovering from an exception in your script?\n",
    "\n",
    "1. Try-except block: Catch specific exceptions and provide alternative code to execute.\n",
    "2. Try-except-else block: Execute code when no exception occurs.\n",
    "3. Try-except-finally block: Ensure certain code runs regardless of whether an exception occurred.\n",
    "4. Raise a different exception: Catch an exception and raise a more appropriate one.\n",
    "5. Logging: Record the exception for later analysis while allowing the program to continue.\n"
   ]
  },
  {
   "cell_type": "markdown",
   "metadata": {},
   "source": [
    "Q3. What are your options for recovering from an exception in your script?\n",
    "\n",
    "1. Raise statement: Manually raise an exception using the `raise` keyword, e.g., `raise ValueError(\"Invalid input\")`.\n",
    "2. Assert statement: Use `assert` to check conditions and raise an AssertionError if the condition is false, e.g., `assert x > 0, \"x must be positive\"`.\n"
   ]
  },
  {
   "cell_type": "markdown",
   "metadata": {},
   "source": [
    "Q5. Identify two methods for specifying actions to be executed at termination time, regardless of whether or not an exception exists.\n",
    "\n",
    "1. Finally block: Use a `try-finally` or `try-except-finally` block to ensure certain code always executes, even if an exception occurs.\n",
    "2. Context managers: Use the `with` statement to define actions that occur when entering and exiting a context, regardless of exceptions."
   ]
  }
 ],
 "metadata": {
  "language_info": {
   "name": "python"
  }
 },
 "nbformat": 4,
 "nbformat_minor": 2
}
