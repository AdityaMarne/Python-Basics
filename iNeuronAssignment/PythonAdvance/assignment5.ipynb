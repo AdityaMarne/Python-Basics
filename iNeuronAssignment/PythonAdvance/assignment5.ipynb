{
 "cells": [
  {
   "cell_type": "markdown",
   "metadata": {},
   "source": [
    "Q1. What is the meaning of multiple inheritance?\n",
    "\n",
    "Multiple inheritance is a feature in object-oriented programming where a class can inherit attributes and methods from more than one parent class. In Python, a class can inherit from multiple base classes, allowing it to combine features from different classes. This is defined by listing multiple parent classes in the class definition, separated by commas:\n",
    "\n",
    "```python\n",
    "class ChildClass(Parent1, Parent2, Parent3):\n",
    "    pass\n",
    "```\n",
    "\n",
    "Multiple inheritance can be powerful but also complex, especially when dealing with method resolution order and potential naming conflicts.\n"
   ]
  },
  {
   "cell_type": "markdown",
   "metadata": {},
   "source": [
    "Q2. What is the concept of delegation?\n",
    "\n",
    "Delegation is a design pattern where an object handles a request by delegating to a second object (the delegate). The first object doesn't know how to handle the request itself, so it passes the task to another object that does. This is often implemented in Python through composition, where one object contains another object as an attribute and forwards method calls to it.\n",
    "\n",
    "For example:\n",
    "\n",
    "```python\n",
    "class Delegator:\n",
    "    def __init__(self):\n",
    "        self.delegate = Delegate()\n",
    "    \n",
    "    def delegate_method(self):\n",
    "        return self.delegate.method()\n",
    "\n",
    "class Delegate:\n",
    "    def method(self):\n",
    "        return \"Method called via delegation\"\n",
    "```\n",
    "\n",
    "Delegation allows for flexible code reuse without the complexities of inheritance.\n",
    "\n"
   ]
  },
  {
   "cell_type": "markdown",
   "metadata": {},
   "source": [
    "Q3. What is the concept of composition?\n",
    "\n",
    "Composition is a design principle that suggests creating complex objects by combining simpler, independent objects. Instead of inheriting properties from a parent class, a class contains instances of other classes that it uses to access their functionality. This is often expressed as a \"has-a\" relationship, as opposed to inheritance's \"is-a\" relationship.\n",
    "\n",
    "For example:\n",
    "\n",
    "```python\n",
    "class Engine:\n",
    "    def start(self):\n",
    "        return \"Engine started\"\n",
    "\n",
    "class Car:\n",
    "    def __init__(self):\n",
    "        self.engine = Engine()\n",
    "    \n",
    "    def start_car(self):\n",
    "        return self.engine.start()\n",
    "```\n",
    "\n",
    "Composition provides greater flexibility and can lead to more modular and maintainable code compared to complex inheritance hierarchies.\n"
   ]
  },
  {
   "cell_type": "markdown",
   "metadata": {},
   "source": [
    "Q4. What are bound methods and how do we use them?\n",
    "\n",
    "Bound methods in Python are methods that have been bound to an instance of a class. When you access a method through an instance, Python automatically binds the instance to the method, creating a bound method. This bound method carries with it the instance it was called on, which becomes the `self` parameter when the method is invoked.\n",
    "\n",
    "For example:\n",
    "\n",
    "```python\n",
    "class MyClass:\n",
    "    def my_method(self):\n",
    "        return \"Called my_method\"\n",
    "\n",
    "obj = MyClass()\n",
    "bound_method = obj.my_method  # This is a bound method\n",
    "result = bound_method()  # Equivalent to obj.my_method()\n",
    "```\n",
    "\n",
    "Bound methods are useful because they retain the context of the instance they're bound to, allowing them to be passed around and used like regular functions while still having access to the instance's attributes.\n",
    "\n"
   ]
  },
  {
   "cell_type": "markdown",
   "metadata": {},
   "source": [
    "Q5. What is the purpose of pseudoprivate attributes?\n",
    "\n",
    "Pseudoprivate attributes in Python are a naming convention used to make attributes harder to access from outside the class, providing a form of name mangling. They are created by prefixing an attribute name with two underscores (but not ending with two underscores).\n",
    "\n",
    "For example:\n",
    "\n",
    "```python\n",
    "class MyClass:\n",
    "    def __init__(self):\n",
    "        self.__private_attr = \"I'm pseudoprivate\"\n",
    "```\n",
    "\n",
    "The purpose of pseudoprivate attributes is to:\n",
    "\n",
    "1. Avoid naming conflicts in inheritance hierarchies.\n",
    "2. Provide a weak form of encapsulation, making it less likely for external code to accidentally access or modify these attributes.\n",
    "3. Signal to other developers that these attributes are intended for internal use only.\n",
    "\n",
    "It's important to note that this is not true privacy – the attributes can still be accessed, but their names are mangled to include the class name, making them less convenient to access directly from outside the class.\n",
    "\n",
    "These concepts are important for writing more sophisticated and well-structured object-oriented code in Python, allowing for better code organization, reuse, and maintenance.\n"
   ]
  },
  {
   "cell_type": "code",
   "execution_count": null,
   "metadata": {},
   "outputs": [],
   "source": []
  }
 ],
 "metadata": {
  "language_info": {
   "name": "python"
  }
 },
 "nbformat": 4,
 "nbformat_minor": 2
}
