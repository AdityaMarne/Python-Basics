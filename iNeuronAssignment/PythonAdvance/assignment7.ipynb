{
 "cells": [
  {
   "cell_type": "markdown",
   "metadata": {},
   "source": [
    "Q1. What is the purpose of the try statement?\n",
    "\n",
    "The try statement is used to catch and handle exceptions in Python. It allows you to test a block of code for errors and provide specific actions to take when an exception occurs, preventing the program from crashing unexpectedly."
   ]
  },
  {
   "cell_type": "markdown",
   "metadata": {},
   "source": [
    "Q2. What are the two most popular try statement variations?\n",
    "\n",
    "1. try-except: This variation catches and handles specific exceptions.\n",
    "2. try-except-finally: This variation catches exceptions and ensures that cleanup code is executed, regardless of whether an exception occurred.\n"
   ]
  },
  {
   "cell_type": "markdown",
   "metadata": {},
   "source": [
    "Q3. What is the purpose of the raise statement?\n",
    "\n",
    "The raise statement is used to deliberately trigger an exception in Python. It allows you to create and throw your own custom exceptions or re-raise caught exceptions. This is useful for error handling and flow control in your programs"
   ]
  },
  {
   "cell_type": "markdown",
   "metadata": {},
   "source": [
    "Q4. What does the assert statement do, and what other statement is it like?\n",
    "\n",
    "The assert statement is used for debugging and testing purposes. It checks if a given condition is True and raises an AssertionError if it's False. It's similar to an if statement combined with raising an exception, but it's specifically designed for catching programming errors rather than handling expected runtime errors."
   ]
  },
  {
   "cell_type": "markdown",
   "metadata": {},
   "source": [
    "Q5. What is the purpose of the with/as argument, and what other statement is it like?\n",
    "\n",
    "\n",
    "The with statement is used for resource management and to simplify exception handling. It ensures that a resource is properly acquired and released, regardless of whether an exception occurs. The \"as\" part assigns the result of the expression to a variable.\n",
    "\n",
    "The with statement is similar to a try-finally block in that it guarantees execution of cleanup code. However, it's more concise and is specifically designed for use with context managers, which define __enter__ and __exit__ methods to manage resources.\n"
   ]
  },
  {
   "cell_type": "code",
   "execution_count": null,
   "metadata": {},
   "outputs": [],
   "source": []
  }
 ],
 "metadata": {
  "language_info": {
   "name": "python"
  }
 },
 "nbformat": 4,
 "nbformat_minor": 2
}
