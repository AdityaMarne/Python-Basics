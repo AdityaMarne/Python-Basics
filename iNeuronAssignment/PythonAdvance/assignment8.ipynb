{
 "cells": [
  {
   "cell_type": "markdown",
   "metadata": {},
   "source": [
    "Q1. What are the two latest user-defined exception constraints in Python 3.X?\n",
    "\n",
    "1.\tAll exceptions must be derived from the BaseException class or one of its subclasses.\n",
    "2.\tThe syntax for raising exceptions has changed. You now use the raise statement to raise exceptions.\n"
   ]
  },
  {
   "cell_type": "markdown",
   "metadata": {},
   "source": [
    "Q2. How are class-based exceptions that have been raised matched to handlers?\n",
    "\n",
    "Class-based exceptions in Python are matched to handlers using the try and except blocks. When an exception is raised, Python searches for an except block that matches the type of the exception. If a match is found, the corresponding block is executed. If no match is found, the exception propagates up the call stack until a matching handler is found or the program terminates."
   ]
  },
  {
   "cell_type": "markdown",
   "metadata": {},
   "source": [
    "Q3. Describe two methods for attaching context information to exception artefacts.\n",
    "\n",
    "1.\tUsing the __context__ attribute: This attribute automatically retains information about the previous exception when a new exception is raised during the handling of another exception.\n",
    "2.\tUsing the raise ... from statement: This explicitly sets the __cause__ attribute, allowing you to chain exceptions and provide additional context about the cause of the exception.\n"
   ]
  },
  {
   "cell_type": "markdown",
   "metadata": {},
   "source": [
    "Q4. Describe two methods for specifying the text of an exception object's error message.\n",
    "\n",
    "1.\tPassing a message to the exception constructor: When raising an exception, you can pass a custom error message to the constructor of the exception class. For example:\n",
    "2.\traise ValueError(\"Invalid input\")\n",
    "3.\tOverriding the __str__ method: You can define a custom __str__ method in your exception class to specify how the error message should be formatted:\n",
    "4.\tclass MyError(Exception):\n",
    "5.\t    def __init__(self, message):\n",
    "6.\t        self.message = message\n",
    "7.\t    def __str__(self):\n",
    "8.\t        return f\"MyError: {self.message}\"\n"
   ]
  },
  {
   "cell_type": "markdown",
   "metadata": {},
   "source": [
    "Q5. Why do you no longer use string-based exceptions?\n",
    "\n",
    "String-based exceptions were used in older versions of Python but were found to be limiting because they did not allow for exceptions to have any relationships to each other. With the introduction of exception classes, exceptions can now be organized hierarchically, making it easier to handle related exceptions together and providing more flexibility and clarity in exception handling."
   ]
  },
  {
   "cell_type": "code",
   "execution_count": null,
   "metadata": {},
   "outputs": [],
   "source": []
  }
 ],
 "metadata": {
  "language_info": {
   "name": "python"
  }
 },
 "nbformat": 4,
 "nbformat_minor": 2
}
