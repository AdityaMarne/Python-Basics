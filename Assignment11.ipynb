{
 "cells": [
  {
   "cell_type": "markdown",
   "id": "f2b6c0c1",
   "metadata": {},
   "source": [
    "# 1. Create an assert statement that throws an AssertionError if the variable spam is a negative integer."
   ]
  },
  {
   "cell_type": "markdown",
   "id": "52b67507",
   "metadata": {},
   "source": [
    "assertion is the boolean expression that checks if the statement is True or False. \n",
    "If the statement is true then it does nothing and continues the execution,\n",
    "but if the statement is False then it stops the execution of the program and throws an error.\n",
    "\n",
    "\n",
    "In Python, the assert keyword helps in achieving this task. This statement takes as input a \n",
    "boolean condition, which when returns true doesn’t do anything and continues the normal flow\n",
    "of execution, but if it is computed to be false, then it raises an AssertionError along with \n",
    "the optional message provided\n",
    "\n",
    "Syntax :- assert condition, error_message(optional)\n",
    "where,\n",
    "condition : The boolean condition returning true or false. \n",
    "error_message : The optional argument to be printed in console in case of AssertionError"
   ]
  },
  {
   "cell_type": "code",
   "execution_count": 1,
   "id": "105433df",
   "metadata": {},
   "outputs": [
    {
     "name": "stdout",
     "output_type": "stream",
     "text": [
      "Enter a postivite number :12\n",
      "12 is a positive number.\n"
     ]
    }
   ],
   "source": [
    "spam = int(input(\"Enter a postivite number :\"))\n",
    "assert spam > 0\n",
    "print(spam,\"is a positive number.\")"
   ]
  },
  {
   "cell_type": "code",
   "execution_count": 2,
   "id": "1cad33d9",
   "metadata": {},
   "outputs": [
    {
     "name": "stdout",
     "output_type": "stream",
     "text": [
      "Enter a postivite number :-8\n"
     ]
    },
    {
     "ename": "AssertionError",
     "evalue": "",
     "output_type": "error",
     "traceback": [
      "\u001b[1;31m---------------------------------------------------------------------------\u001b[0m",
      "\u001b[1;31mAssertionError\u001b[0m                            Traceback (most recent call last)",
      "\u001b[1;32m~\\AppData\\Local\\Temp\\ipykernel_18400\\1857815141.py\u001b[0m in \u001b[0;36m<module>\u001b[1;34m\u001b[0m\n\u001b[0;32m      1\u001b[0m \u001b[0mspam\u001b[0m \u001b[1;33m=\u001b[0m \u001b[0mint\u001b[0m\u001b[1;33m(\u001b[0m\u001b[0minput\u001b[0m\u001b[1;33m(\u001b[0m\u001b[1;34m\"Enter a postivite number :\"\u001b[0m\u001b[1;33m)\u001b[0m\u001b[1;33m)\u001b[0m\u001b[1;33m\u001b[0m\u001b[1;33m\u001b[0m\u001b[0m\n\u001b[1;32m----> 2\u001b[1;33m \u001b[1;32massert\u001b[0m \u001b[0mspam\u001b[0m \u001b[1;33m>\u001b[0m \u001b[1;36m0\u001b[0m\u001b[1;33m\u001b[0m\u001b[1;33m\u001b[0m\u001b[0m\n\u001b[0m\u001b[0;32m      3\u001b[0m \u001b[0mprint\u001b[0m\u001b[1;33m(\u001b[0m\u001b[0mspam\u001b[0m\u001b[1;33m,\u001b[0m\u001b[1;34m\"is a positive number.\"\u001b[0m\u001b[1;33m)\u001b[0m\u001b[1;33m\u001b[0m\u001b[1;33m\u001b[0m\u001b[0m\n",
      "\u001b[1;31mAssertionError\u001b[0m: "
     ]
    }
   ],
   "source": [
    "spam = int(input(\"Enter a postivite number :\"))\n",
    "assert spam > 0\n",
    "print(spam,\"is a positive number.\")"
   ]
  },
  {
   "cell_type": "markdown",
   "id": "3e038347",
   "metadata": {},
   "source": [
    "# 2. Write an assert statement that triggers an AssertionError if the variables eggs and bacon contain strings that are the same as each other, even if their cases are different (that is, 'hello' and 'hello' are considered the same, and 'goodbye' and 'GOODbye' are also considered the same)."
   ]
  },
  {
   "cell_type": "code",
   "execution_count": 6,
   "id": "86ff4fc7",
   "metadata": {},
   "outputs": [
    {
     "name": "stdout",
     "output_type": "stream",
     "text": [
      "Enter a string :hello\n",
      "Enter a string :hello\n"
     ]
    },
    {
     "ename": "AssertionError",
     "evalue": "",
     "output_type": "error",
     "traceback": [
      "\u001b[1;31m---------------------------------------------------------------------------\u001b[0m",
      "\u001b[1;31mAssertionError\u001b[0m                            Traceback (most recent call last)",
      "\u001b[1;32m~\\AppData\\Local\\Temp\\ipykernel_18400\\1167814617.py\u001b[0m in \u001b[0;36m<module>\u001b[1;34m\u001b[0m\n\u001b[0;32m      1\u001b[0m \u001b[0meggs\u001b[0m \u001b[1;33m=\u001b[0m \u001b[0minput\u001b[0m\u001b[1;33m(\u001b[0m\u001b[1;34m\"Enter a string :\"\u001b[0m\u001b[1;33m)\u001b[0m\u001b[1;33m\u001b[0m\u001b[1;33m\u001b[0m\u001b[0m\n\u001b[0;32m      2\u001b[0m \u001b[0mbacon\u001b[0m \u001b[1;33m=\u001b[0m \u001b[0minput\u001b[0m\u001b[1;33m(\u001b[0m\u001b[1;34m\"Enter a string :\"\u001b[0m\u001b[1;33m)\u001b[0m\u001b[1;33m\u001b[0m\u001b[1;33m\u001b[0m\u001b[0m\n\u001b[1;32m----> 3\u001b[1;33m \u001b[1;32massert\u001b[0m \u001b[0meggs\u001b[0m\u001b[1;33m.\u001b[0m\u001b[0mlower\u001b[0m\u001b[1;33m(\u001b[0m\u001b[1;33m)\u001b[0m \u001b[1;33m!=\u001b[0m \u001b[0mbacon\u001b[0m\u001b[1;33m.\u001b[0m\u001b[0mlower\u001b[0m\u001b[1;33m(\u001b[0m\u001b[1;33m)\u001b[0m \u001b[1;32mor\u001b[0m \u001b[0meggs\u001b[0m\u001b[1;33m.\u001b[0m\u001b[0mupper\u001b[0m\u001b[1;33m(\u001b[0m\u001b[1;33m)\u001b[0m \u001b[1;33m!=\u001b[0m \u001b[0mbacon\u001b[0m\u001b[1;33m.\u001b[0m\u001b[0mupper\u001b[0m\u001b[1;33m(\u001b[0m\u001b[1;33m)\u001b[0m\u001b[1;33m\u001b[0m\u001b[1;33m\u001b[0m\u001b[0m\n\u001b[0m\u001b[0;32m      4\u001b[0m \u001b[0mprint\u001b[0m\u001b[1;33m(\u001b[0m\u001b[1;34m\"eggs and bacon are not same\"\u001b[0m\u001b[1;33m)\u001b[0m\u001b[1;33m\u001b[0m\u001b[1;33m\u001b[0m\u001b[0m\n",
      "\u001b[1;31mAssertionError\u001b[0m: "
     ]
    }
   ],
   "source": [
    "eggs = input(\"Enter a string :\")\n",
    "bacon = input(\"Enter a string :\")\n",
    "assert eggs.lower() != bacon.lower() or eggs.upper() != bacon.upper()\n",
    "print(\"eggs and bacon are not same\")"
   ]
  },
  {
   "cell_type": "code",
   "execution_count": 7,
   "id": "f0f0bc39",
   "metadata": {},
   "outputs": [
    {
     "name": "stdout",
     "output_type": "stream",
     "text": [
      "Enter a string :goodbye\n",
      "Enter a string :GOODbye\n"
     ]
    },
    {
     "ename": "AssertionError",
     "evalue": "",
     "output_type": "error",
     "traceback": [
      "\u001b[1;31m---------------------------------------------------------------------------\u001b[0m",
      "\u001b[1;31mAssertionError\u001b[0m                            Traceback (most recent call last)",
      "\u001b[1;32m~\\AppData\\Local\\Temp\\ipykernel_18400\\1167814617.py\u001b[0m in \u001b[0;36m<module>\u001b[1;34m\u001b[0m\n\u001b[0;32m      1\u001b[0m \u001b[0meggs\u001b[0m \u001b[1;33m=\u001b[0m \u001b[0minput\u001b[0m\u001b[1;33m(\u001b[0m\u001b[1;34m\"Enter a string :\"\u001b[0m\u001b[1;33m)\u001b[0m\u001b[1;33m\u001b[0m\u001b[1;33m\u001b[0m\u001b[0m\n\u001b[0;32m      2\u001b[0m \u001b[0mbacon\u001b[0m \u001b[1;33m=\u001b[0m \u001b[0minput\u001b[0m\u001b[1;33m(\u001b[0m\u001b[1;34m\"Enter a string :\"\u001b[0m\u001b[1;33m)\u001b[0m\u001b[1;33m\u001b[0m\u001b[1;33m\u001b[0m\u001b[0m\n\u001b[1;32m----> 3\u001b[1;33m \u001b[1;32massert\u001b[0m \u001b[0meggs\u001b[0m\u001b[1;33m.\u001b[0m\u001b[0mlower\u001b[0m\u001b[1;33m(\u001b[0m\u001b[1;33m)\u001b[0m \u001b[1;33m!=\u001b[0m \u001b[0mbacon\u001b[0m\u001b[1;33m.\u001b[0m\u001b[0mlower\u001b[0m\u001b[1;33m(\u001b[0m\u001b[1;33m)\u001b[0m \u001b[1;32mor\u001b[0m \u001b[0meggs\u001b[0m\u001b[1;33m.\u001b[0m\u001b[0mupper\u001b[0m\u001b[1;33m(\u001b[0m\u001b[1;33m)\u001b[0m \u001b[1;33m!=\u001b[0m \u001b[0mbacon\u001b[0m\u001b[1;33m.\u001b[0m\u001b[0mupper\u001b[0m\u001b[1;33m(\u001b[0m\u001b[1;33m)\u001b[0m\u001b[1;33m\u001b[0m\u001b[1;33m\u001b[0m\u001b[0m\n\u001b[0m\u001b[0;32m      4\u001b[0m \u001b[0mprint\u001b[0m\u001b[1;33m(\u001b[0m\u001b[1;34m\"eggs and bacon are not same\"\u001b[0m\u001b[1;33m)\u001b[0m\u001b[1;33m\u001b[0m\u001b[1;33m\u001b[0m\u001b[0m\n",
      "\u001b[1;31mAssertionError\u001b[0m: "
     ]
    }
   ],
   "source": [
    "eggs = input(\"Enter a string :\")\n",
    "bacon = input(\"Enter a string :\")\n",
    "assert eggs.lower() != bacon.lower() or eggs.upper() != bacon.upper()\n",
    "print(\"eggs and bacon are not same\")"
   ]
  },
  {
   "cell_type": "code",
   "execution_count": 8,
   "id": "eb70355b",
   "metadata": {},
   "outputs": [
    {
     "name": "stdout",
     "output_type": "stream",
     "text": [
      "Enter a string :aditya\n",
      "Enter a string :hsjs\n",
      "eggs and bacon are not same\n"
     ]
    }
   ],
   "source": [
    "eggs = input(\"Enter a string :\")\n",
    "bacon = input(\"Enter a string :\")\n",
    "assert eggs.lower() != bacon.lower() or eggs.upper() != bacon.upper()\n",
    "print(\"eggs and bacon are not same\")"
   ]
  },
  {
   "cell_type": "markdown",
   "id": "8e79e470",
   "metadata": {},
   "source": [
    "# 3. Create an assert statement that throws an AssertionError every time"
   ]
  },
  {
   "cell_type": "code",
   "execution_count": 9,
   "id": "2fc3e7ff",
   "metadata": {},
   "outputs": [
    {
     "ename": "AssertionError",
     "evalue": "",
     "output_type": "error",
     "traceback": [
      "\u001b[1;31m---------------------------------------------------------------------------\u001b[0m",
      "\u001b[1;31mAssertionError\u001b[0m                            Traceback (most recent call last)",
      "\u001b[1;32m~\\AppData\\Local\\Temp\\ipykernel_18400\\2103537015.py\u001b[0m in \u001b[0;36m<module>\u001b[1;34m\u001b[0m\n\u001b[1;32m----> 1\u001b[1;33m \u001b[1;32massert\u001b[0m \u001b[1;32mFalse\u001b[0m\u001b[1;33m\u001b[0m\u001b[1;33m\u001b[0m\u001b[0m\n\u001b[0m",
      "\u001b[1;31mAssertionError\u001b[0m: "
     ]
    }
   ],
   "source": [
    "assert False"
   ]
  },
  {
   "cell_type": "markdown",
   "id": "da7e5706",
   "metadata": {},
   "source": [
    "# 4. What are the two lines that must be present in your software in order to call logging.debug()?"
   ]
  },
  {
   "cell_type": "code",
   "execution_count": 10,
   "id": "c8eaed6e",
   "metadata": {},
   "outputs": [],
   "source": [
    "import logging as lg\n",
    "lg.basicConfig(level=lg.DEBUG, format=' %(asctime)s - %(levelname)s - %(message)s')"
   ]
  },
  {
   "cell_type": "markdown",
   "id": "84927f3d",
   "metadata": {},
   "source": [
    "# 5. What are the two lines that your program must have in order to have logging.debug() send a logging message to a file named programLog.txt?"
   ]
  },
  {
   "cell_type": "code",
   "execution_count": 11,
   "id": "88b4fc56",
   "metadata": {},
   "outputs": [],
   "source": [
    "import logging as lg\n",
    "lg.basicConfig(filename = \"programLog.txt\", level = lg.DEBUG, format = '%(asctime)s - %(levelname)s - %(message)s')"
   ]
  },
  {
   "cell_type": "markdown",
   "id": "e14c3f6a",
   "metadata": {},
   "source": [
    "# 6. What are the five levels of logging?"
   ]
  },
  {
   "cell_type": "code",
   "execution_count": null,
   "id": "eefba32d",
   "metadata": {},
   "outputs": [],
   "source": [
    "Debug: These are used to give Detailed information, typically of interest only when diagnosing problems.\n",
    "    \n",
    "Info: These are used to confirm that things are working as expected\n",
    "    \n",
    "Warning: These are used as an indication that something unexpected happened, or is indicative of some \n",
    "          problem in  the near future\n",
    "        \n",
    "Critical: This tells serious error, indicating that the program itself may be unable to continue running"
   ]
  },
  {
   "cell_type": "markdown",
   "id": "a5b4e3b3",
   "metadata": {},
   "source": [
    "# 7. What line of code would you add to your software to disable all logging messages?"
   ]
  },
  {
   "cell_type": "code",
   "execution_count": 12,
   "id": "d7298ba2",
   "metadata": {},
   "outputs": [],
   "source": [
    "import logging as lg\n",
    "lg.disable(level = lg.CRITICAL)"
   ]
  },
  {
   "cell_type": "markdown",
   "id": "70ab0b88",
   "metadata": {},
   "source": [
    "# 8.Why is using logging messages better than using print() to display the same message?"
   ]
  },
  {
   "cell_type": "code",
   "execution_count": null,
   "id": "b1f95c0d",
   "metadata": {},
   "outputs": [],
   "source": [
    "Easy to see where and when (even what line no.) a logging call is being made from.\n",
    "You can log to files, sockets, pretty much anything, all at the same time.\n",
    "You can differentiate your logging based on severity.\n",
    "You can disable logging messages without removing the logging function calls. \n",
    "You can selectively disable lower-level logging messages.\n",
    "You can create logging messages. Logging messages provides a timestamp.\n",
    "Print doesn't have any of these."
   ]
  },
  {
   "cell_type": "markdown",
   "id": "ef11a92c",
   "metadata": {},
   "source": [
    "# 9.What are the differences between the Step Over, Step In, and Step Out buttons in the debugger?"
   ]
  },
  {
   "cell_type": "code",
   "execution_count": null,
   "id": "8010619a",
   "metadata": {},
   "outputs": [],
   "source": [
    "During Debugging Process, “step into,” “step over,” and “step out” refer to different ways \n",
    "of executing code and navigating through the program during the debugging process.\n",
    "\n",
    "Step In :-\n",
    "means that if there is a function call, it goes inside the function and you can see how the \n",
    "function is executing line by line till it returns and you go back to the next line right after\n",
    "the function call.\n",
    "e.g:-\n",
    "function addNumbers(a, b) {\n",
    "  let result = a + b;\n",
    "}\n",
    "\n",
    "let x = 5;\n",
    "let y = 10;\n",
    "// If you \"step into\" below line, you will enter the 'addNumbers' function.\n",
    "let z = addNumbers(x, y);  \n",
    "\n",
    "Step Over :- \n",
    "means that if there is a function call, it just executes it like a black box and returns \n",
    "the result, but you cannot see how the function was executed.\n",
    "e.g:-\n",
    "function addNumbers(a, b) {\n",
    "  let result = a + b;\n",
    "  return result;\n",
    "}\n",
    "\n",
    "let x = 5;\n",
    "let y = 10;\n",
    "// If you \"step over\" below line, you will not enter the 'addNumbers' function.\n",
    "let z = addNumbers(x, y);\n",
    "\n",
    "Step Out :- \n",
    "means that if you have Stepped in a function and now you want to skip seeing how the rest of the\n",
    "function is going to execute, you Step out and the function returns. Then, you go back to the next line,\n",
    "that is the line right after the function call.\n",
    "e.g:-\n",
    "function multiplyNumbers(a, b) {\n",
    "  let result = a * b;\n",
    "  return result;\n",
    "}\n",
    "\n",
    "function addNumbers(a, b) {\n",
    "  let sumResult = a + b;\n",
    "  \n",
    " // If you \"step into\" here and then \"step out,\" you will return to this line.\n",
    "  let product = multiplyNumbers(a, b);  \n",
    "  return sumResult + product;\n",
    "}\n",
    "\n",
    "let x = 5;\n",
    "let y = 10;\n",
    "\n",
    "// If you \"step out\" here, you will return to where 'addNumbers' was called.\n",
    "let z = addNumbers(x, y);  "
   ]
  },
  {
   "cell_type": "markdown",
   "id": "dfbef025",
   "metadata": {},
   "source": [
    "# 10.After you click Continue, when will the debugger stop ?"
   ]
  },
  {
   "cell_type": "markdown",
   "id": "4c843938",
   "metadata": {},
   "source": [
    "It will stops at next breakpoint, if there are no further breakpoints program will be fully executed."
   ]
  },
  {
   "cell_type": "markdown",
   "id": "61c4c6b9",
   "metadata": {},
   "source": [
    "# 11. What is the concept of a breakpoint?"
   ]
  },
  {
   "cell_type": "code",
   "execution_count": null,
   "id": "1d93b021",
   "metadata": {},
   "outputs": [],
   "source": [
    "at the location you want to break into the debugger, and then run the program. You can then step \n",
    "through the code following this statement, and continue running without the debugger using the continue command."
   ]
  },
  {
   "cell_type": "code",
   "execution_count": 14,
   "id": "d2c526bd",
   "metadata": {},
   "outputs": [
    {
     "name": "stdout",
     "output_type": "stream",
     "text": [
      "3 * 2 is 6\n"
     ]
    }
   ],
   "source": [
    "def double(x):\n",
    "   breakpoint()\n",
    "   return x * 2\n",
    "val = 3\n",
    "print(f\"{val} * 2 is {double(val)}\")"
   ]
  },
  {
   "cell_type": "code",
   "execution_count": null,
   "id": "eb2998a6",
   "metadata": {},
   "outputs": [],
   "source": []
  }
 ],
 "metadata": {
  "kernelspec": {
   "display_name": "Python 3 (ipykernel)",
   "language": "python",
   "name": "python3"
  },
  "language_info": {
   "codemirror_mode": {
    "name": "ipython",
    "version": 3
   },
   "file_extension": ".py",
   "mimetype": "text/x-python",
   "name": "python",
   "nbconvert_exporter": "python",
   "pygments_lexer": "ipython3",
   "version": "3.9.13"
  }
 },
 "nbformat": 4,
 "nbformat_minor": 5
}
