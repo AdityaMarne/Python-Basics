{
 "cells": [
  {
   "cell_type": "markdown",
   "id": "7f07f7b6",
   "metadata": {},
   "source": [
    "# 1. What is the relationship between def statements and lambda expressions ?"
   ]
  },
  {
   "cell_type": "markdown",
   "id": "c142fdc5",
   "metadata": {},
   "source": [
    "In Python, both `def` statements and `lambda` expressions are used to create functions. Here are some key differences between them:\n",
    "\n",
    "1.Syntax: `def` is a statement that defines a function with a name, while `lambda` is an expression that creates an anonymous function.\n",
    "\n",
    "2.Return Statement: `def` defined functions do not return anything if not explicitly returned, whereas the `lambda` function does return an object.\n",
    "\n",
    "3.Namespace: `def` functions must be declared in the namespace, while `lambda` functions can be used without any declaration in the namespace.\n",
    "\n",
    "4.Functionality: `def` functions can perform any Python task including multiple conditions, nested conditions or loops of any level, printing, importing libraries, raising Exceptions, etc. On the other hand, `lambda` functions are like single-line functions and are more limited in their operations.\n",
    "\n",
    "5.Execution Time: The execution time of a program is faster for the same operation performed using `lambda` functions compared to `def` defined functions.\n",
    "\n",
    "6.Readability: `def` defined functions are easier to interpret, while interpretation might be tricky for `lambda` functions.\n",
    "\n",
    "every function created with `lambda` can also be created with `def`. However, this is not the case the other way around. It's recommended to use"
   ]
  },
  {
   "cell_type": "markdown",
   "id": "930ceb40",
   "metadata": {},
   "source": [
    "# 2. What is the benefit of lambda?"
   ]
  },
  {
   "cell_type": "markdown",
   "id": "20775f93",
   "metadata": {},
   "source": [
    "Lambda functions, also known as anonymous functions, have several benefits in Python programming:\n",
    "\n",
    "1.Concise Code: Lambda functions allow you to write small, concise code without having to define a separate function.\n",
    "\n",
    "2.One-Time Use: Lambda functions are typically used when you need a small function for a one-time use case.\n",
    "\n",
    "3.Functional Programming: Lambda functions are very important in the context of functional programming, interacting mainly with interfaces such as filter, map and so forth.\n",
    "\n",
    "4.Reduces Lines of Code: Lambda functions can reduce the number of lines of code when compared to normal python function defined using `def` keyword."
   ]
  },
  {
   "cell_type": "markdown",
   "id": "54432c37",
   "metadata": {},
   "source": [
    "# 3. Compare and contrast map, filter, and reduce."
   ]
  },
  {
   "cell_type": "markdown",
   "id": "1bb8cbb2",
   "metadata": {},
   "source": [
    "`map()`, `filter()`, and `reduce()` are three fundamental functions of functional programming in Python that allow you to operate over a sequence of elements.\n",
    "\n",
    "1.map(): The `map()` function iterates through all items in the given iterable and executes the function we passed as an argument on each of them. The syntax is: `map(function, iterable(s))`. We can pass as many iterable objects as we want after passing the function we want to use. The output of `map()` is an iterator that returns the transformed items.\n",
    "\n",
    "2.filter(): The `filter()` function constructs an iterator from elements of an iterable for which a function returns true. In simple words, filter() forms a new list that contains only elements that satisfy a certain condition.\n",
    "\n",
    "3.reduce(): The `reduce()` function works differently than `map()` and `filter()`. It does not return a new list based on the function and iterable we've passed. Instead, it returns a single value. Also, in Python 3 `reduce()` isn't a built-in function anymore, and it can be found in the `functools` module. The syntax is: `reduce(function, sequence[, initial])`.\n",
    "\n",
    "All three of these methods expect a function object as the first argument. This function object can be a pre-defined method with a name (like `def add (x,y)`). Though, more often than not, functions passed to `map()`, `filter()`, and `reduce()` are the ones you'd use only once, so there's often no point in defining a referenceable function¹. To avoid defining a new function for your different `map()`, `filter()`, `reduce()` needs - a more elegant solution would be to use a short, disposable, anonymous function that you will only use once and never again - a lambda.\n",
    "\n",
    "These three functions allow you to apply a function across a number of iterables, in one fell swoop. They allow the programmer to write simpler, shorter code, without necessarily needing to bother about intricacies like loops and branching."
   ]
  },
  {
   "cell_type": "code",
   "execution_count": 6,
   "id": "c3b3177d",
   "metadata": {},
   "outputs": [
    {
     "name": "stdout",
     "output_type": "stream",
     "text": [
      "False\n",
      "False\n",
      "False\n",
      "False\n",
      "True\n"
     ]
    }
   ],
   "source": [
    "### Map functions\n",
    "Animal = [\"Anteater\", \"Dog\", \"Elephant\", \"Giraffe\", \"Cat\"]\n",
    "map_object = map(lambda s: s[0] == \"C\", Animal)\n",
    "\n",
    "\n",
    "for i in map_object:\n",
    "    print(i)"
   ]
  },
  {
   "cell_type": "code",
   "execution_count": 5,
   "id": "2fd6577c",
   "metadata": {},
   "outputs": [
    {
     "name": "stdout",
     "output_type": "stream",
     "text": [
      "Cat\n"
     ]
    }
   ],
   "source": [
    "### Filter function\n",
    "Animal = [\"Anteater\", \"Dog\", \"Elephant\", \"Giraffe\", \"Cat\"]\n",
    "filter_object = filter(lambda s: s[0] == \"C\", Animal)\n",
    "\n",
    "for i in filter_object:\n",
    "    print(i)"
   ]
  },
  {
   "cell_type": "code",
   "execution_count": 7,
   "id": "c2f99a49",
   "metadata": {},
   "outputs": [
    {
     "name": "stdout",
     "output_type": "stream",
     "text": [
      "18\n",
      "With an initial value: 28\n"
     ]
    }
   ],
   "source": [
    "### Reduce function\n",
    "from functools import reduce\n",
    "\n",
    "list = [4, 3, 8, 3]\n",
    "print(reduce(lambda x, y: x + y, list))\n",
    "print(\"With an initial value: \" + str(reduce(lambda x, y: x + y, list, 10)))"
   ]
  },
  {
   "cell_type": "markdown",
   "id": "abddd022",
   "metadata": {},
   "source": [
    "# 4. What are function annotations, and how are they used?"
   ]
  },
  {
   "cell_type": "markdown",
   "id": "0dcb81f7",
   "metadata": {},
   "source": [
    "Function annotation is the standard way to access the metadata with the arguments and the return value of the function.\n",
    "These are nothing but some random and optional Python expressions that get allied to different parts of the function.\n",
    "They get evaluated only during the compile-time and have no significance during the run-time of the code.\n",
    "They do not have any significance or meaning associated with them until accessed by some third-party libraries.\n",
    "They are used to type check the functions by declaring the type of the parameters and the return value for the functions.\n",
    "The string-based annotations help us to improve the help messages.\n",
    "\n",
    "Syntax :\n",
    "def func(a: 'int') -> 'int':\n",
    "    pass\n",
    "\n",
    "Annotations for simple parameters:\n",
    "def func(x: 'float'=10.8, y: 'argument2'):\n",
    "In the above code the argument, ‘x’ of the function func, \n",
    "has been annotated to float data type and the argument ‘y’ \n",
    "has a string-based annotation. The argument can also be \n",
    "assigned to a default value using a ‘=’ symbol followed \n",
    "by the default value. These default values are optional to the code.\n",
    "\n",
    "Annotations for return values:\n",
    "def func(a: expression) -> 'int':\n",
    "The annotations for the return value is written after the ‘->’ symbol."
   ]
  },
  {
   "cell_type": "code",
   "execution_count": null,
   "id": "dc6fb109",
   "metadata": {},
   "outputs": [],
   "source": [
    "def fib(n:'float', b:'int')-> 'result': \n",
    "    pass\n",
    "print(fib.__annotations__)"
   ]
  },
  {
   "cell_type": "markdown",
   "id": "19312160",
   "metadata": {},
   "source": [
    "# 5. What are recursive functions, and how are they used?"
   ]
  },
  {
   "cell_type": "markdown",
   "id": "8015dc9a",
   "metadata": {},
   "source": [
    "A recursive function is a function that calls itself during its execution. \n",
    "This means that the function will continue to call itself and repeat its behavior until some condition is met to return a result"
   ]
  },
  {
   "cell_type": "code",
   "execution_count": 1,
   "id": "c421efe4",
   "metadata": {},
   "outputs": [
    {
     "data": {
      "text/plain": [
       "6"
      ]
     },
     "execution_count": 1,
     "metadata": {},
     "output_type": "execute_result"
    }
   ],
   "source": [
    "def fact(x):\n",
    "    if x == 1 :\n",
    "        return 1\n",
    "    else :\n",
    "        return x * fact(x-1) # recurtion\n",
    "    \n",
    "fact(3)"
   ]
  },
  {
   "cell_type": "markdown",
   "id": "225628cd",
   "metadata": {},
   "source": [
    "# 6. What are some general design guidelines for coding functions?"
   ]
  },
  {
   "cell_type": "markdown",
   "id": "dc8bbf1e",
   "metadata": {},
   "source": [
    "1. Use 4-space indentation and no tabs.\n",
    "2. Use docstrings\n",
    "3. Wrap linethat they don’t exceed 79 characters\n",
    "4. Use of regular and updated comments are valuable to both the coders and users\n",
    "5. Use of trailing commas : in case of tuple -> ('good',)\n",
    "6. Use Python’s default UTF-8 or ASCII encodings and not any fancy encodings\n",
    "7. Naming Conventions\n",
    "8.Characters that should not be used for identifiers :\n",
    "    ‘l’ (lowercase letter el), \n",
    "    ‘O’ (uppercase letter oh), \n",
    "    ‘I’ (uppercase letter eye) as single character variable names as these are similar to the numerals one and zero.\n",
    "9. Don’t use non-ASCII characters in identifiers\n",
    "10. Name your classes and functions consistently\n",
    "11. While naming of function of methods always use self for the first argument"
   ]
  },
  {
   "cell_type": "markdown",
   "id": "bbd6c8fd",
   "metadata": {},
   "source": [
    "# 7. Name three or more ways that functions can communicate results to a caller."
   ]
  },
  {
   "cell_type": "markdown",
   "id": "61ee056f",
   "metadata": {},
   "source": [
    "1. Function can return single value\n",
    "2. Can return multiple values, tuple\n",
    "3. can return list,dictionary\n",
    "4. can return function object\n",
    "5. can return class object"
   ]
  },
  {
   "cell_type": "code",
   "execution_count": null,
   "id": "b5eca3ca",
   "metadata": {},
   "outputs": [],
   "source": []
  }
 ],
 "metadata": {
  "kernelspec": {
   "display_name": "Python 3 (ipykernel)",
   "language": "python",
   "name": "python3"
  },
  "language_info": {
   "codemirror_mode": {
    "name": "ipython",
    "version": 3
   },
   "file_extension": ".py",
   "mimetype": "text/x-python",
   "name": "python",
   "nbconvert_exporter": "python",
   "pygments_lexer": "ipython3",
   "version": "3.9.13"
  }
 },
 "nbformat": 4,
 "nbformat_minor": 5
}
