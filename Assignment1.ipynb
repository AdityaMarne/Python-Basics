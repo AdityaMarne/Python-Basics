{
 "cells": [
  {
   "cell_type": "code",
   "execution_count": null,
   "id": "75f9dcdc",
   "metadata": {},
   "outputs": [],
   "source": [
    "1. In the below elements which of them are values or an expression? eg:- values can be integer or\n",
    "   string and expressions will be mathematical operators.\n",
    "Ans:-\n",
    "\n",
    "*           :- Expression\n",
    "'hello'     :- Value\n",
    "-87.8       :- Value\n",
    "-           :- Expression\n",
    "/           :- Expression\n",
    "+           :- Expression\n",
    "6           :- Value\n"
   ]
  },
  {
   "cell_type": "code",
   "execution_count": null,
   "id": "a30e3f67",
   "metadata": {},
   "outputs": [],
   "source": []
  },
  {
   "cell_type": "code",
   "execution_count": null,
   "id": "16b5465c",
   "metadata": {},
   "outputs": [],
   "source": [
    "2. What is the difference between string and variable?\n",
    "Ans:-\n",
    "    \n",
    "String :- String is nothing but a collection of charecters.String must be in double or sigle qouts.\n",
    "          Example :- print(\"Hello world\")\n",
    "                    In this Hello world is string.\n",
    "                    a = \"Aditya\"\n",
    "                    Using variable we can store string Aditya in variable a.\n",
    "                    \n",
    "                    \n",
    "Variable :- Variable is like container is used to store differt data types. Variable can strore int \n",
    "            char, bool, string, float kind of data types.\n",
    "            Example :- a = 10\n",
    "                     In this a is variable use of a is store the value 10. \n",
    "                     The value of a can be anything."
   ]
  },
  {
   "cell_type": "code",
   "execution_count": null,
   "id": "6cb1c807",
   "metadata": {},
   "outputs": [],
   "source": []
  },
  {
   "cell_type": "code",
   "execution_count": null,
   "id": "47947304",
   "metadata": {},
   "outputs": [],
   "source": [
    "3. Describe three different data types.\n",
    "Ans:-\n",
    "    \n",
    "a)int :- int is used to store integer type value.Integer values are not iterable.\n",
    "         It holds signed integer numbers.\n",
    "         Example :- a = 10\n",
    "                \n",
    "b)float :- float is used to store floating point number. floating point means \n",
    "            the number that contain decimal point.Decimal place is accurate up to \n",
    "            15 decimal places.\n",
    "            Example :- a = 10.00\n",
    "            \n",
    "c)string :- string is used to store string type of data. String is \n",
    "            collection of characters. String can be written in double or \n",
    "            single quots. We can iterate over a string by each character by character.\n",
    "            Example :- a = \"Aditya\"\n",
    "                \n",
    "d)complex :- complex is consist of real an imaginery part.\n",
    "            Example :- a = 10+6i\n",
    "                       Here 10 is real part and 6 is imaginary part. \n",
    "                \n",
    "e)boolean :- It holds either true or false\n",
    "            Example :- a = false\n",
    "                       a = true\n",
    "                \n",
    "f)list :- list is collection of heterogineous types of data.We can iterate or list by using \n",
    "          index number.\n",
    "          Example :- l = [0,1,2,3]\n",
    "                     l[0]\n",
    "                    Here we create a list l and access index 0 element.\n",
    "                    \n",
    "g)tuple :- Tuple is collection of items same as a list. The difference is that tuples are immutable.\n",
    "            Tuples once created cannot be modified. Use parentheses () to store items of a tupe\n",
    "            Example t = ('sd',44.33)\n",
    "                    t[0]\n",
    "                    Here we create a tuple and access index 0 element.\n",
    "\n",
    "h)set :- set is unordered collection of unique items.Set is defined by values separated by commas inside\n",
    "         braces {}.set are unorder so indexing has no meaning. the slicing does not work in set.\n",
    "        Example :- s = {1,3,4,56,1}\n",
    "                   print(s)\n",
    " \n",
    "i)dictionary :- Dictionary store elements in key:value pair. Keys can be unique.To access values in key\n",
    "                use keys.\n",
    "                Example :- d = {1:'a',2:'d',3:'c'}\n",
    "                        d[1]\n",
    "                        Here we create dictionary d and access value by using key.\n"
   ]
  },
  {
   "cell_type": "code",
   "execution_count": null,
   "id": "7e7bd0bf",
   "metadata": {},
   "outputs": [],
   "source": []
  },
  {
   "cell_type": "code",
   "execution_count": null,
   "id": "07aab0d2",
   "metadata": {},
   "outputs": [],
   "source": [
    "4. What is an expression made up of? What do all expressions do?\n",
    "Ans:-\n",
    "An expression is a combination of operators, constants  and variables.An expression\n",
    "may consist of one or more operands and zero or more operators to produce a value.\n",
    "Example :- result = a + b * c ....\n",
    "           Here result variable is used to store the expression value.\n",
    "           a,b,c are operands and + * are operators. "
   ]
  },
  {
   "cell_type": "code",
   "execution_count": null,
   "id": "a7fe78d2",
   "metadata": {},
   "outputs": [],
   "source": []
  },
  {
   "cell_type": "code",
   "execution_count": null,
   "id": "1768fa84",
   "metadata": {},
   "outputs": [],
   "source": [
    "5. This assignment statements, like spam = 10. What is the difference between an expression and a statement?\n",
    "Ans :-\n",
    "An expression is a combination of operators, constants  and variables.\n",
    "this assignment statement conatin 10 value and expression is used to find value."
   ]
  },
  {
   "cell_type": "code",
   "execution_count": null,
   "id": "96533670",
   "metadata": {},
   "outputs": [],
   "source": []
  },
  {
   "cell_type": "code",
   "execution_count": null,
   "id": "f769c8dc",
   "metadata": {},
   "outputs": [],
   "source": [
    "6. After running the following code, what does the variable bacon contain?\n",
    "bacon = 22\n",
    "bacon + 1\n",
    "Ans :-\n",
    "First value 22 is assigned to bacon \n",
    "and by adding +1 we can increment value of 22 by 1\n",
    "so the value of bacon becomes 23."
   ]
  },
  {
   "cell_type": "code",
   "execution_count": null,
   "id": "d16243a9",
   "metadata": {},
   "outputs": [],
   "source": []
  },
  {
   "cell_type": "code",
   "execution_count": null,
   "id": "b4212daa",
   "metadata": {},
   "outputs": [],
   "source": [
    "7. What should the values of the following two terms be?\n",
    "'spam' + 'spamspam'\n",
    "'spam' * 3\n",
    "Ans :- \n",
    "In first line we use + operator so if we use + operator between any two string so plus operator\n",
    "concatinet both the string.\n",
    "'span' + 'spamspam'\n",
    "it gives output as \n",
    "'spamspamspam'\n",
    "\n",
    "In second the span is repeted 3 times because we use * operator\n",
    "'spam' * 3\n",
    "it gives output as \n",
    "'spamspamspam'\n"
   ]
  },
  {
   "cell_type": "code",
   "execution_count": null,
   "id": "f0ee7e4f",
   "metadata": {},
   "outputs": [],
   "source": []
  },
  {
   "cell_type": "code",
   "execution_count": null,
   "id": "8b5865f7",
   "metadata": {},
   "outputs": [],
   "source": [
    "8. Why is eggs a valid variable name while 100 is invalid?\n",
    "Ans :-\n",
    "Because there are some rule to define variable:\n",
    "1)We cannot use variable name as any reserve keyword.\n",
    "2)Variable must not contain any white space and special character.\n",
    "3)Variable names are case sensitive.\n",
    "4)Variable name cannot begin with a number.\n",
    "So this cannot follow rule 4 so 100 is invalid name for variable."
   ]
  },
  {
   "cell_type": "code",
   "execution_count": null,
   "id": "69d24cb6",
   "metadata": {},
   "outputs": [],
   "source": []
  },
  {
   "cell_type": "code",
   "execution_count": null,
   "id": "81beedfa",
   "metadata": {},
   "outputs": [],
   "source": [
    "9. What three functions can be used to get the integer, floating-point number, or string version of a value?\n",
    "Ans :-\n",
    "The int(), float() and str() function will evaluated to the integer, floating-point number and string\n",
    "versions of the value passed to them."
   ]
  },
  {
   "cell_type": "code",
   "execution_count": null,
   "id": "dd22f59c",
   "metadata": {},
   "outputs": [],
   "source": []
  },
  {
   "cell_type": "code",
   "execution_count": null,
   "id": "1710d694",
   "metadata": {},
   "outputs": [],
   "source": [
    "10. Why does this expression cause an error? How can you fix it?\n",
    "'I have eaten ' + 99 + ' burritos.'\n",
    "Ans :-\n",
    "The expression cause an TypeError.\n",
    "We can solve this erro by two ways.\n",
    "1)We can conver 99 as string by written in single quotes as like '99' so this will get\n",
    "  concatenate with string.\n",
    "  Example :- 'I have eaten ' + '99' + ' burritos.'\n",
    "    \n",
    "2)We can type cast this 99 as string by using str(99)\n",
    "  Example :- 'I have eaten ' + str(99) + ' burritos.'"
   ]
  },
  {
   "cell_type": "code",
   "execution_count": null,
   "id": "19a2feca",
   "metadata": {},
   "outputs": [],
   "source": []
  },
  {
   "cell_type": "code",
   "execution_count": null,
   "id": "a0167cc0",
   "metadata": {},
   "outputs": [],
   "source": []
  }
 ],
 "metadata": {
  "kernelspec": {
   "display_name": "Python 3 (ipykernel)",
   "language": "python",
   "name": "python3"
  },
  "language_info": {
   "codemirror_mode": {
    "name": "ipython",
    "version": 3
   },
   "file_extension": ".py",
   "mimetype": "text/x-python",
   "name": "python",
   "nbconvert_exporter": "python",
   "pygments_lexer": "ipython3",
   "version": "3.9.13"
  }
 },
 "nbformat": 4,
 "nbformat_minor": 5
}
