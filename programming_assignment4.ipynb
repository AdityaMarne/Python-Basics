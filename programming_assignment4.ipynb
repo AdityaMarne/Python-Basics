{
 "cells": [
  {
   "cell_type": "markdown",
   "id": "02507592",
   "metadata": {},
   "source": [
    "# 1.\tWrite a Python Program to Find the Factorial of a Number?"
   ]
  },
  {
   "cell_type": "code",
   "execution_count": 47,
   "id": "10e7c50e",
   "metadata": {},
   "outputs": [
    {
     "name": "stdout",
     "output_type": "stream",
     "text": [
      "Enter a number :5\n"
     ]
    }
   ],
   "source": [
    "number = int(input(\"Enter a number :\"))"
   ]
  },
  {
   "cell_type": "code",
   "execution_count": 48,
   "id": "81dbdd55",
   "metadata": {},
   "outputs": [],
   "source": [
    "def factorial(number):\n",
    "    if number <  0:\n",
    "        print(\"Factorial for negative is not possible.\")\n",
    "    elif number <= 1:\n",
    "        print(\"Factorial is 1\")\n",
    "    elif number > 1:\n",
    "        fact = 1\n",
    "        for i in range(1,number+1):\n",
    "            fact = fact * i;\n",
    "            print(fact)"
   ]
  },
  {
   "cell_type": "code",
   "execution_count": 49,
   "id": "d6d62a46",
   "metadata": {},
   "outputs": [
    {
     "name": "stdout",
     "output_type": "stream",
     "text": [
      "1\n",
      "2\n",
      "6\n",
      "24\n",
      "120\n"
     ]
    }
   ],
   "source": [
    "factorial(number)"
   ]
  },
  {
   "cell_type": "markdown",
   "id": "75a1232a",
   "metadata": {},
   "source": [
    "# 2.\tWrite a Python Program to Display the multiplication Table?"
   ]
  },
  {
   "cell_type": "code",
   "execution_count": 50,
   "id": "efe6da0f",
   "metadata": {},
   "outputs": [
    {
     "name": "stdout",
     "output_type": "stream",
     "text": [
      "Enter a number :2\n"
     ]
    }
   ],
   "source": [
    "number  = int(input(\"Enter a number :\"))"
   ]
  },
  {
   "cell_type": "code",
   "execution_count": 51,
   "id": "3d55d19f",
   "metadata": {},
   "outputs": [],
   "source": [
    "def multiplication_table(number):\n",
    "    for i in range(1,11):\n",
    "        print(i*number)"
   ]
  },
  {
   "cell_type": "code",
   "execution_count": 52,
   "id": "071bf55d",
   "metadata": {},
   "outputs": [
    {
     "name": "stdout",
     "output_type": "stream",
     "text": [
      "2\n",
      "4\n",
      "6\n",
      "8\n",
      "10\n",
      "12\n",
      "14\n",
      "16\n",
      "18\n",
      "20\n"
     ]
    }
   ],
   "source": [
    "multiplication_table(2)"
   ]
  },
  {
   "cell_type": "markdown",
   "id": "b7fcbac4",
   "metadata": {},
   "source": [
    "# 3.\tWrite a Python Program to Print the Fibonacci sequence?"
   ]
  },
  {
   "cell_type": "code",
   "execution_count": 34,
   "id": "7f9e1045",
   "metadata": {},
   "outputs": [
    {
     "name": "stdout",
     "output_type": "stream",
     "text": [
      "Enter a number :1\n"
     ]
    }
   ],
   "source": [
    "number = int(input(\"Enter a number :\"))"
   ]
  },
  {
   "cell_type": "code",
   "execution_count": 35,
   "id": "9aaa6542",
   "metadata": {},
   "outputs": [],
   "source": [
    "def fibonacci_seq(number):\n",
    "    if number < 0:\n",
    "        print(\"Fibonacci for negative is not possible\")\n",
    "    elif number < 0:\n",
    "        print(\"Fibonacci for negative is not possible\")\n",
    "    fib_zero = 0\n",
    "    fib_one = 1\n",
    "    if number > 1:\n",
    "        print(fib_zero)\n",
    "        print(fib_one)\n",
    "        for i in range(2,number):\n",
    "            fib = fib_zero + fib_one\n",
    "            print(fib)\n",
    "            fib_zero = fib_one\n",
    "            fib_one = fib"
   ]
  },
  {
   "cell_type": "code",
   "execution_count": 36,
   "id": "ab4ae36c",
   "metadata": {},
   "outputs": [],
   "source": [
    "fibonacci_seq(number)"
   ]
  },
  {
   "cell_type": "markdown",
   "id": "9a1db455",
   "metadata": {},
   "source": [
    "# 4.\tWrite a Python Program to Check Armstrong Number?"
   ]
  },
  {
   "cell_type": "code",
   "execution_count": null,
   "id": "19c7ddf0",
   "metadata": {},
   "outputs": [],
   "source": []
  },
  {
   "cell_type": "code",
   "execution_count": 5,
   "id": "9dfee0c6",
   "metadata": {},
   "outputs": [
    {
     "name": "stdout",
     "output_type": "stream",
     "text": [
      "Enter a number: 124\n",
      "124 is not an Armstrong number\n"
     ]
    }
   ],
   "source": [
    "def is_armstrong(n):\n",
    "    num = n\n",
    "    result = 0\n",
    "    n = len(str(n))\n",
    "    while(num != 0):\n",
    "        digit = num % 10\n",
    "        result = result + digit ** n\n",
    "        num = num // 10\n",
    "    return result\n",
    "\n",
    "num = int(input(\"Enter a number: \"))\n",
    "if num == is_armstrong(num):\n",
    "    print(num, \"is an Armstrong number\")\n",
    "else:\n",
    "    print(num, \"is not an Armstrong number\")\n"
   ]
  },
  {
   "cell_type": "markdown",
   "id": "f8df3f89",
   "metadata": {},
   "source": [
    "# 5.\tWrite a Python Program to Find Armstrong Number in an Interval?"
   ]
  },
  {
   "cell_type": "code",
   "execution_count": 30,
   "id": "6e5f274b",
   "metadata": {},
   "outputs": [
    {
     "name": "stdout",
     "output_type": "stream",
     "text": [
      "Enter lower range: 100\n",
      "Enter upper range: 500\n"
     ]
    }
   ],
   "source": [
    "lower = int(input(\"Enter lower range: \"))\n",
    "upper = int(input(\"Enter upper range: \"))"
   ]
  },
  {
   "cell_type": "code",
   "execution_count": 31,
   "id": "63a4734a",
   "metadata": {},
   "outputs": [],
   "source": [
    "def armstrong_in_interval(number):\n",
    "    for num in range(lower, upper + 1):\n",
    "        if num == is_armstrong(num):\n",
    "            print(num)"
   ]
  },
  {
   "cell_type": "code",
   "execution_count": 32,
   "id": "73d4202d",
   "metadata": {},
   "outputs": [
    {
     "name": "stdout",
     "output_type": "stream",
     "text": [
      "153\n",
      "370\n",
      "371\n",
      "407\n"
     ]
    }
   ],
   "source": [
    "armstrong_in_interval(number)"
   ]
  },
  {
   "cell_type": "markdown",
   "id": "92ba890e",
   "metadata": {},
   "source": [
    "# 6.\tWrite a Python Program to Find the Sum of Natural Numbers?"
   ]
  },
  {
   "cell_type": "code",
   "execution_count": 33,
   "id": "3d432722",
   "metadata": {},
   "outputs": [
    {
     "name": "stdout",
     "output_type": "stream",
     "text": [
      "Enter a number: 5\n",
      "The sum of first 5 natural numbers is: 15\n"
     ]
    }
   ],
   "source": [
    "def find_sum(n):\n",
    "    if n <= 0:\n",
    "        return \"Input should be a positive integer\"\n",
    "    else:\n",
    "        return n * (n + 1) // 2\n",
    "\n",
    "n = int(input(\"Enter a number: \"))\n",
    "print(\"The sum of first\", n, \"natural numbers is:\", find_sum(n))"
   ]
  },
  {
   "cell_type": "code",
   "execution_count": null,
   "id": "9a6c3c18",
   "metadata": {},
   "outputs": [],
   "source": []
  }
 ],
 "metadata": {
  "kernelspec": {
   "display_name": "Python 3 (ipykernel)",
   "language": "python",
   "name": "python3"
  },
  "language_info": {
   "codemirror_mode": {
    "name": "ipython",
    "version": 3
   },
   "file_extension": ".py",
   "mimetype": "text/x-python",
   "name": "python",
   "nbconvert_exporter": "python",
   "pygments_lexer": "ipython3",
   "version": "3.9.13"
  }
 },
 "nbformat": 4,
 "nbformat_minor": 5
}
