{
 "cells": [
  {
   "cell_type": "markdown",
   "id": "ea6aab8b",
   "metadata": {},
   "source": [
    "# 1.\tWrite a Python program to convert kilometers to miles?"
   ]
  },
  {
   "cell_type": "code",
   "execution_count": null,
   "id": "4bc9516f",
   "metadata": {},
   "outputs": [],
   "source": [
    "1km = 0.62137119\n",
    "For n number of km = (n × 0.62137119) miles"
   ]
  },
  {
   "cell_type": "code",
   "execution_count": 1,
   "id": "2aa1430e",
   "metadata": {},
   "outputs": [],
   "source": [
    "def kilometer_to_miles(kilometer):\n",
    "    kilometer = kilometer * 0.62137119\n",
    "    return kilometer"
   ]
  },
  {
   "cell_type": "code",
   "execution_count": 2,
   "id": "85d72223",
   "metadata": {},
   "outputs": [
    {
     "data": {
      "text/plain": [
       "0.62137119"
      ]
     },
     "execution_count": 2,
     "metadata": {},
     "output_type": "execute_result"
    }
   ],
   "source": [
    "kilometer_to_miles(1)"
   ]
  },
  {
   "cell_type": "code",
   "execution_count": 3,
   "id": "54651a1f",
   "metadata": {},
   "outputs": [
    {
     "data": {
      "text/plain": [
       "6.2137119"
      ]
     },
     "execution_count": 3,
     "metadata": {},
     "output_type": "execute_result"
    }
   ],
   "source": [
    "kilometer_to_miles(10)"
   ]
  },
  {
   "cell_type": "markdown",
   "id": "b6fb2251",
   "metadata": {},
   "source": [
    "# 2.\tWrite a Python program to convert Celsius to Fahrenheit?"
   ]
  },
  {
   "cell_type": "code",
   "execution_count": null,
   "id": "ca127d75",
   "metadata": {},
   "outputs": [],
   "source": [
    "Formula for Colsius to Fahrenhit\n",
    "F = (C × 9/5) + 32"
   ]
  },
  {
   "cell_type": "code",
   "execution_count": 13,
   "id": "356ef13d",
   "metadata": {},
   "outputs": [],
   "source": [
    "def celsius_to_fahrenhit(celsius):\n",
    "    fahrenheit = (celsius * 9/5) + 32\n",
    "    return fahrenheit"
   ]
  },
  {
   "cell_type": "code",
   "execution_count": 14,
   "id": "bd406aa5",
   "metadata": {},
   "outputs": [
    {
     "data": {
      "text/plain": [
       "33.8"
      ]
     },
     "execution_count": 14,
     "metadata": {},
     "output_type": "execute_result"
    }
   ],
   "source": [
    "celsius_to_fahrenhit(1)"
   ]
  },
  {
   "cell_type": "code",
   "execution_count": 15,
   "id": "96c0fcd7",
   "metadata": {},
   "outputs": [
    {
     "data": {
      "text/plain": [
       "78.8"
      ]
     },
     "execution_count": 15,
     "metadata": {},
     "output_type": "execute_result"
    }
   ],
   "source": [
    "celsius_to_fahrenhit(26)"
   ]
  },
  {
   "cell_type": "markdown",
   "id": "689f8df0",
   "metadata": {},
   "source": [
    "# 3.\tWrite a Python program to display calendar?"
   ]
  },
  {
   "cell_type": "code",
   "execution_count": null,
   "id": "20690e58",
   "metadata": {},
   "outputs": [],
   "source": [
    "import calender\n",
    "year = 2024\n",
    "month = 1\n",
    "cal = calender.month(year,month)\n",
    "print(cal)"
   ]
  },
  {
   "cell_type": "markdown",
   "id": "3b185389",
   "metadata": {},
   "source": [
    "# 4.Write a Python program to solve quadratic equation?"
   ]
  },
  {
   "cell_type": "code",
   "execution_count": 2,
   "id": "0c2c3c69",
   "metadata": {},
   "outputs": [
    {
     "name": "stdout",
     "output_type": "stream",
     "text": [
      "The solutions are (-3+0j) and (-2+0j)\n"
     ]
    }
   ],
   "source": [
    "import cmath\n",
    "\n",
    "def solve_quadratic(a, b, c):\n",
    "    # calculate the discriminant\n",
    "    d = (b**2) - (4*a*c)\n",
    "\n",
    "    # find two solutions\n",
    "    sol1 = (-b-cmath.sqrt(d))/(2*a)\n",
    "    sol2 = (-b+cmath.sqrt(d))/(2*a)\n",
    "\n",
    "    return sol1, sol2\n",
    "\n",
    "a = 1\n",
    "b = 5\n",
    "c = 6\n",
    "\n",
    "sol1, sol2 = solve_quadratic(a, b, c)\n",
    "\n",
    "print(\"The solutions are {0} and {1}\".format(sol1, sol2))"
   ]
  },
  {
   "cell_type": "markdown",
   "id": "b873cef5",
   "metadata": {},
   "source": [
    "# 5.\tWrite a Python program to swap two variables without temp variable?"
   ]
  },
  {
   "cell_type": "code",
   "execution_count": 3,
   "id": "06dcfa8e",
   "metadata": {},
   "outputs": [
    {
     "name": "stdout",
     "output_type": "stream",
     "text": [
      "After swapping, x = 10 and y = 5\n"
     ]
    }
   ],
   "source": [
    "def swap_variables(a, b):\n",
    "    a, b = b, a\n",
    "    return a, b\n",
    "\n",
    "x = 5\n",
    "y = 10\n",
    "\n",
    "x, y = swap_variables(x, y)\n",
    "\n",
    "print(\"After swapping, x =\", x, \"and y =\", y)"
   ]
  },
  {
   "cell_type": "code",
   "execution_count": null,
   "id": "e23d39a4",
   "metadata": {},
   "outputs": [],
   "source": []
  }
 ],
 "metadata": {
  "kernelspec": {
   "display_name": "Python 3 (ipykernel)",
   "language": "python",
   "name": "python3"
  },
  "language_info": {
   "codemirror_mode": {
    "name": "ipython",
    "version": 3
   },
   "file_extension": ".py",
   "mimetype": "text/x-python",
   "name": "python",
   "nbconvert_exporter": "python",
   "pygments_lexer": "ipython3",
   "version": "3.9.13"
  }
 },
 "nbformat": 4,
 "nbformat_minor": 5
}
