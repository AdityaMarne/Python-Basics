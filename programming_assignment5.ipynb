{
 "cells": [
  {
   "cell_type": "markdown",
   "id": "88b2572d",
   "metadata": {},
   "source": [
    "# 1.\tWrite a Python Program to Find LCM?"
   ]
  },
  {
   "cell_type": "code",
   "execution_count": 17,
   "id": "e93d5b10",
   "metadata": {},
   "outputs": [
    {
     "name": "stdout",
     "output_type": "stream",
     "text": [
      "Enter num1 :4\n"
     ]
    }
   ],
   "source": [
    "num1 = int(input(\"Enter num1 :\"))"
   ]
  },
  {
   "cell_type": "code",
   "execution_count": 18,
   "id": "a5da7371",
   "metadata": {},
   "outputs": [
    {
     "name": "stdout",
     "output_type": "stream",
     "text": [
      "Enter num2 :6\n"
     ]
    }
   ],
   "source": [
    "num2 = int(input(\"Enter num2 :\"))"
   ]
  },
  {
   "cell_type": "code",
   "execution_count": 19,
   "id": "1cebc0c8",
   "metadata": {},
   "outputs": [],
   "source": [
    "def LCM(num1,num2):\n",
    "    num1_div = []\n",
    "    num2_div = []\n",
    "    for i in range(1,101):\n",
    "        if i % num1 == 0:\n",
    "            num1_div.append(i)\n",
    "        if i % num2 == 0:\n",
    "            num2_div.append(i)\n",
    "    com_div = []\n",
    "    for i in num2_div:\n",
    "        for j in num1_div:\n",
    "            if i == j:\n",
    "                com_div.append(i)\n",
    "    return(com_div[0])"
   ]
  },
  {
   "cell_type": "code",
   "execution_count": 20,
   "id": "e96adb7b",
   "metadata": {},
   "outputs": [
    {
     "data": {
      "text/plain": [
       "12"
      ]
     },
     "execution_count": 20,
     "metadata": {},
     "output_type": "execute_result"
    }
   ],
   "source": [
    "LCM(num1,num2)"
   ]
  },
  {
   "cell_type": "code",
   "execution_count": 21,
   "id": "2bbc1665",
   "metadata": {},
   "outputs": [],
   "source": [
    "def gcd(num1, num2):\n",
    "    # Function to calculate GCD (Greatest Common Divisor)\n",
    "    while num2 != 0:\n",
    "        num1, num2 = num2, num1 % num2\n",
    "    return num1\n",
    "\n",
    "def lcm(num1, num2):\n",
    "    # Function to calculate LCM using the formula: LCM(a, b) = (a * b) / GCD(a, b)\n",
    "    return num1 * num2 // gcd(num1, num2)"
   ]
  },
  {
   "cell_type": "code",
   "execution_count": 22,
   "id": "15ce48c5",
   "metadata": {},
   "outputs": [
    {
     "data": {
      "text/plain": [
       "12"
      ]
     },
     "execution_count": 22,
     "metadata": {},
     "output_type": "execute_result"
    }
   ],
   "source": [
    "lcm(num1,num2)"
   ]
  },
  {
   "cell_type": "code",
   "execution_count": null,
   "id": "71fb4eb6",
   "metadata": {},
   "outputs": [],
   "source": []
  },
  {
   "cell_type": "markdown",
   "id": "37bf4c41",
   "metadata": {},
   "source": [
    "# 2.\tWrite a Python Program to Find HCF?"
   ]
  },
  {
   "cell_type": "code",
   "execution_count": 30,
   "id": "dd998937",
   "metadata": {},
   "outputs": [
    {
     "name": "stdout",
     "output_type": "stream",
     "text": [
      "Enter num1 :6\n"
     ]
    }
   ],
   "source": [
    "num1 = int(input(\"Enter num1 :\"))"
   ]
  },
  {
   "cell_type": "code",
   "execution_count": 31,
   "id": "dbd5cf68",
   "metadata": {},
   "outputs": [
    {
     "name": "stdout",
     "output_type": "stream",
     "text": [
      "Enter num2 :18\n"
     ]
    }
   ],
   "source": [
    "num2 = int(input(\"Enter num2 :\"))"
   ]
  },
  {
   "cell_type": "code",
   "execution_count": 38,
   "id": "7bbfc963",
   "metadata": {},
   "outputs": [],
   "source": [
    "def HCF(num1,num2):\n",
    "    num1_div = []\n",
    "    num2_div = []\n",
    "    for i in range(1,101):\n",
    "        if num1 % i == 0:\n",
    "            num1_div.append(i)\n",
    "        if num2 % i == 0:\n",
    "            num2_div.append(i)\n",
    "    #print(num1_div)\n",
    "    #print(num2_div)\n",
    "    com_div = []\n",
    "    for i in num1_div:\n",
    "        for j in num2_div:\n",
    "            if i == j:\n",
    "                com_div.append(i)\n",
    "    return max(com_div)"
   ]
  },
  {
   "cell_type": "code",
   "execution_count": 39,
   "id": "f5abadbd",
   "metadata": {},
   "outputs": [
    {
     "data": {
      "text/plain": [
       "6"
      ]
     },
     "execution_count": 39,
     "metadata": {},
     "output_type": "execute_result"
    }
   ],
   "source": [
    "HCF(num1,num2)"
   ]
  },
  {
   "cell_type": "code",
   "execution_count": 40,
   "id": "94b1450a",
   "metadata": {},
   "outputs": [],
   "source": [
    "def hcf(a, b):\n",
    "    # Function to calculate HCF (Highest Common Factor)\n",
    "    while b != 0:\n",
    "        a, b = b, a % b\n",
    "    return a"
   ]
  },
  {
   "cell_type": "code",
   "execution_count": 41,
   "id": "d1e566ea",
   "metadata": {},
   "outputs": [
    {
     "data": {
      "text/plain": [
       "6"
      ]
     },
     "execution_count": 41,
     "metadata": {},
     "output_type": "execute_result"
    }
   ],
   "source": [
    "hcf(num1,num2)"
   ]
  },
  {
   "cell_type": "markdown",
   "id": "080e9047",
   "metadata": {},
   "source": [
    "# 3.\tWrite a Python Program to Convert Decimal to Binary, Octal and Hexadecimal?"
   ]
  },
  {
   "cell_type": "code",
   "execution_count": 22,
   "id": "3e29e427",
   "metadata": {},
   "outputs": [
    {
     "name": "stdout",
     "output_type": "stream",
     "text": [
      "Enter a number :10\n"
     ]
    }
   ],
   "source": [
    "number = int(input(\"Enter a number :\"))"
   ]
  },
  {
   "cell_type": "code",
   "execution_count": 23,
   "id": "6fedec9a",
   "metadata": {},
   "outputs": [],
   "source": [
    "def decimal_to_binary(n):\n",
    "    binary = \"\"\n",
    "    while n > 0:\n",
    "        binary = str(n % 2) + binary\n",
    "        n = n // 2\n",
    "    return binary"
   ]
  },
  {
   "cell_type": "code",
   "execution_count": 24,
   "id": "327332fd",
   "metadata": {},
   "outputs": [
    {
     "data": {
      "text/plain": [
       "'1010'"
      ]
     },
     "execution_count": 24,
     "metadata": {},
     "output_type": "execute_result"
    }
   ],
   "source": [
    "decimal_to_binary(number)"
   ]
  },
  {
   "cell_type": "code",
   "execution_count": 25,
   "id": "e7e9dd8a",
   "metadata": {},
   "outputs": [],
   "source": [
    "def decimal_to_octal(n):\n",
    "    octal = \"\"\n",
    "    while n > 0:\n",
    "        octal = str(n % 8) + octal\n",
    "        n = n // 8\n",
    "    return octal"
   ]
  },
  {
   "cell_type": "code",
   "execution_count": 26,
   "id": "6328b806",
   "metadata": {},
   "outputs": [
    {
     "data": {
      "text/plain": [
       "'12'"
      ]
     },
     "execution_count": 26,
     "metadata": {},
     "output_type": "execute_result"
    }
   ],
   "source": [
    "decimal_to_octal(number)"
   ]
  },
  {
   "cell_type": "code",
   "execution_count": 27,
   "id": "9dacab2b",
   "metadata": {},
   "outputs": [],
   "source": [
    "def decimal_to_hexadecimal(n):\n",
    "    hexa = \"\"\n",
    "    while n > 0:\n",
    "        remainder = n % 16\n",
    "        if (remainder < 10):\n",
    "            hexa = str(remainder) + hexa\n",
    "        else:\n",
    "            hexa = chr(ord('A') + remainder - 10) + hexa\n",
    "        n = n // 16\n",
    "    return hex"
   ]
  },
  {
   "cell_type": "code",
   "execution_count": 32,
   "id": "48f3d95d",
   "metadata": {},
   "outputs": [
    {
     "name": "stdout",
     "output_type": "stream",
     "text": [
      "Hexadecimal of 10 is <built-in function hex>\n"
     ]
    }
   ],
   "source": [
    "print(f\"Hexadecimal of {number} is {decimal_to_hexadecimal(number)}\")"
   ]
  },
  {
   "cell_type": "code",
   "execution_count": 33,
   "id": "b7c40ff9",
   "metadata": {},
   "outputs": [],
   "source": [
    "def decimal_to_binary(num):\n",
    "    return bin(num).replace(\"0b\", \"\")\n",
    "\n",
    "# Function to convert decimal to octal\n",
    "def decimal_to_octal(num):\n",
    "    return oct(num).replace(\"0o\", \"\")\n",
    "\n",
    "# Function to convert decimal to hexadecimal\n",
    "def decimal_to_hexadecimal(num):\n",
    "    return hex(num).replace(\"0x\", \"\")\n"
   ]
  },
  {
   "cell_type": "markdown",
   "id": "ec69b8ff",
   "metadata": {},
   "source": [
    "# 4.\tWrite a Python Program To Find ASCII value of a character?"
   ]
  },
  {
   "cell_type": "code",
   "execution_count": 34,
   "id": "4be834c2",
   "metadata": {},
   "outputs": [
    {
     "name": "stdout",
     "output_type": "stream",
     "text": [
      "Enter character :a\n"
     ]
    }
   ],
   "source": [
    "char = input(\"Enter character :\")"
   ]
  },
  {
   "cell_type": "code",
   "execution_count": 10,
   "id": "c568447e",
   "metadata": {},
   "outputs": [],
   "source": [
    "def char_ascii(char):\n",
    "    pass"
   ]
  },
  {
   "cell_type": "code",
   "execution_count": 11,
   "id": "433c2bb3",
   "metadata": {},
   "outputs": [],
   "source": [
    "char_ascii('A')"
   ]
  },
  {
   "cell_type": "markdown",
   "id": "2af3fbae",
   "metadata": {},
   "source": [
    "# 5.\tWrite a Python Program to Make a Simple Calculator with 4 basic mathematical operations?"
   ]
  },
  {
   "cell_type": "code",
   "execution_count": 106,
   "id": "a0feb129",
   "metadata": {},
   "outputs": [],
   "source": [
    "class Simple_Calcultor:\n",
    "    def __init__(self,a,b):\n",
    "        self.a = a\n",
    "        self.b = b\n",
    "        \n",
    "    def sum(self):\n",
    "        return self.a+self.b\n",
    "    \n",
    "    def minus(self):\n",
    "        return self.a-self.b\n",
    "    \n",
    "    def multiplication(self):\n",
    "        return self.a*self.b\n",
    "    \n",
    "    def divide(self):\n",
    "        return self.a / self.b;"
   ]
  },
  {
   "cell_type": "code",
   "execution_count": 107,
   "id": "d4cc0b70",
   "metadata": {},
   "outputs": [],
   "source": [
    "s = Simple_Calcultor(10,20)"
   ]
  },
  {
   "cell_type": "code",
   "execution_count": 108,
   "id": "019a3d06",
   "metadata": {},
   "outputs": [
    {
     "data": {
      "text/plain": [
       "30"
      ]
     },
     "execution_count": 108,
     "metadata": {},
     "output_type": "execute_result"
    }
   ],
   "source": [
    "s.sum()"
   ]
  },
  {
   "cell_type": "code",
   "execution_count": 109,
   "id": "0a0eaff1",
   "metadata": {},
   "outputs": [
    {
     "data": {
      "text/plain": [
       "-10"
      ]
     },
     "execution_count": 109,
     "metadata": {},
     "output_type": "execute_result"
    }
   ],
   "source": [
    "s.minus()"
   ]
  },
  {
   "cell_type": "code",
   "execution_count": 110,
   "id": "139b6389",
   "metadata": {},
   "outputs": [
    {
     "data": {
      "text/plain": [
       "200"
      ]
     },
     "execution_count": 110,
     "metadata": {},
     "output_type": "execute_result"
    }
   ],
   "source": [
    "s.multiplication()"
   ]
  },
  {
   "cell_type": "code",
   "execution_count": 111,
   "id": "1d563c73",
   "metadata": {},
   "outputs": [
    {
     "data": {
      "text/plain": [
       "0.5"
      ]
     },
     "execution_count": 111,
     "metadata": {},
     "output_type": "execute_result"
    }
   ],
   "source": [
    "s.divide()"
   ]
  },
  {
   "cell_type": "code",
   "execution_count": null,
   "id": "c2d682e6",
   "metadata": {},
   "outputs": [],
   "source": []
  },
  {
   "cell_type": "code",
   "execution_count": null,
   "id": "d5273456",
   "metadata": {},
   "outputs": [],
   "source": []
  }
 ],
 "metadata": {
  "kernelspec": {
   "display_name": "Python 3 (ipykernel)",
   "language": "python",
   "name": "python3"
  },
  "language_info": {
   "codemirror_mode": {
    "name": "ipython",
    "version": 3
   },
   "file_extension": ".py",
   "mimetype": "text/x-python",
   "name": "python",
   "nbconvert_exporter": "python",
   "pygments_lexer": "ipython3",
   "version": "3.9.13"
  }
 },
 "nbformat": 4,
 "nbformat_minor": 5
}
