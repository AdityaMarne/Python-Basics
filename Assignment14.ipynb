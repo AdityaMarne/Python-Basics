{
 "cells": [
  {
   "cell_type": "markdown",
   "id": "bf7c61be",
   "metadata": {},
   "source": [
    "# 1. What does RGBA stand for?"
   ]
  },
  {
   "cell_type": "code",
   "execution_count": null,
   "id": "2e1a2b5d",
   "metadata": {},
   "outputs": [],
   "source": [
    "In Python, RGBA stands for Red, Green, Blue, Alpha.\n",
    "\n",
    "It is a color model used to represent colors in a digital image.\n",
    "\n",
    "An RGBA value is a tuple of 4 integers, each ranging from 0 to 255.\n",
    "\n",
    "The four integers correspond to the amount of red, green, blue, and alpha (transparency) in the color.\n",
    "\n",
    "The RGBA model is an extension of the RGB model, where the Alpha channel represents the transparency of the color.\n",
    "\n",
    "The value of the alpha channel ranges from 0 to 1, where 0 represents complete transparency and \n",
    "1 represents complete opacity"
   ]
  },
  {
   "cell_type": "markdown",
   "id": "cc3fda11",
   "metadata": {},
   "source": [
    "# 2. From the Pillow module, how do you get the RGBA value of any images?"
   ]
  },
  {
   "cell_type": "code",
   "execution_count": null,
   "id": "26845883",
   "metadata": {},
   "outputs": [],
   "source": [
    "To get the RGBA value of an image using the Pillow module, you can use the getdata() method of the Image class.\n",
    "\n",
    "This will return a list of tuples, where each tuple contains the RGBA values of a pixel in the image.\n",
    "\n",
    "The RGBA values are represented as integers between 0 and 255."
   ]
  },
  {
   "cell_type": "code",
   "execution_count": 4,
   "id": "ad715634",
   "metadata": {},
   "outputs": [
    {
     "name": "stdout",
     "output_type": "stream",
     "text": [
      "[(201, 175, 150, 255), (212, 186, 161, 255), (235, 209, 186, 255), (196, 172, 148, 255), (140, 116, 92, 255)]\n"
     ]
    }
   ],
   "source": [
    "from PIL import Image\n",
    "\n",
    "# Open the image\n",
    "image = Image.open(r\"C:\\Users\\adity\\OneDrive\\Desktop\\DSC01134.JPG\")\n",
    "\n",
    "# Convert the image to RGBA format\n",
    "image_rgba = image.convert(\"RGBA\")\n",
    "\n",
    "# Get the RGBA pixel data\n",
    "pixel_data = list(image_rgba.getdata())\n",
    "\n",
    "# Print the first 5 pixel data\n",
    "print(pixel_data[0:5])"
   ]
  },
  {
   "cell_type": "markdown",
   "id": "ebd7f286",
   "metadata": {},
   "source": [
    "# 3. What is a box tuple, and how does it work?"
   ]
  },
  {
   "cell_type": "code",
   "execution_count": null,
   "id": "7f9b086a",
   "metadata": {},
   "outputs": [],
   "source": [
    "A box tuple is a tuple of four integer coordinates that represent a rectangular region in an image. \n",
    "\n",
    "The four integers are, in order, as follows: \n",
    "Left (the x-coordinate of the leftmost edge of the box), \n",
    "Top (the y-coordinate of the top edge of the box),\n",
    "Right (the x-coordinate of one pixel to the right of the rightmost edge of the box), \n",
    "Bottom (the y-coordinate of one pixel lower than the bottom edge of the box) \n",
    "\n",
    "The Pillow module in Python uses box tuples to represent rectangular regions in an image."
   ]
  },
  {
   "cell_type": "markdown",
   "id": "75a80fd9",
   "metadata": {},
   "source": [
    "# 4. Use your image and load in notebook then, How can you find out the width and height of an Image object?"
   ]
  },
  {
   "cell_type": "code",
   "execution_count": 6,
   "id": "8577feb5",
   "metadata": {},
   "outputs": [
    {
     "data": {
      "text/plain": [
       "(532, 828)"
      ]
     },
     "execution_count": 6,
     "metadata": {},
     "output_type": "execute_result"
    }
   ],
   "source": [
    "from PIL import Image\n",
    "myImg = Image.open(r\"C:\\Users\\adity\\OneDrive\\Desktop\\DSC01134.JPG\")\n",
    "w,h = myImg.size\n",
    "w,h"
   ]
  },
  {
   "cell_type": "markdown",
   "id": "44922f34",
   "metadata": {},
   "source": [
    "# 5. What method would you call to get Image object for a 100×100 image, excluding the lower-left quarter of it?"
   ]
  },
  {
   "cell_type": "code",
   "execution_count": null,
   "id": "2d6420ac",
   "metadata": {},
   "outputs": [],
   "source": [
    "ImageObject.crop((0, 50, 50, 50))"
   ]
  },
  {
   "cell_type": "markdown",
   "id": "a54aac65",
   "metadata": {},
   "source": [
    "# 6. After making changes to an Image object, how could you save it as an image file?"
   ]
  },
  {
   "cell_type": "code",
   "execution_count": null,
   "id": "f63d6fd2",
   "metadata": {},
   "outputs": [],
   "source": [
    "# Importing Image module from PIL package  \n",
    "from PIL import Image  \n",
    "  \n",
    "# creating a image object (main image)  \n",
    "im1 = Image.open(r\"flower1.jpg\")  \n",
    "  \n",
    "# save a image using extension \n",
    "im1 = im1.save(\".jpg\") "
   ]
  },
  {
   "cell_type": "markdown",
   "id": "d2d9edec",
   "metadata": {},
   "source": [
    "# 7. What module contains Pillow’s shape-drawing code?"
   ]
  },
  {
   "cell_type": "code",
   "execution_count": null,
   "id": "5f90c87c",
   "metadata": {},
   "outputs": [],
   "source": [
    "The ImageDraw module contains code to draw on images"
   ]
  },
  {
   "cell_type": "markdown",
   "id": "5de438f2",
   "metadata": {},
   "source": [
    "# 8. Image objects do not have drawing methods. What kind of object does? How do you get this kind of object?"
   ]
  },
  {
   "cell_type": "code",
   "execution_count": null,
   "id": "ffabb6d2",
   "metadata": {},
   "outputs": [],
   "source": [
    "ImageDraw objects have shape-drawing methods such as point(), line(), or rectangle().\n",
    "They are returned by passing the Image object to the ImageDraw.\n",
    "Draw() function"
   ]
  }
 ],
 "metadata": {
  "kernelspec": {
   "display_name": "Python 3 (ipykernel)",
   "language": "python",
   "name": "python3"
  },
  "language_info": {
   "codemirror_mode": {
    "name": "ipython",
    "version": 3
   },
   "file_extension": ".py",
   "mimetype": "text/x-python",
   "name": "python",
   "nbconvert_exporter": "python",
   "pygments_lexer": "ipython3",
   "version": "3.9.13"
  }
 },
 "nbformat": 4,
 "nbformat_minor": 5
}
