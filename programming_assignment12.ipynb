{
 "cells": [
  {
   "cell_type": "markdown",
   "id": "33149c0a",
   "metadata": {},
   "source": [
    "1.\tWrite a Python program to Extract Unique values dictionary values?\n",
    "2.\tWrite a Python program to find the sum of all items in a dictionary?\n",
    "3.\tWrite a Python program to Merging two Dictionaries?\n",
    "4.\tWrite a Python program to convert key-values list to flat dictionary?\n",
    "5.\tWrite a Python program to insertion at the beginning in OrderedDict?\n",
    "6.\tWrite a Python program to check order of character in string using OrderedDict()?\n",
    "7.\tWrite a Python program to sort Python Dictionaries by Key or Value?"
   ]
  },
  {
   "cell_type": "markdown",
   "id": "7674ac22",
   "metadata": {},
   "source": [
    "# Q1.Write a Python program to Extract Unique values dictionary values?"
   ]
  },
  {
   "cell_type": "code",
   "execution_count": 8,
   "id": "cd2954d7",
   "metadata": {},
   "outputs": [],
   "source": [
    "class pro1:\n",
    "    def __init__(self,dic):\n",
    "        self.dic= dic\n",
    "    def unique_val(self):\n",
    "        if type(self.dic) == dict:\n",
    "            lst = list(self.dic.values())\n",
    "            return set(lst)\n",
    "        else:\n",
    "            print(\"Pls,provide dictionary\")"
   ]
  },
  {
   "cell_type": "code",
   "execution_count": 9,
   "id": "504858a1",
   "metadata": {},
   "outputs": [],
   "source": [
    "p1 = pro1({'a':1,'b':2,'c':1,'d':2})"
   ]
  },
  {
   "cell_type": "code",
   "execution_count": 10,
   "id": "7e05af5d",
   "metadata": {},
   "outputs": [
    {
     "data": {
      "text/plain": [
       "{1, 2}"
      ]
     },
     "execution_count": 10,
     "metadata": {},
     "output_type": "execute_result"
    }
   ],
   "source": [
    "p1.unique_val()"
   ]
  },
  {
   "cell_type": "markdown",
   "id": "a1515df2",
   "metadata": {},
   "source": [
    "# Q2.Write a Python program to find the sum of all items in a dictionary?"
   ]
  },
  {
   "cell_type": "code",
   "execution_count": 13,
   "id": "af94e94f",
   "metadata": {},
   "outputs": [],
   "source": [
    "class pro2:\n",
    "    def __init__(self,d1):\n",
    "        self.d1 = d1\n",
    "    def sum_of_item(self):\n",
    "        return len(self.d1.items())"
   ]
  },
  {
   "cell_type": "code",
   "execution_count": 14,
   "id": "f529e3d8",
   "metadata": {},
   "outputs": [],
   "source": [
    "p2 = pro2({'a':1,'b':2,'c':1,'d':2})"
   ]
  },
  {
   "cell_type": "code",
   "execution_count": 15,
   "id": "f96d7779",
   "metadata": {},
   "outputs": [
    {
     "data": {
      "text/plain": [
       "4"
      ]
     },
     "execution_count": 15,
     "metadata": {},
     "output_type": "execute_result"
    }
   ],
   "source": [
    "p2.sum_of_item()"
   ]
  },
  {
   "cell_type": "markdown",
   "id": "ea6532c2",
   "metadata": {},
   "source": [
    "# Q3.Write a Python program to Merging two Dictionaries?"
   ]
  },
  {
   "cell_type": "code",
   "execution_count": 60,
   "id": "91d72f8d",
   "metadata": {},
   "outputs": [],
   "source": [
    "class pro3:\n",
    "    def __init__(self,d1,d2):\n",
    "        self.d1 = d1\n",
    "        self.d2 = d2\n",
    "    def merge(self):\n",
    "        l1 = list(self.d1.items())\n",
    "        l2 = list(self.d2.items())\n",
    "        l1.extend(l2)\n",
    "        return dict(l1)"
   ]
  },
  {
   "cell_type": "code",
   "execution_count": 71,
   "id": "fb23eefe",
   "metadata": {},
   "outputs": [],
   "source": [
    "d1 = {'a':1,'b':2,'c':1,'d':2}\n",
    "d2 = {'e':1,'f':2,'g':1,'h':2}\n",
    "p3 = pro3(d1,d2)"
   ]
  },
  {
   "cell_type": "code",
   "execution_count": 72,
   "id": "5be83f1f",
   "metadata": {},
   "outputs": [
    {
     "data": {
      "text/plain": [
       "{'a': 1, 'b': 2, 'c': 1, 'd': 2, 'e': 1, 'f': 2, 'g': 1, 'h': 2}"
      ]
     },
     "execution_count": 72,
     "metadata": {},
     "output_type": "execute_result"
    }
   ],
   "source": [
    "p3.merge()"
   ]
  },
  {
   "cell_type": "markdown",
   "id": "68e45957",
   "metadata": {},
   "source": [
    "# Q4.Write a Python program to convert key-values list to flat dictionary?"
   ]
  },
  {
   "cell_type": "code",
   "execution_count": 7,
   "id": "f1e15474",
   "metadata": {},
   "outputs": [],
   "source": [
    "class pro4:\n",
    "    \n",
    "    def list_to_flat_dict(self,key_value_list):\n",
    "        flat_dict = {}\n",
    "        for key, value in key_value_list:\n",
    "            flat_dict[key] = value\n",
    "        return flat_dict\n",
    "    \"\"\"\n",
    "    Converts a list of key-value pairs to a flat dictionary.\n",
    "\n",
    "    Args:\n",
    "        key_value_list (list): List of tuples containing key-value pairs.\n",
    "\n",
    "    Returns:\n",
    "        dict: A flat dictionary with keys and corresponding values.\n",
    "    \"\"\"\n",
    "\n",
    "key_value_list = [(\"name\", \"Alice\"), (\"age\", 30), (\"city\", \"Wonderland\")]"
   ]
  },
  {
   "cell_type": "code",
   "execution_count": 8,
   "id": "2832c9ec",
   "metadata": {},
   "outputs": [],
   "source": [
    "p = pro4()"
   ]
  },
  {
   "cell_type": "code",
   "execution_count": 9,
   "id": "9c50a3dd",
   "metadata": {},
   "outputs": [
    {
     "data": {
      "text/plain": [
       "{'name': 'Alice', 'age': 30, 'city': 'Wonderland'}"
      ]
     },
     "execution_count": 9,
     "metadata": {},
     "output_type": "execute_result"
    }
   ],
   "source": [
    "p.list_to_flat_dict(key_value_list)"
   ]
  },
  {
   "cell_type": "markdown",
   "id": "f5f73777",
   "metadata": {},
   "source": [
    "# Q5.Write a Python program to insertion at the beginning in OrderedDict?"
   ]
  },
  {
   "cell_type": "code",
   "execution_count": 14,
   "id": "11bf4674",
   "metadata": {},
   "outputs": [],
   "source": [
    "from collections import OrderedDict\n",
    "class pro5:\n",
    "    def insert_at_begi(self,odict,key,value):\n",
    "        new_odict = OrderedDict([(key, value)])\n",
    "        new_odict.update(odict)\n",
    "        return new_odict\n",
    "    \n",
    "original_dict = OrderedDict([('a', 1), ('b', 2), ('c', 3)])\n",
    "new_key = 'x'\n",
    "new_value = 42"
   ]
  },
  {
   "cell_type": "code",
   "execution_count": 15,
   "id": "c1728e12",
   "metadata": {},
   "outputs": [],
   "source": [
    "p = pro5()"
   ]
  },
  {
   "cell_type": "code",
   "execution_count": 17,
   "id": "e7f0e2b6",
   "metadata": {},
   "outputs": [
    {
     "data": {
      "text/plain": [
       "OrderedDict([('x', 42), ('a', 1), ('b', 2), ('c', 3)])"
      ]
     },
     "execution_count": 17,
     "metadata": {},
     "output_type": "execute_result"
    }
   ],
   "source": [
    "p.insert_at_begi(original_dict,new_key,new_value)"
   ]
  },
  {
   "cell_type": "markdown",
   "id": "7dc67dcd",
   "metadata": {},
   "source": [
    "# Q6. Write a Python program to check order of character in string using OrderedDict()?"
   ]
  },
  {
   "cell_type": "code",
   "execution_count": 18,
   "id": "a2fc6417",
   "metadata": {},
   "outputs": [],
   "source": [
    "from collections import OrderedDict\n",
    "class pro6:\n",
    "    def check_order_of_characters(self,input_string, pattern):\n",
    "        # Create an ordered dictionary to store the frequency of characters\n",
    "        char_count = OrderedDict()\n",
    "\n",
    "        # Initialize the character count dictionary\n",
    "        for char in input_string:\n",
    "            char_count[char] = char_count.get(char, 0) + 1\n",
    "\n",
    "        # Check if the characters in the pattern appear in the same order\n",
    "        for char in pattern:\n",
    "            if char not in char_count:\n",
    "                return False\n",
    "            char_count[char] -= 1\n",
    "            if char_count[char] == 0:\n",
    "                del char_count[char]\n",
    "\n",
    "        # If all characters in the pattern appear in the same order, return True\n",
    "        return True\n",
    "\n",
    "# Example usage\n",
    "input_str = \"programming\"\n",
    "pattern_str = \"gmn\"\n"
   ]
  },
  {
   "cell_type": "code",
   "execution_count": 19,
   "id": "44129ca6",
   "metadata": {},
   "outputs": [],
   "source": [
    "p = pro6()"
   ]
  },
  {
   "cell_type": "code",
   "execution_count": 20,
   "id": "1e849918",
   "metadata": {},
   "outputs": [
    {
     "name": "stdout",
     "output_type": "stream",
     "text": [
      "The characters in 'gmn' appear in the same order in 'programming'.\n"
     ]
    }
   ],
   "source": [
    "result = p.check_order_of_characters(input_str,pattern_str)\n",
    "if result:\n",
    "    print(f\"The characters in '{pattern_str}' appear in the same order in '{input_str}'.\")\n",
    "else:\n",
    "    print(f\"The characters in '{pattern_str}' do not appear in the same order in '{input_str}'.\")"
   ]
  },
  {
   "cell_type": "markdown",
   "id": "c8608e8d",
   "metadata": {},
   "source": [
    "# Q7.Write a Python program to sort Python Dictionaries by Key or Value?"
   ]
  },
  {
   "cell_type": "code",
   "execution_count": 50,
   "id": "9d4af6ba",
   "metadata": {},
   "outputs": [],
   "source": [
    "class pro7:\n",
    "    def sort_dic(self,my_dict):\n",
    "        sorted_keys = sorted(my_dict.keys())\n",
    "        sorted_dict = {key: my_dict[key] for key in sorted_keys}\n",
    "        return sorted_dict"
   ]
  },
  {
   "cell_type": "code",
   "execution_count": 51,
   "id": "5315cb9c",
   "metadata": {},
   "outputs": [],
   "source": [
    "p = pro7()"
   ]
  },
  {
   "cell_type": "code",
   "execution_count": 52,
   "id": "4e80c7cb",
   "metadata": {},
   "outputs": [
    {
     "data": {
      "text/plain": [
       "{'apple': 1, 'banana': 3, 'orange': 2}"
      ]
     },
     "execution_count": 52,
     "metadata": {},
     "output_type": "execute_result"
    }
   ],
   "source": [
    "p.sort_dic({'banana': 3, 'apple': 1, 'orange': 2})"
   ]
  },
  {
   "cell_type": "code",
   "execution_count": 55,
   "id": "9b70b0a3",
   "metadata": {},
   "outputs": [],
   "source": [
    "class pro7:\n",
    "    def sort_dic(self,my_dict):\n",
    "        sorted_keys = sorted(my_dict.items())\n",
    "        sorted_dict = {key: value for key,value in sorted_keys}\n",
    "        return sorted_dict"
   ]
  },
  {
   "cell_type": "code",
   "execution_count": 56,
   "id": "a609908a",
   "metadata": {},
   "outputs": [
    {
     "data": {
      "text/plain": [
       "{'apple': 1, 'banana': 3, 'orange': 2}"
      ]
     },
     "execution_count": 56,
     "metadata": {},
     "output_type": "execute_result"
    }
   ],
   "source": [
    "p.sort_dic({'banana': 3, 'apple': 1, 'orange': 2})"
   ]
  },
  {
   "cell_type": "code",
   "execution_count": null,
   "id": "70251ad9",
   "metadata": {},
   "outputs": [],
   "source": []
  },
  {
   "cell_type": "code",
   "execution_count": null,
   "id": "4ddce433",
   "metadata": {},
   "outputs": [],
   "source": []
  }
 ],
 "metadata": {
  "kernelspec": {
   "display_name": "Python 3 (ipykernel)",
   "language": "python",
   "name": "python3"
  },
  "language_info": {
   "codemirror_mode": {
    "name": "ipython",
    "version": 3
   },
   "file_extension": ".py",
   "mimetype": "text/x-python",
   "name": "python",
   "nbconvert_exporter": "python",
   "pygments_lexer": "ipython3",
   "version": "3.9.13"
  }
 },
 "nbformat": 4,
 "nbformat_minor": 5
}
