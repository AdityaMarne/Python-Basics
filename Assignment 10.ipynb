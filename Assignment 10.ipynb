{
 "cells": [
  {
   "cell_type": "markdown",
   "id": "12ed811e",
   "metadata": {},
   "source": [
    "# 1. How do you distinguish between shutil.copy() and shutil.copytree()?"
   ]
  },
  {
   "cell_type": "markdown",
   "id": "b0f8e03a",
   "metadata": {},
   "source": [
    "shutil.copy()\n",
    "\n",
    "shutil.copy() method in python is used to copy the content of source file to destination file or directory.\n",
    "It also preserves the file's permission mobe but other metadata of the file like the file's creation and modification times is not preserved.\n",
    "Source must represent a file but destination can be a file or a directory.\n",
    "If the destination is a directory then the file will be copied into destination using filename from source.\n",
    "if destination is a file and already exists then it will be replaced with the source file otherwise new file will be created.\n",
    "\n",
    "Syntax : \n",
    "\n",
    "shutil.copy(source,destination)\n",
    "\n",
    "\n",
    "where source : A string representing the path of the source file.\n",
    "      destination : A string representing the path of the destination file or directory.\n",
    "      "
   ]
  },
  {
   "cell_type": "markdown",
   "id": "90cc88c1",
   "metadata": {},
   "source": [
    "shutil.copytree()\n",
    "\n",
    "shutil.copytree() method recursively copies an entire directory tree rooted at source to the destination directory.\n",
    "The destination directory named by must not already exist.\n",
    "It will be created during copying.\n",
    "\n",
    "Syntax :\n",
    "shutil.copytree(source,destination)\n",
    "\n",
    "\n",
    "where source : A string representing the path of the source file.\n",
    "      destination : A string representing the path of the destination file or directory."
   ]
  },
  {
   "cell_type": "markdown",
   "id": "46b24e53",
   "metadata": {},
   "source": [
    "# 2. What function is used to rename files?"
   ]
  },
  {
   "cell_type": "code",
   "execution_count": null,
   "id": "899dd585",
   "metadata": {},
   "outputs": [],
   "source": [
    "import os \n",
    "os.rename(\"text.txt\",\"testnew.txt\")"
   ]
  },
  {
   "cell_type": "markdown",
   "id": "3d27fd27",
   "metadata": {},
   "source": [
    "# 3. What is the difference between the delete functions in the send2trash and shutil modules?"
   ]
  },
  {
   "cell_type": "code",
   "execution_count": null,
   "id": "73dcc918",
   "metadata": {},
   "outputs": [],
   "source": [
    "import shutil\n",
    "shutil.retree():\n",
    "The shutil module’s rmtree() function can be used to delete files or folders. But, this function delete the files\n",
    "permanently. \n",
    "The operations cannot be undone if there were any accidental deletions performed \n",
    "\n",
    "\n",
    "\n",
    "import send2trash\n",
    "\n",
    "send2trash.send2trash() : Using send2trash, we can send files to the Trash or Recycle Bin instead of permanently \n",
    "deleting them.\n",
    "If the directory contains files or other folders, those are also deleted. A TrashPermissionError exception is raised, \n",
    "in case a file could not be deleted due to permission error or any other unexpected reason.\n",
    "\n",
    "\n",
    "import shutil\n",
    "import send2trash\n",
    "shutil.rmtree(\"path\")\n",
    "send2trash.send2trash(\"path\")"
   ]
  },
  {
   "cell_type": "markdown",
   "id": "1d350a00",
   "metadata": {},
   "source": [
    "# 4.ZipFile objects have a close() method just like File objects’ close() method. What ZipFile method is equivalent to File objects’ open() method?"
   ]
  },
  {
   "cell_type": "code",
   "execution_count": null,
   "id": "7b58702f",
   "metadata": {},
   "outputs": [],
   "source": [
    "from zipfile import Zipfile\n",
    "with ZipFile(file_name, 'r') as zip:\n",
    "    \n",
    "this code will open specified zipfile for us. \n",
    "we can use zip object to preform other operation the ziplife. like zip.read()\n"
   ]
  },
  {
   "cell_type": "markdown",
   "id": "a7fe7cd1",
   "metadata": {},
   "source": [
    "# 5.Create a programme that searches a folder tree for files with a certain file extension (such as .pdf or .jpg). Copy these files from whatever location they are in to a new folder."
   ]
  },
  {
   "cell_type": "code",
   "execution_count": 3,
   "id": "fdd00894",
   "metadata": {},
   "outputs": [
    {
     "name": "stdout",
     "output_type": "stream",
     "text": [
      "Looking in D:\\GitHub for files with extensions of .mp4, .pdf, .jpg\n",
      "Coping D:\\GitHub\\10_10_2022_github_notes.pdf to D:\\New folder\n",
      "Coping D:\\GitHub\\11_10_2022_github_notes.pdf to D:\\New folder\n",
      "Coping D:\\GitHub\\Git Architecture (1).pdf to D:\\New folder\n",
      "Coping D:\\GitHub\\Git Architecture.pdf to D:\\New folder\n"
     ]
    }
   ],
   "source": [
    "import os, shutil\n",
    "\n",
    "def selectiveCopy(source, extensions, destination):\n",
    "    folder = os.path.abspath(source)\n",
    "    destination = os.path.abspath(destination)\n",
    "    print('Looking in', source, 'for files with extensions of', ', '.join(extensions))\n",
    "    for foldername, subfolders, filenames in os.walk(source):\n",
    "        for filename in filenames:\n",
    "            name, extension = os.path.splitext(filename)\n",
    "            if extension in extensions:\n",
    "                fileAbsPath = foldername + os.path.sep + filename\n",
    "                print('Coping', fileAbsPath, 'to', destination)\n",
    "                shutil.copy(fileAbsPath, destination)\n",
    "\n",
    "extensions = ['.mp4', '.pdf','.jpg']\n",
    "source = \"D:\\GitHub\"\n",
    "destination = \"D:\\\\New folder\"\n",
    "selectiveCopy(source, extensions, destination)"
   ]
  },
  {
   "cell_type": "code",
   "execution_count": null,
   "id": "3276d699",
   "metadata": {},
   "outputs": [],
   "source": []
  }
 ],
 "metadata": {
  "kernelspec": {
   "display_name": "Python 3 (ipykernel)",
   "language": "python",
   "name": "python3"
  },
  "language_info": {
   "codemirror_mode": {
    "name": "ipython",
    "version": 3
   },
   "file_extension": ".py",
   "mimetype": "text/x-python",
   "name": "python",
   "nbconvert_exporter": "python",
   "pygments_lexer": "ipython3",
   "version": "3.9.13"
  }
 },
 "nbformat": 4,
 "nbformat_minor": 5
}
