{
 "cells": [
  {
   "cell_type": "markdown",
   "id": "907765d4",
   "metadata": {},
   "source": [
    "1.\tWrite a Python program to find sum of elements in list?\n",
    "2.\tWrite a Python program to  Multiply all numbers in the list?\n",
    "3.\tWrite a Python program to find smallest number in a list?\n",
    "4.\tWrite a Python program to find largest number in a list?\n",
    "5.\tWrite a Python program to find second largest number in a list?\n",
    "6.\tWrite a Python program to find N largest elements from a list?\n",
    "7.\tWrite a Python program to print even numbers in a list?\n",
    "8.\tWrite a Python program to print odd numbers in a List?\n",
    "9.\tWrite a Python program to Remove empty List from List?\n",
    "10.\tWrite a Python program to Cloning or Copying a list?\n",
    "11.\tWrite a Python program to Count occurrences of an element in a list?\n"
   ]
  },
  {
   "cell_type": "markdown",
   "id": "b8955212",
   "metadata": {},
   "source": [
    "# Q1. Write a Python program to find sum of elements in list?"
   ]
  },
  {
   "cell_type": "code",
   "execution_count": 4,
   "id": "96bad18b",
   "metadata": {},
   "outputs": [],
   "source": [
    "class pro1:\n",
    "    def __init__(self,lst):\n",
    "        self.lst = lst\n",
    "    def sum(self):\n",
    "        if type(self.lst) == list:\n",
    "            sum = 0\n",
    "            for i in range(len(self.lst)):\n",
    "                sum = sum + self.lst[i]\n",
    "            return sum\n",
    "        else:\n",
    "            print(\"Pls provide list\")"
   ]
  },
  {
   "cell_type": "code",
   "execution_count": 9,
   "id": "0a87334c",
   "metadata": {},
   "outputs": [],
   "source": [
    "p = pro1([1,2,3])"
   ]
  },
  {
   "cell_type": "code",
   "execution_count": 10,
   "id": "0ebec191",
   "metadata": {},
   "outputs": [
    {
     "data": {
      "text/plain": [
       "6"
      ]
     },
     "execution_count": 10,
     "metadata": {},
     "output_type": "execute_result"
    }
   ],
   "source": [
    "p.sum()"
   ]
  },
  {
   "cell_type": "code",
   "execution_count": 12,
   "id": "c0f3af68",
   "metadata": {},
   "outputs": [],
   "source": [
    "p1 = pro1(1)"
   ]
  },
  {
   "cell_type": "code",
   "execution_count": 13,
   "id": "1750e741",
   "metadata": {},
   "outputs": [
    {
     "name": "stdout",
     "output_type": "stream",
     "text": [
      "Pls provide list\n"
     ]
    }
   ],
   "source": [
    "p1.sum()"
   ]
  },
  {
   "cell_type": "markdown",
   "id": "8f48213c",
   "metadata": {},
   "source": [
    "# Q2.Write a Python program to Multiply all numbers in the list?"
   ]
  },
  {
   "cell_type": "code",
   "execution_count": 14,
   "id": "7fb14144",
   "metadata": {},
   "outputs": [],
   "source": [
    "class pro2:\n",
    "    def __init__(self,lst):\n",
    "        self.lst = lst\n",
    "    def mul(self):\n",
    "        if type(self.lst) == list:\n",
    "            mult = 1\n",
    "            for i in range(len(self.lst)):\n",
    "                mult = mult * self.lst[i]\n",
    "            return mult\n",
    "        else:\n",
    "            print(\"Pls provide list\")"
   ]
  },
  {
   "cell_type": "code",
   "execution_count": 17,
   "id": "841e2819",
   "metadata": {},
   "outputs": [],
   "source": [
    "p2 = pro2([6,3])"
   ]
  },
  {
   "cell_type": "code",
   "execution_count": 18,
   "id": "d6b71745",
   "metadata": {},
   "outputs": [
    {
     "data": {
      "text/plain": [
       "18"
      ]
     },
     "execution_count": 18,
     "metadata": {},
     "output_type": "execute_result"
    }
   ],
   "source": [
    "p2.mul()"
   ]
  },
  {
   "cell_type": "markdown",
   "id": "6e4bd2a6",
   "metadata": {},
   "source": [
    "# Q3.Write a Python program to find smallest number in a list?"
   ]
  },
  {
   "cell_type": "code",
   "execution_count": 32,
   "id": "b72e23cf",
   "metadata": {},
   "outputs": [],
   "source": [
    "class pro3:\n",
    "    def __init__(self,lst):\n",
    "        self.lst = lst\n",
    "    def small(self):\n",
    "        if type(self.lst) == list:\n",
    "            min = self.lst[0]\n",
    "            for i in range(len(self.lst)):\n",
    "                if self.lst[i] < min:\n",
    "                    min = self.lst[i]\n",
    "            return min\n",
    "        else:\n",
    "            print(\"Pls provide list\")"
   ]
  },
  {
   "cell_type": "code",
   "execution_count": 33,
   "id": "9d38691b",
   "metadata": {},
   "outputs": [],
   "source": [
    "p3 = pro3([6,4,1])"
   ]
  },
  {
   "cell_type": "code",
   "execution_count": 34,
   "id": "94c83d09",
   "metadata": {},
   "outputs": [
    {
     "data": {
      "text/plain": [
       "1"
      ]
     },
     "execution_count": 34,
     "metadata": {},
     "output_type": "execute_result"
    }
   ],
   "source": [
    "p3.small()"
   ]
  },
  {
   "cell_type": "markdown",
   "id": "82e03396",
   "metadata": {},
   "source": [
    "# Q4.Write a Python program to find largest number in a list?"
   ]
  },
  {
   "cell_type": "code",
   "execution_count": 37,
   "id": "acc53089",
   "metadata": {},
   "outputs": [],
   "source": [
    "class pro4:\n",
    "    def __init__(self,lst):\n",
    "        self.lst = lst\n",
    "    def longest(self):\n",
    "        if type(self.lst) == list:\n",
    "            max = self.lst[0]\n",
    "            for i in range(len(self.lst)):\n",
    "                if self.lst[i] > max:\n",
    "                    max = self.lst[i]\n",
    "            return max\n",
    "        else:\n",
    "            print(\"Pls provide list\")"
   ]
  },
  {
   "cell_type": "code",
   "execution_count": 38,
   "id": "4b4c4d11",
   "metadata": {},
   "outputs": [],
   "source": [
    "p4 = pro4([1,2,6])"
   ]
  },
  {
   "cell_type": "code",
   "execution_count": 39,
   "id": "a3cfd3d9",
   "metadata": {},
   "outputs": [
    {
     "data": {
      "text/plain": [
       "6"
      ]
     },
     "execution_count": 39,
     "metadata": {},
     "output_type": "execute_result"
    }
   ],
   "source": [
    "p4.longest()"
   ]
  },
  {
   "cell_type": "markdown",
   "id": "b23649b7",
   "metadata": {},
   "source": [
    "# Q5.Write a Python program to find second largest number in a list?"
   ]
  },
  {
   "cell_type": "code",
   "execution_count": 43,
   "id": "5107e6a7",
   "metadata": {},
   "outputs": [],
   "source": [
    "class pro5:\n",
    "    def __init__(self,lst):\n",
    "        self.lst = lst\n",
    "    def find_second_largest(self):\n",
    "        second_largest = 0\n",
    "        largest = min(self.lst)\n",
    "        for num in self.lst:\n",
    "            if num > largest:\n",
    "                second_largest = largest\n",
    "                largest = num\n",
    "            else:\n",
    "                second_largest = max(second_largest, num)\n",
    "        return second_largest"
   ]
  },
  {
   "cell_type": "code",
   "execution_count": 44,
   "id": "55ee8a5c",
   "metadata": {},
   "outputs": [],
   "source": [
    "p5 = pro5([1,2,6,7])"
   ]
  },
  {
   "cell_type": "code",
   "execution_count": 45,
   "id": "2d6caa42",
   "metadata": {},
   "outputs": [
    {
     "data": {
      "text/plain": [
       "6"
      ]
     },
     "execution_count": 45,
     "metadata": {},
     "output_type": "execute_result"
    }
   ],
   "source": [
    "p5.find_second_largest()"
   ]
  },
  {
   "cell_type": "markdown",
   "id": "6a7a3d6a",
   "metadata": {},
   "source": [
    "# Q6.Write a Python program to find N largest elements from a list?"
   ]
  },
  {
   "cell_type": "code",
   "execution_count": 47,
   "id": "036ff490",
   "metadata": {},
   "outputs": [],
   "source": [
    "class pro6:\n",
    "    def __init__(self,lst):\n",
    "        self.lst = lst\n",
    "    def find_n_largest_elements(self,n):\n",
    "        \"\"\"\n",
    "        Finds the N largest elements from a list.\n",
    "\n",
    "        Args:\n",
    "            lst (list): The input list.\n",
    "            n (int): The number of largest elements to find.\n",
    "\n",
    "        Returns:\n",
    "            list: A list containing the N largest elements.\n",
    "        \"\"\"\n",
    "        sorted_lst = sorted(self.lst, reverse=True)\n",
    "        return sorted_lst[:n]"
   ]
  },
  {
   "cell_type": "code",
   "execution_count": 48,
   "id": "7b28653a",
   "metadata": {},
   "outputs": [],
   "source": [
    "p6 = pro6([10, 5, 20, 8, 15, 30])"
   ]
  },
  {
   "cell_type": "code",
   "execution_count": 49,
   "id": "c46d0ef7",
   "metadata": {},
   "outputs": [
    {
     "data": {
      "text/plain": [
       "[30, 20, 15]"
      ]
     },
     "execution_count": 49,
     "metadata": {},
     "output_type": "execute_result"
    }
   ],
   "source": [
    "p6.find_n_largest_elements(3)"
   ]
  },
  {
   "cell_type": "markdown",
   "id": "71809b47",
   "metadata": {},
   "source": [
    "# Q7.Write a Python program to print even numbers in a list?"
   ]
  },
  {
   "cell_type": "code",
   "execution_count": 1,
   "id": "383e49f8",
   "metadata": {},
   "outputs": [],
   "source": [
    "class pro7:\n",
    "    def __init__(self,lst):\n",
    "        self.lst = lst\n",
    "    def even(self):\n",
    "        if type(self.lst == list):\n",
    "            for i in range(len(self.lst)):\n",
    "                if i % 2 == 0:\n",
    "                    print(i)\n",
    "        else:\n",
    "            print(\"Pls provide list.\")"
   ]
  },
  {
   "cell_type": "code",
   "execution_count": 2,
   "id": "a443fdda",
   "metadata": {},
   "outputs": [],
   "source": [
    "p7 = pro7([1,2,3,4,5,6,7,8,9])"
   ]
  },
  {
   "cell_type": "code",
   "execution_count": 3,
   "id": "c4ea80b8",
   "metadata": {},
   "outputs": [
    {
     "name": "stdout",
     "output_type": "stream",
     "text": [
      "0\n",
      "2\n",
      "4\n",
      "6\n",
      "8\n"
     ]
    }
   ],
   "source": [
    "p7.even()"
   ]
  },
  {
   "cell_type": "markdown",
   "id": "fcf85631",
   "metadata": {},
   "source": [
    "# Q8.Write a Python program to print odd numbers in a List?"
   ]
  },
  {
   "cell_type": "code",
   "execution_count": 7,
   "id": "d6200295",
   "metadata": {},
   "outputs": [],
   "source": [
    "class pro8:\n",
    "    def __init__(self,lst):\n",
    "        self.lst = lst\n",
    "    def odd(self):\n",
    "        if type(self.lst == list):\n",
    "            for i in range(len(self.lst)):\n",
    "                if i % 2 != 0:\n",
    "                    print(i)\n",
    "        else:\n",
    "            print(\"Pls provide list.\")"
   ]
  },
  {
   "cell_type": "code",
   "execution_count": 8,
   "id": "41639600",
   "metadata": {},
   "outputs": [],
   "source": [
    "p8 = pro8([1,2,3,4,5,6,7,8,9])"
   ]
  },
  {
   "cell_type": "code",
   "execution_count": 9,
   "id": "8c6d99b4",
   "metadata": {},
   "outputs": [
    {
     "name": "stdout",
     "output_type": "stream",
     "text": [
      "1\n",
      "3\n",
      "5\n",
      "7\n"
     ]
    }
   ],
   "source": [
    "p8.odd()"
   ]
  },
  {
   "cell_type": "markdown",
   "id": "46c567be",
   "metadata": {},
   "source": [
    "# Q9.Write a Python program to Remove empty List from List?"
   ]
  },
  {
   "cell_type": "code",
   "execution_count": 26,
   "id": "c6d4ae33",
   "metadata": {},
   "outputs": [],
   "source": [
    "class pro9:\n",
    "    def __init__(self,lst):\n",
    "        self.lst = lst\n",
    "    def removeEmptyList(self):\n",
    "        if type(self.lst) == list:\n",
    "            for i in self.lst:\n",
    "                if len(i) != 0:\n",
    "                    print(i)\n",
    "        else:\n",
    "            print(\"Pls provide list.\")"
   ]
  },
  {
   "cell_type": "code",
   "execution_count": 27,
   "id": "b3e368df",
   "metadata": {},
   "outputs": [],
   "source": [
    "p9 = pro9([[1,2,3],[],[],[4,5,6]])"
   ]
  },
  {
   "cell_type": "code",
   "execution_count": 28,
   "id": "3b4dbb22",
   "metadata": {},
   "outputs": [
    {
     "name": "stdout",
     "output_type": "stream",
     "text": [
      "[1, 2, 3]\n",
      "[4, 5, 6]\n"
     ]
    }
   ],
   "source": [
    "p9.removeEmptyList()"
   ]
  },
  {
   "cell_type": "markdown",
   "id": "c1453439",
   "metadata": {},
   "source": [
    "# Q10.Write a Python program to Cloning or Copying a list?"
   ]
  },
  {
   "cell_type": "code",
   "execution_count": 31,
   "id": "72d2d66d",
   "metadata": {},
   "outputs": [],
   "source": [
    "class pro10:\n",
    "    def __init__(self,lst):\n",
    "        self.lst = lst\n",
    "    def clone(self):\n",
    "        if type(self.lst) == list:\n",
    "            newlst = self.lst.copy()\n",
    "            print(newlst)\n",
    "        else:\n",
    "            print(\"PLs provide list\")"
   ]
  },
  {
   "cell_type": "code",
   "execution_count": 32,
   "id": "10ca1e0e",
   "metadata": {},
   "outputs": [],
   "source": [
    "p10 = pro10([1,2,3,4,5])"
   ]
  },
  {
   "cell_type": "code",
   "execution_count": 33,
   "id": "4959e8bd",
   "metadata": {},
   "outputs": [
    {
     "name": "stdout",
     "output_type": "stream",
     "text": [
      "[1, 2, 3, 4, 5]\n"
     ]
    }
   ],
   "source": [
    "p10.clone()"
   ]
  },
  {
   "cell_type": "markdown",
   "id": "42067fa7",
   "metadata": {},
   "source": [
    "# Q11.Write a Python program to Count occurrences of an element in a list?"
   ]
  },
  {
   "cell_type": "code",
   "execution_count": 39,
   "id": "7b87ce2d",
   "metadata": {},
   "outputs": [],
   "source": [
    "class pro11:\n",
    "    def __init__(self,lst):\n",
    "        self.lst = lst\n",
    "    def elementCount(self):\n",
    "        if type(self.lst) == list:\n",
    "            n = int(input(\"Enter element that you want to find count :\"))\n",
    "            print(self.lst.count(n))\n",
    "        else:\n",
    "            print(\"Pls provide list\")"
   ]
  },
  {
   "cell_type": "code",
   "execution_count": 40,
   "id": "1aad4260",
   "metadata": {},
   "outputs": [],
   "source": [
    "p11 = pro11([1,1,2,2,3,3,4])"
   ]
  },
  {
   "cell_type": "code",
   "execution_count": 41,
   "id": "03d9be6d",
   "metadata": {},
   "outputs": [
    {
     "name": "stdout",
     "output_type": "stream",
     "text": [
      "Enter element that you want to find count :1\n",
      "2\n"
     ]
    }
   ],
   "source": [
    "p11.elementCount()"
   ]
  },
  {
   "cell_type": "code",
   "execution_count": null,
   "id": "48563b8e",
   "metadata": {},
   "outputs": [],
   "source": []
  }
 ],
 "metadata": {
  "kernelspec": {
   "display_name": "Python 3 (ipykernel)",
   "language": "python",
   "name": "python3"
  },
  "language_info": {
   "codemirror_mode": {
    "name": "ipython",
    "version": 3
   },
   "file_extension": ".py",
   "mimetype": "text/x-python",
   "name": "python",
   "nbconvert_exporter": "python",
   "pygments_lexer": "ipython3",
   "version": "3.9.13"
  }
 },
 "nbformat": 4,
 "nbformat_minor": 5
}
