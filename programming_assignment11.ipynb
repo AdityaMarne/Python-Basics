{
 "cells": [
  {
   "cell_type": "markdown",
   "id": "4548b2ae",
   "metadata": {},
   "source": [
    "1.\tWrite a Python program to find words which are greater than given length k?\n",
    "2.\tWrite a Python program for removing i-th character from a string?\n",
    "3.\tWrite a Python program to split and join a string?\n",
    "4.\tWrite a Python to check if a given string is binary string or not?\n",
    "5.\tWrite a Python program to find uncommon words from two Strings?\n",
    "6.\tWrite a Python to find all duplicate characters in string?\n",
    "7.\tWrite a Python Program to check if a string contains any special character?\n"
   ]
  },
  {
   "cell_type": "markdown",
   "id": "737187b4",
   "metadata": {},
   "source": [
    "# Q1.Write a Python program to find words which are greater than given length k?"
   ]
  },
  {
   "cell_type": "code",
   "execution_count": 12,
   "id": "1453df18",
   "metadata": {},
   "outputs": [],
   "source": [
    "class pro1:\n",
    "    def find_word(self):\n",
    "        sentence = str(input(\"Enter a sentenece :\"))\n",
    "        length = int(input(\"Enter length of word to find :\"))\n",
    "        for i in sentence.split():\n",
    "            if len(i) > length:\n",
    "                print(i)"
   ]
  },
  {
   "cell_type": "code",
   "execution_count": 13,
   "id": "d627ba8a",
   "metadata": {},
   "outputs": [],
   "source": [
    "p1 = pro1()"
   ]
  },
  {
   "cell_type": "code",
   "execution_count": 14,
   "id": "9d13ca2a",
   "metadata": {},
   "outputs": [
    {
     "name": "stdout",
     "output_type": "stream",
     "text": [
      "Enter a sentenece :Aditya Shankar Marne\n",
      "Enter length of word to find :5\n",
      "Aditya\n",
      "Shankar\n"
     ]
    }
   ],
   "source": [
    "p1.find_word()"
   ]
  },
  {
   "cell_type": "markdown",
   "id": "5d7fe623",
   "metadata": {},
   "source": [
    "# Q2.Write a Python program for removing i-th character from a string?"
   ]
  },
  {
   "cell_type": "code",
   "execution_count": 18,
   "id": "224ef697",
   "metadata": {},
   "outputs": [],
   "source": [
    "class pro2:\n",
    "    def remichar(self):\n",
    "        string = str(input(\"Enter a string :\"))\n",
    "        pos = int(input(\"Enter a position :\"))\n",
    "        string = string[0:pos-1]+string[pos:]\n",
    "        print(string)"
   ]
  },
  {
   "cell_type": "code",
   "execution_count": 19,
   "id": "b048d47c",
   "metadata": {},
   "outputs": [],
   "source": [
    "p2 = pro2()"
   ]
  },
  {
   "cell_type": "code",
   "execution_count": 20,
   "id": "8fc7aac7",
   "metadata": {},
   "outputs": [
    {
     "name": "stdout",
     "output_type": "stream",
     "text": [
      "Enter a string :Aditya\n",
      "Enter a position :2\n",
      "Aitya\n"
     ]
    }
   ],
   "source": [
    "p2.remichar()"
   ]
  },
  {
   "cell_type": "markdown",
   "id": "38997319",
   "metadata": {},
   "source": [
    "# Q3.Write a Python program to split and join a string?"
   ]
  },
  {
   "cell_type": "code",
   "execution_count": 40,
   "id": "9409e444",
   "metadata": {},
   "outputs": [],
   "source": [
    "class pro3:\n",
    "    def splitjoin(self):\n",
    "        string = str(input(\"Enter a string :\"))\n",
    "        spllst = []\n",
    "        new  = \"\"\n",
    "        for i in range(len(string)):\n",
    "            spllst.append(string[i])\n",
    "        print(\"After spliting :\",spllst)\n",
    "        for i in spllst:\n",
    "            new = new + i\n",
    "        print(\"After joining :\",new)"
   ]
  },
  {
   "cell_type": "code",
   "execution_count": 41,
   "id": "7da9a40c",
   "metadata": {},
   "outputs": [],
   "source": [
    "p3 = pro3()"
   ]
  },
  {
   "cell_type": "code",
   "execution_count": 42,
   "id": "14de80a5",
   "metadata": {},
   "outputs": [
    {
     "name": "stdout",
     "output_type": "stream",
     "text": [
      "Enter a string :adi\n",
      "After spliting : ['a', 'd', 'i']\n",
      "After joining : adi\n"
     ]
    }
   ],
   "source": [
    "p3.splitjoin()"
   ]
  },
  {
   "cell_type": "markdown",
   "id": "8fc6ca54",
   "metadata": {},
   "source": [
    "# Q4.Write a Python to check if a given string is binary string or not?"
   ]
  },
  {
   "cell_type": "code",
   "execution_count": 7,
   "id": "509a546d",
   "metadata": {},
   "outputs": [],
   "source": [
    "class pro4:\n",
    "    def __init__(self,string):\n",
    "        self.string = string\n",
    "    def checkbinary(self):\n",
    "        s = {'0','1'}\n",
    "        p = set(self.string)\n",
    "        if s == p or p == {'0'} or p == {'1'}:\n",
    "            print('Yes,It is a binary string.')\n",
    "        else:\n",
    "            print(\"No,It is not a binary string.\")"
   ]
  },
  {
   "cell_type": "code",
   "execution_count": 8,
   "id": "e00241be",
   "metadata": {},
   "outputs": [],
   "source": [
    "p4 = pro4('01110')"
   ]
  },
  {
   "cell_type": "code",
   "execution_count": 9,
   "id": "5bfae63f",
   "metadata": {},
   "outputs": [
    {
     "name": "stdout",
     "output_type": "stream",
     "text": [
      "Yes,It is a binary string.\n"
     ]
    }
   ],
   "source": [
    "p4.checkbinary()"
   ]
  },
  {
   "cell_type": "markdown",
   "id": "3e294261",
   "metadata": {},
   "source": [
    "# Q5.Write a Python program to find uncommon words from two Strings?"
   ]
  },
  {
   "cell_type": "code",
   "execution_count": 79,
   "id": "23dff435",
   "metadata": {},
   "outputs": [],
   "source": [
    "class pro5:\n",
    "    def __init__(self,string1,string2):\n",
    "        self.string1 = string1\n",
    "        self.string2 = string2\n",
    "    def uncommonword(self):\n",
    "        uncomwor = []\n",
    "        for i in range(len(self.string1)):\n",
    "            if self.string1[i] not in self.string2:\n",
    "                uncomwor.append(self.string1[i])\n",
    "        for i in range(len(self.string2)):\n",
    "            if self.string2[i] not in self.string1:\n",
    "                uncomwor.append(self.string2[i])\n",
    "        return uncomwor"
   ]
  },
  {
   "cell_type": "code",
   "execution_count": 80,
   "id": "e9081421",
   "metadata": {},
   "outputs": [],
   "source": [
    "p5 = pro5('xyz','aditya')"
   ]
  },
  {
   "cell_type": "code",
   "execution_count": 81,
   "id": "45dfa02e",
   "metadata": {},
   "outputs": [
    {
     "data": {
      "text/plain": [
       "['x', 'z', 'a', 'd', 'i', 't', 'a']"
      ]
     },
     "execution_count": 81,
     "metadata": {},
     "output_type": "execute_result"
    }
   ],
   "source": [
    "p5.uncommonword()"
   ]
  },
  {
   "cell_type": "markdown",
   "id": "b9174fe2",
   "metadata": {},
   "source": [
    "# Q6.Write a Python to find all duplicate characters in string?"
   ]
  },
  {
   "cell_type": "code",
   "execution_count": 85,
   "id": "a09fca73",
   "metadata": {},
   "outputs": [],
   "source": [
    "class pro6:\n",
    "    def __init__(self,string1,string2):\n",
    "        self.string1 = string1\n",
    "        self.string2 = string2\n",
    "    def commonword(self):\n",
    "        comwor = []\n",
    "        for i in range(len(self.string1)):\n",
    "            if self.string1[i] in self.string2:\n",
    "                comwor.append(self.string1[i])\n",
    "        return comwor"
   ]
  },
  {
   "cell_type": "code",
   "execution_count": 86,
   "id": "dc6ea150",
   "metadata": {},
   "outputs": [],
   "source": [
    "p6 = pro6('xyz','aditya')"
   ]
  },
  {
   "cell_type": "code",
   "execution_count": 87,
   "id": "cea0f802",
   "metadata": {},
   "outputs": [
    {
     "data": {
      "text/plain": [
       "['y']"
      ]
     },
     "execution_count": 87,
     "metadata": {},
     "output_type": "execute_result"
    }
   ],
   "source": [
    "p6.commonword()"
   ]
  },
  {
   "cell_type": "markdown",
   "id": "5ffd7e56",
   "metadata": {},
   "source": [
    "# Q7.Write a Python Program to check if a string contains any special character?"
   ]
  },
  {
   "cell_type": "code",
   "execution_count": 103,
   "id": "fb460dee",
   "metadata": {},
   "outputs": [],
   "source": [
    "class pro7:\n",
    "    def __init__(self,string):\n",
    "        self.string = string\n",
    "    def findspechar(self):\n",
    "        specchar = []\n",
    "        for i in range(len(self.string)):\n",
    "            if ord(self.string[i]) >= 32 and ord(self.string[i]) <= 47 or ord(self.string[i]) >= 58 and ord(self.string[i]) <= 64 or ord(self.string[i]) >= 91 and ord(self.string[i]) <= 96 or ord(self.string[i]) >= 123 and ord(self.string[i]) <= 126:\n",
    "                specchar.append(self.string[i])\n",
    "        return specchar"
   ]
  },
  {
   "cell_type": "code",
   "execution_count": 106,
   "id": "41ded1e3",
   "metadata": {},
   "outputs": [],
   "source": [
    "p7 = pro7(\"adi%#!@TYA\")"
   ]
  },
  {
   "cell_type": "code",
   "execution_count": 107,
   "id": "3a8c2378",
   "metadata": {},
   "outputs": [
    {
     "data": {
      "text/plain": [
       "['%', '#', '!', '@']"
      ]
     },
     "execution_count": 107,
     "metadata": {},
     "output_type": "execute_result"
    }
   ],
   "source": [
    "p7.findspechar()"
   ]
  },
  {
   "cell_type": "code",
   "execution_count": 96,
   "id": "3e9880a8",
   "metadata": {},
   "outputs": [],
   "source": []
  },
  {
   "cell_type": "code",
   "execution_count": null,
   "id": "bd492e6d",
   "metadata": {},
   "outputs": [],
   "source": []
  },
  {
   "cell_type": "code",
   "execution_count": null,
   "id": "a7d19db0",
   "metadata": {},
   "outputs": [],
   "source": []
  }
 ],
 "metadata": {
  "kernelspec": {
   "display_name": "Python 3 (ipykernel)",
   "language": "python",
   "name": "python3"
  },
  "language_info": {
   "codemirror_mode": {
    "name": "ipython",
    "version": 3
   },
   "file_extension": ".py",
   "mimetype": "text/x-python",
   "name": "python",
   "nbconvert_exporter": "python",
   "pygments_lexer": "ipython3",
   "version": "3.9.13"
  }
 },
 "nbformat": 4,
 "nbformat_minor": 5
}
