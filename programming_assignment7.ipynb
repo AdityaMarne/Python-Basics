{
 "cells": [
  {
   "cell_type": "markdown",
   "id": "d587e615",
   "metadata": {},
   "source": [
    "# 1.\tWrite a Python Program to find sum of array?"
   ]
  },
  {
   "cell_type": "code",
   "execution_count": 1,
   "id": "b57a5da8",
   "metadata": {},
   "outputs": [
    {
     "name": "stdout",
     "output_type": "stream",
     "text": [
      "15\n"
     ]
    }
   ],
   "source": [
    "l = [1,2,3,4,5]\n",
    "sum = 0\n",
    "for i in l:\n",
    "    sum += i\n",
    "print(sum)"
   ]
  },
  {
   "cell_type": "markdown",
   "id": "907993eb",
   "metadata": {},
   "source": [
    "# 2.\tWrite a Python Program to find largest element in an array?"
   ]
  },
  {
   "cell_type": "code",
   "execution_count": 2,
   "id": "ca163bc2",
   "metadata": {},
   "outputs": [
    {
     "name": "stdout",
     "output_type": "stream",
     "text": [
      "5\n"
     ]
    }
   ],
   "source": [
    "l = [1,2,5,3,4]\n",
    "max = l[0]\n",
    "for i in l:\n",
    "    if i > max:\n",
    "        max = i\n",
    "print(max)"
   ]
  },
  {
   "cell_type": "markdown",
   "id": "7328e944",
   "metadata": {},
   "source": [
    "# 3.\tWrite a Python Program for array rotation?"
   ]
  },
  {
   "cell_type": "code",
   "execution_count": 3,
   "id": "75c13eee",
   "metadata": {},
   "outputs": [
    {
     "data": {
      "text/plain": [
       "[5, 4, 3, 2, 1]"
      ]
     },
     "execution_count": 3,
     "metadata": {},
     "output_type": "execute_result"
    }
   ],
   "source": [
    "l = [1,2,3,4,5]\n",
    "l[::-1]"
   ]
  },
  {
   "cell_type": "markdown",
   "id": "6eb7c4ee",
   "metadata": {},
   "source": [
    "# 4.\tWrite a Python Program to Split the array and add the first part to the end?"
   ]
  },
  {
   "cell_type": "code",
   "execution_count": 10,
   "id": "17327373",
   "metadata": {},
   "outputs": [
    {
     "name": "stdout",
     "output_type": "stream",
     "text": [
      "[3, 4, 5, 1, 2]\n"
     ]
    }
   ],
   "source": [
    "def split_and_add(arr, position):\n",
    "    return arr[position:] + arr[:position]\n",
    "\n",
    "# Test the function\n",
    "arr = [1, 2, 3, 4, 5]\n",
    "position = 2\n",
    "print(split_and_add(arr, position))  # Output: [3, 4, 5, 1, 2]\n"
   ]
  },
  {
   "cell_type": "markdown",
   "id": "a9289aa4",
   "metadata": {},
   "source": [
    "# 5.\tWrite a Python Program to check if given array is Monotonic?"
   ]
  },
  {
   "cell_type": "code",
   "execution_count": 11,
   "id": "5f939898",
   "metadata": {},
   "outputs": [],
   "source": [
    "def isMonotonic(array):\n",
    "    if len(array) <= 2:\n",
    "        return True\n",
    "\n",
    "    direction = array[1] - array[0]\n",
    "    for i in range(2, len(array)):\n",
    "        if direction == 0:\n",
    "            direction = array[i] - array[i - 1]\n",
    "            continue\n",
    "        if breaksDirection(direction, array[i - 1], array[i]):\n",
    "            return False\n",
    "\n",
    "    return True\n",
    "\n",
    "def breaksDirection(direction, previousInt, currentInt):\n",
    "    difference = currentInt - previousInt\n",
    "    if direction > 0:\n",
    "        return difference < 0\n",
    "    return difference > 0"
   ]
  },
  {
   "cell_type": "code",
   "execution_count": null,
   "id": "a2c11fd0",
   "metadata": {},
   "outputs": [],
   "source": []
  }
 ],
 "metadata": {
  "kernelspec": {
   "display_name": "Python 3 (ipykernel)",
   "language": "python",
   "name": "python3"
  },
  "language_info": {
   "codemirror_mode": {
    "name": "ipython",
    "version": 3
   },
   "file_extension": ".py",
   "mimetype": "text/x-python",
   "name": "python",
   "nbconvert_exporter": "python",
   "pygments_lexer": "ipython3",
   "version": "3.9.13"
  }
 },
 "nbformat": 4,
 "nbformat_minor": 5
}
